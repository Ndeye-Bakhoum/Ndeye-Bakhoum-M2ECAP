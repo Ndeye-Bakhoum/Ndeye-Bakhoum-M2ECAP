{
 "cells": [
  {
   "cell_type": "markdown",
   "id": "0e06d060",
   "metadata": {},
   "source": [
    "# ARBRE DE DÉCISION : PRÉDICITON DE VENTES DE MAISON \n"
   ]
  },
  {
   "cell_type": "code",
   "execution_count": 788,
   "id": "c5a07061",
   "metadata": {},
   "outputs": [],
   "source": [
    "# IMPORTATION DE TOUTES LES LIBRARIES\n",
    "import pandas as pd\n",
    "import matplotlib.pyplot as plt\n",
    "import seaborn as sns\n",
    "from sklearn.tree import DecisionTreeRegressor\n",
    "from sklearn.ensemble import RandomForestRegressor\n",
    "from sklearn.preprocessing import StandardScaler"
   ]
  },
  {
   "cell_type": "markdown",
   "id": "eb6dd307",
   "metadata": {},
   "source": [
    "L'objectif est d'appliquer plusieurs méthodes de machines learning afin de prédire la vente d'une maison . \n",
    "Pour cela , nous avons pris une base de données test qui est composée de 80 variables.\n",
    "La variable à prédire est \"SalePrice\""
   ]
  },
  {
   "cell_type": "markdown",
   "id": "42713d25",
   "metadata": {},
   "source": [
    "IMPORTATION DE LA BASE DE DONNÉES"
   ]
  },
  {
   "cell_type": "code",
   "execution_count": 789,
   "id": "986b84f8",
   "metadata": {},
   "outputs": [],
   "source": [
    "path = \"/Users/keitasita/Desktop/Arbre de décision Python/Test prix des maisons .csv\""
   ]
  },
  {
   "cell_type": "code",
   "execution_count": 790,
   "id": "e3692eea",
   "metadata": {},
   "outputs": [],
   "source": [
    "# Importation du jeu d'entraînement\n",
    "maison_test = pd.read_csv(path, sep= \";\",\n",
    "              na_values =\"?\" )\n",
    "                            "
   ]
  },
  {
   "cell_type": "code",
   "execution_count": 791,
   "id": "50988261",
   "metadata": {
    "scrolled": true
   },
   "outputs": [
    {
     "data": {
      "text/html": [
       "<div>\n",
       "<style scoped>\n",
       "    .dataframe tbody tr th:only-of-type {\n",
       "        vertical-align: middle;\n",
       "    }\n",
       "\n",
       "    .dataframe tbody tr th {\n",
       "        vertical-align: top;\n",
       "    }\n",
       "\n",
       "    .dataframe thead th {\n",
       "        text-align: right;\n",
       "    }\n",
       "</style>\n",
       "<table border=\"1\" class=\"dataframe\">\n",
       "  <thead>\n",
       "    <tr style=\"text-align: right;\">\n",
       "      <th></th>\n",
       "      <th>Id</th>\n",
       "      <th>SalePrice</th>\n",
       "      <th>MSSubClass</th>\n",
       "      <th>MSZoning</th>\n",
       "      <th>LotFrontage</th>\n",
       "      <th>LotArea</th>\n",
       "      <th>Street</th>\n",
       "      <th>Alley</th>\n",
       "      <th>LotShape</th>\n",
       "      <th>LandContour</th>\n",
       "      <th>...</th>\n",
       "      <th>ScreenPorch</th>\n",
       "      <th>PoolArea</th>\n",
       "      <th>PoolQC</th>\n",
       "      <th>Fence</th>\n",
       "      <th>MiscFeature</th>\n",
       "      <th>MiscVal</th>\n",
       "      <th>MoSold</th>\n",
       "      <th>YrSold</th>\n",
       "      <th>SaleType</th>\n",
       "      <th>SaleCondition</th>\n",
       "    </tr>\n",
       "  </thead>\n",
       "  <tbody>\n",
       "    <tr>\n",
       "      <th>0</th>\n",
       "      <td>1461</td>\n",
       "      <td>208500</td>\n",
       "      <td>20</td>\n",
       "      <td>RH</td>\n",
       "      <td>80.0</td>\n",
       "      <td>11622</td>\n",
       "      <td>Pave</td>\n",
       "      <td>NaN</td>\n",
       "      <td>Reg</td>\n",
       "      <td>Lvl</td>\n",
       "      <td>...</td>\n",
       "      <td>120</td>\n",
       "      <td>0</td>\n",
       "      <td>NaN</td>\n",
       "      <td>MnPrv</td>\n",
       "      <td>NaN</td>\n",
       "      <td>0</td>\n",
       "      <td>6</td>\n",
       "      <td>2010</td>\n",
       "      <td>WD</td>\n",
       "      <td>Normal</td>\n",
       "    </tr>\n",
       "    <tr>\n",
       "      <th>1</th>\n",
       "      <td>1462</td>\n",
       "      <td>181500</td>\n",
       "      <td>20</td>\n",
       "      <td>RL</td>\n",
       "      <td>81.0</td>\n",
       "      <td>14267</td>\n",
       "      <td>Pave</td>\n",
       "      <td>NaN</td>\n",
       "      <td>IR1</td>\n",
       "      <td>Lvl</td>\n",
       "      <td>...</td>\n",
       "      <td>0</td>\n",
       "      <td>0</td>\n",
       "      <td>NaN</td>\n",
       "      <td>NaN</td>\n",
       "      <td>Gar2</td>\n",
       "      <td>12500</td>\n",
       "      <td>6</td>\n",
       "      <td>2010</td>\n",
       "      <td>WD</td>\n",
       "      <td>Normal</td>\n",
       "    </tr>\n",
       "    <tr>\n",
       "      <th>2</th>\n",
       "      <td>1463</td>\n",
       "      <td>223500</td>\n",
       "      <td>60</td>\n",
       "      <td>RL</td>\n",
       "      <td>74.0</td>\n",
       "      <td>13830</td>\n",
       "      <td>Pave</td>\n",
       "      <td>NaN</td>\n",
       "      <td>IR1</td>\n",
       "      <td>Lvl</td>\n",
       "      <td>...</td>\n",
       "      <td>0</td>\n",
       "      <td>0</td>\n",
       "      <td>NaN</td>\n",
       "      <td>MnPrv</td>\n",
       "      <td>NaN</td>\n",
       "      <td>0</td>\n",
       "      <td>3</td>\n",
       "      <td>2010</td>\n",
       "      <td>WD</td>\n",
       "      <td>Normal</td>\n",
       "    </tr>\n",
       "    <tr>\n",
       "      <th>3</th>\n",
       "      <td>1464</td>\n",
       "      <td>140000</td>\n",
       "      <td>60</td>\n",
       "      <td>RL</td>\n",
       "      <td>78.0</td>\n",
       "      <td>9978</td>\n",
       "      <td>Pave</td>\n",
       "      <td>NaN</td>\n",
       "      <td>IR1</td>\n",
       "      <td>Lvl</td>\n",
       "      <td>...</td>\n",
       "      <td>0</td>\n",
       "      <td>0</td>\n",
       "      <td>NaN</td>\n",
       "      <td>NaN</td>\n",
       "      <td>NaN</td>\n",
       "      <td>0</td>\n",
       "      <td>6</td>\n",
       "      <td>2010</td>\n",
       "      <td>WD</td>\n",
       "      <td>Normal</td>\n",
       "    </tr>\n",
       "    <tr>\n",
       "      <th>4</th>\n",
       "      <td>1465</td>\n",
       "      <td>250000</td>\n",
       "      <td>120</td>\n",
       "      <td>RL</td>\n",
       "      <td>43.0</td>\n",
       "      <td>5005</td>\n",
       "      <td>Pave</td>\n",
       "      <td>NaN</td>\n",
       "      <td>IR1</td>\n",
       "      <td>HLS</td>\n",
       "      <td>...</td>\n",
       "      <td>144</td>\n",
       "      <td>0</td>\n",
       "      <td>NaN</td>\n",
       "      <td>NaN</td>\n",
       "      <td>NaN</td>\n",
       "      <td>0</td>\n",
       "      <td>1</td>\n",
       "      <td>2010</td>\n",
       "      <td>WD</td>\n",
       "      <td>Normal</td>\n",
       "    </tr>\n",
       "    <tr>\n",
       "      <th>...</th>\n",
       "      <td>...</td>\n",
       "      <td>...</td>\n",
       "      <td>...</td>\n",
       "      <td>...</td>\n",
       "      <td>...</td>\n",
       "      <td>...</td>\n",
       "      <td>...</td>\n",
       "      <td>...</td>\n",
       "      <td>...</td>\n",
       "      <td>...</td>\n",
       "      <td>...</td>\n",
       "      <td>...</td>\n",
       "      <td>...</td>\n",
       "      <td>...</td>\n",
       "      <td>...</td>\n",
       "      <td>...</td>\n",
       "      <td>...</td>\n",
       "      <td>...</td>\n",
       "      <td>...</td>\n",
       "      <td>...</td>\n",
       "      <td>...</td>\n",
       "    </tr>\n",
       "    <tr>\n",
       "      <th>1454</th>\n",
       "      <td>2915</td>\n",
       "      <td>185000</td>\n",
       "      <td>160</td>\n",
       "      <td>RM</td>\n",
       "      <td>21.0</td>\n",
       "      <td>1936</td>\n",
       "      <td>Pave</td>\n",
       "      <td>NaN</td>\n",
       "      <td>Reg</td>\n",
       "      <td>Lvl</td>\n",
       "      <td>...</td>\n",
       "      <td>0</td>\n",
       "      <td>0</td>\n",
       "      <td>NaN</td>\n",
       "      <td>NaN</td>\n",
       "      <td>NaN</td>\n",
       "      <td>0</td>\n",
       "      <td>6</td>\n",
       "      <td>2006</td>\n",
       "      <td>WD</td>\n",
       "      <td>Normal</td>\n",
       "    </tr>\n",
       "    <tr>\n",
       "      <th>1455</th>\n",
       "      <td>2916</td>\n",
       "      <td>175000</td>\n",
       "      <td>160</td>\n",
       "      <td>RM</td>\n",
       "      <td>21.0</td>\n",
       "      <td>1894</td>\n",
       "      <td>Pave</td>\n",
       "      <td>NaN</td>\n",
       "      <td>Reg</td>\n",
       "      <td>Lvl</td>\n",
       "      <td>...</td>\n",
       "      <td>0</td>\n",
       "      <td>0</td>\n",
       "      <td>NaN</td>\n",
       "      <td>NaN</td>\n",
       "      <td>NaN</td>\n",
       "      <td>0</td>\n",
       "      <td>4</td>\n",
       "      <td>2006</td>\n",
       "      <td>WD</td>\n",
       "      <td>Abnorml</td>\n",
       "    </tr>\n",
       "    <tr>\n",
       "      <th>1456</th>\n",
       "      <td>2917</td>\n",
       "      <td>210000</td>\n",
       "      <td>20</td>\n",
       "      <td>RL</td>\n",
       "      <td>160.0</td>\n",
       "      <td>20000</td>\n",
       "      <td>Pave</td>\n",
       "      <td>NaN</td>\n",
       "      <td>Reg</td>\n",
       "      <td>Lvl</td>\n",
       "      <td>...</td>\n",
       "      <td>0</td>\n",
       "      <td>0</td>\n",
       "      <td>NaN</td>\n",
       "      <td>NaN</td>\n",
       "      <td>NaN</td>\n",
       "      <td>0</td>\n",
       "      <td>9</td>\n",
       "      <td>2006</td>\n",
       "      <td>WD</td>\n",
       "      <td>Abnorml</td>\n",
       "    </tr>\n",
       "    <tr>\n",
       "      <th>1457</th>\n",
       "      <td>2918</td>\n",
       "      <td>266500</td>\n",
       "      <td>85</td>\n",
       "      <td>RL</td>\n",
       "      <td>62.0</td>\n",
       "      <td>10441</td>\n",
       "      <td>Pave</td>\n",
       "      <td>NaN</td>\n",
       "      <td>Reg</td>\n",
       "      <td>Lvl</td>\n",
       "      <td>...</td>\n",
       "      <td>0</td>\n",
       "      <td>0</td>\n",
       "      <td>NaN</td>\n",
       "      <td>MnPrv</td>\n",
       "      <td>Shed</td>\n",
       "      <td>700</td>\n",
       "      <td>7</td>\n",
       "      <td>2006</td>\n",
       "      <td>WD</td>\n",
       "      <td>Normal</td>\n",
       "    </tr>\n",
       "    <tr>\n",
       "      <th>1458</th>\n",
       "      <td>2919</td>\n",
       "      <td>142125</td>\n",
       "      <td>60</td>\n",
       "      <td>RL</td>\n",
       "      <td>74.0</td>\n",
       "      <td>9627</td>\n",
       "      <td>Pave</td>\n",
       "      <td>NaN</td>\n",
       "      <td>Reg</td>\n",
       "      <td>Lvl</td>\n",
       "      <td>...</td>\n",
       "      <td>0</td>\n",
       "      <td>0</td>\n",
       "      <td>NaN</td>\n",
       "      <td>NaN</td>\n",
       "      <td>NaN</td>\n",
       "      <td>0</td>\n",
       "      <td>11</td>\n",
       "      <td>2006</td>\n",
       "      <td>WD</td>\n",
       "      <td>Normal</td>\n",
       "    </tr>\n",
       "  </tbody>\n",
       "</table>\n",
       "<p>1459 rows × 81 columns</p>\n",
       "</div>"
      ],
      "text/plain": [
       "        Id  SalePrice  MSSubClass MSZoning  LotFrontage  LotArea Street Alley  \\\n",
       "0     1461     208500          20       RH         80.0    11622   Pave   NaN   \n",
       "1     1462     181500          20       RL         81.0    14267   Pave   NaN   \n",
       "2     1463     223500          60       RL         74.0    13830   Pave   NaN   \n",
       "3     1464     140000          60       RL         78.0     9978   Pave   NaN   \n",
       "4     1465     250000         120       RL         43.0     5005   Pave   NaN   \n",
       "...    ...        ...         ...      ...          ...      ...    ...   ...   \n",
       "1454  2915     185000         160       RM         21.0     1936   Pave   NaN   \n",
       "1455  2916     175000         160       RM         21.0     1894   Pave   NaN   \n",
       "1456  2917     210000          20       RL        160.0    20000   Pave   NaN   \n",
       "1457  2918     266500          85       RL         62.0    10441   Pave   NaN   \n",
       "1458  2919     142125          60       RL         74.0     9627   Pave   NaN   \n",
       "\n",
       "     LotShape LandContour  ... ScreenPorch PoolArea PoolQC  Fence MiscFeature  \\\n",
       "0         Reg         Lvl  ...         120        0    NaN  MnPrv         NaN   \n",
       "1         IR1         Lvl  ...           0        0    NaN    NaN        Gar2   \n",
       "2         IR1         Lvl  ...           0        0    NaN  MnPrv         NaN   \n",
       "3         IR1         Lvl  ...           0        0    NaN    NaN         NaN   \n",
       "4         IR1         HLS  ...         144        0    NaN    NaN         NaN   \n",
       "...       ...         ...  ...         ...      ...    ...    ...         ...   \n",
       "1454      Reg         Lvl  ...           0        0    NaN    NaN         NaN   \n",
       "1455      Reg         Lvl  ...           0        0    NaN    NaN         NaN   \n",
       "1456      Reg         Lvl  ...           0        0    NaN    NaN         NaN   \n",
       "1457      Reg         Lvl  ...           0        0    NaN  MnPrv        Shed   \n",
       "1458      Reg         Lvl  ...           0        0    NaN    NaN         NaN   \n",
       "\n",
       "     MiscVal MoSold YrSold  SaleType  SaleCondition  \n",
       "0          0      6   2010        WD         Normal  \n",
       "1      12500      6   2010        WD         Normal  \n",
       "2          0      3   2010        WD         Normal  \n",
       "3          0      6   2010        WD         Normal  \n",
       "4          0      1   2010        WD         Normal  \n",
       "...      ...    ...    ...       ...            ...  \n",
       "1454       0      6   2006        WD         Normal  \n",
       "1455       0      4   2006        WD        Abnorml  \n",
       "1456       0      9   2006        WD        Abnorml  \n",
       "1457     700      7   2006        WD         Normal  \n",
       "1458       0     11   2006        WD         Normal  \n",
       "\n",
       "[1459 rows x 81 columns]"
      ]
     },
     "execution_count": 791,
     "metadata": {},
     "output_type": "execute_result"
    }
   ],
   "source": [
    "maison_test"
   ]
  },
  {
   "cell_type": "markdown",
   "id": "4f90ae5e",
   "metadata": {},
   "source": [
    "VISUALISATION DES VARIABLES "
   ]
  },
  {
   "cell_type": "code",
   "execution_count": 792,
   "id": "8d77dfdf",
   "metadata": {},
   "outputs": [
    {
     "name": "stdout",
     "output_type": "stream",
     "text": [
      "<class 'pandas.core.frame.DataFrame'>\n",
      "RangeIndex: 1459 entries, 0 to 1458\n",
      "Data columns (total 81 columns):\n",
      " #   Column         Non-Null Count  Dtype  \n",
      "---  ------         --------------  -----  \n",
      " 0   Id             1459 non-null   int64  \n",
      " 1   SalePrice      1459 non-null   int64  \n",
      " 2   MSSubClass     1459 non-null   int64  \n",
      " 3   MSZoning       1455 non-null   object \n",
      " 4   LotFrontage    1232 non-null   float64\n",
      " 5   LotArea        1459 non-null   int64  \n",
      " 6   Street         1459 non-null   object \n",
      " 7   Alley          107 non-null    object \n",
      " 8   LotShape       1459 non-null   object \n",
      " 9   LandContour    1459 non-null   object \n",
      " 10  Utilities      1457 non-null   object \n",
      " 11  LotConfig      1459 non-null   object \n",
      " 12  LandSlope      1459 non-null   object \n",
      " 13  Neighborhood   1459 non-null   object \n",
      " 14  Condition1     1459 non-null   object \n",
      " 15  Condition2     1459 non-null   object \n",
      " 16  BldgType       1459 non-null   object \n",
      " 17  HouseStyle     1459 non-null   object \n",
      " 18  OverallQual    1459 non-null   int64  \n",
      " 19  OverallCond    1459 non-null   int64  \n",
      " 20  YearBuilt      1459 non-null   int64  \n",
      " 21  YearRemodAdd   1459 non-null   int64  \n",
      " 22  RoofStyle      1459 non-null   object \n",
      " 23  RoofMatl       1459 non-null   object \n",
      " 24  Exterior1st    1458 non-null   object \n",
      " 25  Exterior2nd    1458 non-null   object \n",
      " 26  MasVnrType     1443 non-null   object \n",
      " 27  MasVnrArea     1444 non-null   float64\n",
      " 28  ExterQual      1459 non-null   object \n",
      " 29  ExterCond      1459 non-null   object \n",
      " 30  Foundation     1459 non-null   object \n",
      " 31  BsmtQual       1415 non-null   object \n",
      " 32  BsmtCond       1414 non-null   object \n",
      " 33  BsmtExposure   1415 non-null   object \n",
      " 34  BsmtFinType1   1417 non-null   object \n",
      " 35  BsmtFinSF1     1458 non-null   float64\n",
      " 36  BsmtFinType2   1417 non-null   object \n",
      " 37  BsmtFinSF2     1458 non-null   float64\n",
      " 38  BsmtUnfSF      1458 non-null   float64\n",
      " 39  TotalBsmtSF    1458 non-null   float64\n",
      " 40  Heating        1459 non-null   object \n",
      " 41  HeatingQC      1459 non-null   object \n",
      " 42  CentralAir     1459 non-null   object \n",
      " 43  Electrical     1459 non-null   object \n",
      " 44  1stFlrSF       1459 non-null   int64  \n",
      " 45  2ndFlrSF       1459 non-null   int64  \n",
      " 46  LowQualFinSF   1459 non-null   int64  \n",
      " 47  GrLivArea      1459 non-null   int64  \n",
      " 48  BsmtFullBath   1457 non-null   float64\n",
      " 49  BsmtHalfBath   1457 non-null   float64\n",
      " 50  FullBath       1459 non-null   int64  \n",
      " 51  HalfBath       1459 non-null   int64  \n",
      " 52  BedroomAbvGr   1459 non-null   int64  \n",
      " 53  KitchenAbvGr   1459 non-null   int64  \n",
      " 54  KitchenQual    1458 non-null   object \n",
      " 55  TotRmsAbvGrd   1459 non-null   int64  \n",
      " 56  Functional     1457 non-null   object \n",
      " 57  Fireplaces     1459 non-null   int64  \n",
      " 58  FireplaceQu    729 non-null    object \n",
      " 59  GarageType     1383 non-null   object \n",
      " 60  GarageYrBlt    1381 non-null   float64\n",
      " 61  GarageFinish   1381 non-null   object \n",
      " 62  GarageCars     1458 non-null   float64\n",
      " 63  GarageArea     1458 non-null   float64\n",
      " 64  GarageQual     1381 non-null   object \n",
      " 65  GarageCond     1381 non-null   object \n",
      " 66  PavedDrive     1459 non-null   object \n",
      " 67  WoodDeckSF     1459 non-null   int64  \n",
      " 68  OpenPorchSF    1459 non-null   int64  \n",
      " 69  EnclosedPorch  1459 non-null   int64  \n",
      " 70  3SsnPorch      1459 non-null   int64  \n",
      " 71  ScreenPorch    1459 non-null   int64  \n",
      " 72  PoolArea       1459 non-null   int64  \n",
      " 73  PoolQC         3 non-null      object \n",
      " 74  Fence          290 non-null    object \n",
      " 75  MiscFeature    51 non-null     object \n",
      " 76  MiscVal        1459 non-null   int64  \n",
      " 77  MoSold         1459 non-null   int64  \n",
      " 78  YrSold         1459 non-null   int64  \n",
      " 79  SaleType       1458 non-null   object \n",
      " 80  SaleCondition  1459 non-null   object \n",
      "dtypes: float64(11), int64(27), object(43)\n",
      "memory usage: 923.4+ KB\n"
     ]
    }
   ],
   "source": [
    "maison_test.info()# On regarde le type de chaque variable ."
   ]
  },
  {
   "cell_type": "markdown",
   "id": "e5c84009",
   "metadata": {},
   "source": [
    "Le constat est que la majorité des variables sont des variables catégorielles . Nous remarquons que certaines variables ont peu de valeurs non nulles.Il s'agit des variables Alley ,FireplaceQu , PoolQC ,Fence  et MiscFeature.C'est du au fait que le NA ou les valeurs manquantes sont considérés comme une modalité pour cetraines variables catégorielles. Nous remarquons également que certaines variables catégorielles ont été converties comme des variables numériques ."
   ]
  },
  {
   "cell_type": "markdown",
   "id": "c0892108",
   "metadata": {},
   "source": [
    "Nous convertissons certaines variables dans leur format idéal"
   ]
  },
  {
   "cell_type": "code",
   "execution_count": 793,
   "id": "8e29e58d",
   "metadata": {},
   "outputs": [],
   "source": [
    "maison_test[['MSSubClass', 'OverallQual', 'OverallCond']] = maison_test[['MSSubClass', 'OverallQual', 'OverallCond']].astype('object')"
   ]
  },
  {
   "cell_type": "code",
   "execution_count": 794,
   "id": "e578a864",
   "metadata": {},
   "outputs": [
    {
     "data": {
      "text/plain": [
       "MSSubClass       object\n",
       "MSZoning         object\n",
       "Street           object\n",
       "Alley            object\n",
       "LotShape         object\n",
       "LandContour      object\n",
       "Utilities        object\n",
       "LotConfig        object\n",
       "LandSlope        object\n",
       "Neighborhood     object\n",
       "Condition1       object\n",
       "Condition2       object\n",
       "BldgType         object\n",
       "HouseStyle       object\n",
       "OverallQual      object\n",
       "OverallCond      object\n",
       "RoofStyle        object\n",
       "RoofMatl         object\n",
       "Exterior1st      object\n",
       "Exterior2nd      object\n",
       "MasVnrType       object\n",
       "ExterQual        object\n",
       "ExterCond        object\n",
       "Foundation       object\n",
       "BsmtQual         object\n",
       "BsmtCond         object\n",
       "BsmtExposure     object\n",
       "BsmtFinType1     object\n",
       "BsmtFinType2     object\n",
       "Heating          object\n",
       "HeatingQC        object\n",
       "CentralAir       object\n",
       "Electrical       object\n",
       "KitchenQual      object\n",
       "Functional       object\n",
       "FireplaceQu      object\n",
       "GarageType       object\n",
       "GarageFinish     object\n",
       "GarageQual       object\n",
       "GarageCond       object\n",
       "PavedDrive       object\n",
       "PoolQC           object\n",
       "Fence            object\n",
       "MiscFeature      object\n",
       "SaleType         object\n",
       "SaleCondition    object\n",
       "dtype: object"
      ]
     },
     "execution_count": 794,
     "metadata": {},
     "output_type": "execute_result"
    }
   ],
   "source": [
    "maison_test.dtypes[maison_test.dtypes==object]"
   ]
  },
  {
   "cell_type": "code",
   "execution_count": 795,
   "id": "4a1b504a",
   "metadata": {},
   "outputs": [
    {
     "name": "stdout",
     "output_type": "stream",
     "text": [
      "Maison test | Data Types\n",
      "Object:  46\n",
      "Numeric:  35\n"
     ]
    }
   ],
   "source": [
    "print('Maison test | Data Types')\n",
    "print('Object: ', maison_test.dtypes[maison_test.dtypes==object].count())\n",
    "print('Numeric: ',maison_test.dtypes[maison_test.dtypes!=object].count())"
   ]
  },
  {
   "cell_type": "markdown",
   "id": "ed69f375",
   "metadata": {},
   "source": [
    "Nous avons alors au total 46 variables qui sont catégorielles et 35 variables qui sont numériques. Cependant, nous remarquons que certaines variables ont peu de valeurs non nulles.Il s'agit des variables Alley ,FireplaceQu , PoolQC ,Fence et MiscFeature.C'est du au fait que le NA est considéré comme une modalité. Le meme problème existe pour les variables : GarageYrBlt ,BsmtFullBath ,BsmtHalfBath ,GarageArea,GarageCars ,MasVnrArea ,TotalBsmtSF ,BsmtUnfSF ,BsmtFinSF2,BsmtFinSF1 qui ont leur 0 considéré comme une modalité. Nous tacherons de le prendre en compte. "
   ]
  },
  {
   "cell_type": "markdown",
   "id": "9024c450",
   "metadata": {},
   "source": [
    "Nous séparons notre base de données en deux parties : une base contenant les variables numériques et une autre base contenant les varaibles numériques"
   ]
  },
  {
   "cell_type": "code",
   "execution_count": 796,
   "id": "8652495f",
   "metadata": {},
   "outputs": [],
   "source": [
    "maison_test_cat= pd.DataFrame(maison_test,columns = [\"Id\", \"MSSubClass\",\"MSZoning\"\n",
    "    ,\"Street\",\"Alley\",\"LotShape\",\"LandContour\",\"Utilities\",\"LotConfig\"\n",
    "    ,\"LandSlope\",\"Neighborhood\",\"Condition1\",\"Condition2\",\"BldgType\",\"HouseStyle\",\"OverallQual\"\n",
    "    ,\"OverallCond\",\"RoofStyle\",\"RoofMatl\",\"Exterior1st\",\"Exterior2nd\",\"MasVnrType\"\n",
    "    ,\"ExterQual\",\"ExterCond\",\"Foundation\",\"BsmtQual\",\"BsmtCond\",\"BsmtExposure\",\"BsmtFinType1\",\"BsmtFinType2\"\n",
    "    ,\"Heating\",\"HeatingQC\",\"CentralAir\",\"Electrical\",\"KitchenQual\",\"Functional\",\"FireplaceQu\"\n",
    "    ,\"GarageType\",\"GarageFinish\",\"GarageQual\",\"GarageCond\",\"PavedDrive\"                                         \n",
    "    ,\"PoolQC\",\"Fence\",\"MiscFeature\"\n",
    "    ,\"SaleType\",\"SaleCondition\"])"
   ]
  },
  {
   "cell_type": "markdown",
   "id": "f29889de",
   "metadata": {},
   "source": [
    "maison_test_cat contient les variables qualitatives ou catégorielles "
   ]
  },
  {
   "cell_type": "code",
   "execution_count": 797,
   "id": "1ce35327",
   "metadata": {},
   "outputs": [
    {
     "name": "stdout",
     "output_type": "stream",
     "text": [
      "<class 'pandas.core.frame.DataFrame'>\n",
      "RangeIndex: 1459 entries, 0 to 1458\n",
      "Data columns (total 47 columns):\n",
      " #   Column         Non-Null Count  Dtype \n",
      "---  ------         --------------  ----- \n",
      " 0   Id             1459 non-null   int64 \n",
      " 1   MSSubClass     1459 non-null   object\n",
      " 2   MSZoning       1455 non-null   object\n",
      " 3   Street         1459 non-null   object\n",
      " 4   Alley          107 non-null    object\n",
      " 5   LotShape       1459 non-null   object\n",
      " 6   LandContour    1459 non-null   object\n",
      " 7   Utilities      1457 non-null   object\n",
      " 8   LotConfig      1459 non-null   object\n",
      " 9   LandSlope      1459 non-null   object\n",
      " 10  Neighborhood   1459 non-null   object\n",
      " 11  Condition1     1459 non-null   object\n",
      " 12  Condition2     1459 non-null   object\n",
      " 13  BldgType       1459 non-null   object\n",
      " 14  HouseStyle     1459 non-null   object\n",
      " 15  OverallQual    1459 non-null   object\n",
      " 16  OverallCond    1459 non-null   object\n",
      " 17  RoofStyle      1459 non-null   object\n",
      " 18  RoofMatl       1459 non-null   object\n",
      " 19  Exterior1st    1458 non-null   object\n",
      " 20  Exterior2nd    1458 non-null   object\n",
      " 21  MasVnrType     1443 non-null   object\n",
      " 22  ExterQual      1459 non-null   object\n",
      " 23  ExterCond      1459 non-null   object\n",
      " 24  Foundation     1459 non-null   object\n",
      " 25  BsmtQual       1415 non-null   object\n",
      " 26  BsmtCond       1414 non-null   object\n",
      " 27  BsmtExposure   1415 non-null   object\n",
      " 28  BsmtFinType1   1417 non-null   object\n",
      " 29  BsmtFinType2   1417 non-null   object\n",
      " 30  Heating        1459 non-null   object\n",
      " 31  HeatingQC      1459 non-null   object\n",
      " 32  CentralAir     1459 non-null   object\n",
      " 33  Electrical     1459 non-null   object\n",
      " 34  KitchenQual    1458 non-null   object\n",
      " 35  Functional     1457 non-null   object\n",
      " 36  FireplaceQu    729 non-null    object\n",
      " 37  GarageType     1383 non-null   object\n",
      " 38  GarageFinish   1381 non-null   object\n",
      " 39  GarageQual     1381 non-null   object\n",
      " 40  GarageCond     1381 non-null   object\n",
      " 41  PavedDrive     1459 non-null   object\n",
      " 42  PoolQC         3 non-null      object\n",
      " 43  Fence          290 non-null    object\n",
      " 44  MiscFeature    51 non-null     object\n",
      " 45  SaleType       1458 non-null   object\n",
      " 46  SaleCondition  1459 non-null   object\n",
      "dtypes: int64(1), object(46)\n",
      "memory usage: 535.9+ KB\n"
     ]
    }
   ],
   "source": [
    "maison_test_cat.info()# On vérifie si les variables ont été bien converties."
   ]
  },
  {
   "cell_type": "code",
   "execution_count": 798,
   "id": "a74be958",
   "metadata": {},
   "outputs": [],
   "source": [
    "\n",
    "maison_test_num= pd.DataFrame(maison_test,columns = [\"Id\", \"SalePrice\",\"LotFrontage\"\n",
    "    ,\"LotArea\",\"YearBuilt\",\"YearRemodAdd\",\"MasVnrArea\",\"BsmtFinSF1\",\"BsmtFinSF2\"\n",
    "    ,\"BsmtUnfSF\",\"TotalBsmtSF \",\"1stFlrSF\",\"2ndFlrSF\",\"LowQualFinSF\",\"GrLivArea\",\"BsmtFullBath\"\n",
    "    ,\"BsmtHalfBath\",\"FullBath\",\"HalfBath\",\"BedroomAbvGr\",\"KitchenAbvGr\",\"TotRmsAbvGrd\"\n",
    "    ,\"Fireplaces\",\"GarageYrBlt\",\"GarageCars\",\"GarageArea\",\"WoodDeckSF\",\"OpenPorchSF\"\n",
    "    ,\"EnclosedPorch\",\"3SsnPorch\",\"ScreenPorch\",\"PoolArea\"\n",
    "    ,\"MiscVal\",\"MoSold\",\"YrSold\"])\n"
   ]
  },
  {
   "cell_type": "markdown",
   "id": "f9bd8bc8",
   "metadata": {},
   "source": [
    "maison_test_num représente les variables numériques."
   ]
  },
  {
   "cell_type": "code",
   "execution_count": 799,
   "id": "851fb06e",
   "metadata": {},
   "outputs": [
    {
     "name": "stdout",
     "output_type": "stream",
     "text": [
      "<class 'pandas.core.frame.DataFrame'>\n",
      "RangeIndex: 1459 entries, 0 to 1458\n",
      "Data columns (total 35 columns):\n",
      " #   Column         Non-Null Count  Dtype  \n",
      "---  ------         --------------  -----  \n",
      " 0   Id             1459 non-null   int64  \n",
      " 1   SalePrice      1459 non-null   int64  \n",
      " 2   LotFrontage    1232 non-null   float64\n",
      " 3   LotArea        1459 non-null   int64  \n",
      " 4   YearBuilt      1459 non-null   int64  \n",
      " 5   YearRemodAdd   1459 non-null   int64  \n",
      " 6   MasVnrArea     1444 non-null   float64\n",
      " 7   BsmtFinSF1     1458 non-null   float64\n",
      " 8   BsmtFinSF2     1458 non-null   float64\n",
      " 9   BsmtUnfSF      1458 non-null   float64\n",
      " 10  TotalBsmtSF    0 non-null      float64\n",
      " 11  1stFlrSF       1459 non-null   int64  \n",
      " 12  2ndFlrSF       1459 non-null   int64  \n",
      " 13  LowQualFinSF   1459 non-null   int64  \n",
      " 14  GrLivArea      1459 non-null   int64  \n",
      " 15  BsmtFullBath   1457 non-null   float64\n",
      " 16  BsmtHalfBath   1457 non-null   float64\n",
      " 17  FullBath       1459 non-null   int64  \n",
      " 18  HalfBath       1459 non-null   int64  \n",
      " 19  BedroomAbvGr   1459 non-null   int64  \n",
      " 20  KitchenAbvGr   1459 non-null   int64  \n",
      " 21  TotRmsAbvGrd   1459 non-null   int64  \n",
      " 22  Fireplaces     1459 non-null   int64  \n",
      " 23  GarageYrBlt    1381 non-null   float64\n",
      " 24  GarageCars     1458 non-null   float64\n",
      " 25  GarageArea     1458 non-null   float64\n",
      " 26  WoodDeckSF     1459 non-null   int64  \n",
      " 27  OpenPorchSF    1459 non-null   int64  \n",
      " 28  EnclosedPorch  1459 non-null   int64  \n",
      " 29  3SsnPorch      1459 non-null   int64  \n",
      " 30  ScreenPorch    1459 non-null   int64  \n",
      " 31  PoolArea       1459 non-null   int64  \n",
      " 32  MiscVal        1459 non-null   int64  \n",
      " 33  MoSold         1459 non-null   int64  \n",
      " 34  YrSold         1459 non-null   int64  \n",
      "dtypes: float64(11), int64(24)\n",
      "memory usage: 399.1 KB\n"
     ]
    }
   ],
   "source": [
    "maison_test_num.info()# on vérifie si les variables ont été bien converties "
   ]
  },
  {
   "cell_type": "markdown",
   "id": "b3f8c02f",
   "metadata": {},
   "source": [
    "EXPLORATION DES DONNÉES"
   ]
  },
  {
   "cell_type": "markdown",
   "id": "76e82e35",
   "metadata": {},
   "source": [
    "VISUALISATION DE LA VARIABLE À PRÉDIRE "
   ]
  },
  {
   "cell_type": "code",
   "execution_count": 800,
   "id": "62a0716d",
   "metadata": {},
   "outputs": [
    {
     "data": {
      "text/html": [
       "<div>\n",
       "<style scoped>\n",
       "    .dataframe tbody tr th:only-of-type {\n",
       "        vertical-align: middle;\n",
       "    }\n",
       "\n",
       "    .dataframe tbody tr th {\n",
       "        vertical-align: top;\n",
       "    }\n",
       "\n",
       "    .dataframe thead th {\n",
       "        text-align: right;\n",
       "    }\n",
       "</style>\n",
       "<table border=\"1\" class=\"dataframe\">\n",
       "  <thead>\n",
       "    <tr style=\"text-align: right;\">\n",
       "      <th></th>\n",
       "      <th>SalePrice</th>\n",
       "    </tr>\n",
       "  </thead>\n",
       "  <tbody>\n",
       "    <tr>\n",
       "      <th>count</th>\n",
       "      <td>1459.000000</td>\n",
       "    </tr>\n",
       "    <tr>\n",
       "      <th>mean</th>\n",
       "      <td>180944.102810</td>\n",
       "    </tr>\n",
       "    <tr>\n",
       "      <th>std</th>\n",
       "      <td>79464.918335</td>\n",
       "    </tr>\n",
       "    <tr>\n",
       "      <th>min</th>\n",
       "      <td>34900.000000</td>\n",
       "    </tr>\n",
       "    <tr>\n",
       "      <th>25%</th>\n",
       "      <td>129950.000000</td>\n",
       "    </tr>\n",
       "    <tr>\n",
       "      <th>50%</th>\n",
       "      <td>163000.000000</td>\n",
       "    </tr>\n",
       "    <tr>\n",
       "      <th>75%</th>\n",
       "      <td>214000.000000</td>\n",
       "    </tr>\n",
       "    <tr>\n",
       "      <th>max</th>\n",
       "      <td>755000.000000</td>\n",
       "    </tr>\n",
       "  </tbody>\n",
       "</table>\n",
       "</div>"
      ],
      "text/plain": [
       "           SalePrice\n",
       "count    1459.000000\n",
       "mean   180944.102810\n",
       "std     79464.918335\n",
       "min     34900.000000\n",
       "25%    129950.000000\n",
       "50%    163000.000000\n",
       "75%    214000.000000\n",
       "max    755000.000000"
      ]
     },
     "execution_count": 800,
     "metadata": {},
     "output_type": "execute_result"
    }
   ],
   "source": [
    "maison_test.SalePrice.describe().to_frame()"
   ]
  },
  {
   "cell_type": "code",
   "execution_count": 801,
   "id": "76d1f839",
   "metadata": {},
   "outputs": [],
   "source": [
    "# Concernant la statistique descriptive de notre variable à prédire , le prix de vente d'une maison est d'environ 180944,92$ en moyenne \n",
    "#suivant notre échantillon. Le prix de vente maximun d'une maison est de 755000$ alors que son prix de vente minimun est de 34900$.\n",
    "#Sur les 25% des observations , le prix de vente d'une maison est inférieur ou égal à 129950$. \n",
    "#Or sur les 75 % des observations , le prix de vente d'une maison est inférieur ou égal à 214000$. \n",
    "# Le prix de vente d'une maison médian est de 163000$."
   ]
  },
  {
   "cell_type": "code",
   "execution_count": 802,
   "id": "ad4758d2",
   "metadata": {},
   "outputs": [
    {
     "data": {
      "image/png": "[encoded data removed]",
      "text/plain": [
       "<Figure size 432x288 with 1 Axes>"
      ]
     },
     "metadata": {
      "needs_background": "light"
     },
     "output_type": "display_data"
    }
   ],
   "source": [
    "plt.hist(\n",
    "    maison_test[\"SalePrice\"],\n",
    "    bins = 10\n",
    ")\n",
    "plt.title(\"Distribution de la variable à prédire\")\n",
    "plt.show()"
   ]
  },
  {
   "cell_type": "markdown",
   "id": "903fedbf",
   "metadata": {},
   "source": [
    "Notre variable à prédire est déséquilibrée , dans le sens ou elle n'est pas symmétrique . Notre variable à prédire ne suit pas une loi normale.\n"
   ]
  },
  {
   "cell_type": "code",
   "execution_count": 803,
   "id": "c0d0e547",
   "metadata": {},
   "outputs": [
    {
     "data": {
      "text/plain": [
       "1.8817600468196507"
      ]
     },
     "execution_count": 803,
     "metadata": {},
     "output_type": "execute_result"
    }
   ],
   "source": [
    "maison_test.SalePrice.skew()# Nous calculons la skewness de notre variable "
   ]
  },
  {
   "cell_type": "markdown",
   "id": "dc9a9d42",
   "metadata": {},
   "source": [
    "La skewness est supérieure à 0. Il existe une asymétrie positive. La majorité des variables se situent à gauche et les outliers à droite."
   ]
  },
  {
   "cell_type": "code",
   "execution_count": 804,
   "id": "f91e2e21",
   "metadata": {},
   "outputs": [
    {
     "data": {
      "text/plain": [
       "6.529881857549899"
      ]
     },
     "execution_count": 804,
     "metadata": {},
     "output_type": "execute_result"
    }
   ],
   "source": [
    "maison_test.SalePrice.kurtosis()# Nous avons caluler le Kurtosis de la variable à expliquer"
   ]
  },
  {
   "cell_type": "markdown",
   "id": "aa5d60e8",
   "metadata": {},
   "source": [
    "La variable à  prédire a une distribution leptokurtique. "
   ]
  },
  {
   "cell_type": "markdown",
   "id": "27c3e7ac",
   "metadata": {},
   "source": [
    "VISUALISATION DES VARIABLES NUMÉRIQUES "
   ]
  },
  {
   "cell_type": "code",
   "execution_count": 805,
   "id": "e74e3f5f",
   "metadata": {},
   "outputs": [
    {
     "data": {
      "text/plain": [
       "array([[<AxesSubplot:title={'center':'LotFrontage'}>,\n",
       "        <AxesSubplot:title={'center':'LotArea'}>,\n",
       "        <AxesSubplot:title={'center':'YearBuilt'}>,\n",
       "        <AxesSubplot:title={'center':'YearRemodAdd'}>,\n",
       "        <AxesSubplot:title={'center':'MasVnrArea'}>,\n",
       "        <AxesSubplot:title={'center':'BsmtFinSF1'}>],\n",
       "       [<AxesSubplot:title={'center':'BsmtFinSF2'}>,\n",
       "        <AxesSubplot:title={'center':'BsmtUnfSF'}>,\n",
       "        <AxesSubplot:title={'center':'TotalBsmtSF '}>,\n",
       "        <AxesSubplot:title={'center':'1stFlrSF'}>,\n",
       "        <AxesSubplot:title={'center':'2ndFlrSF'}>,\n",
       "        <AxesSubplot:title={'center':'LowQualFinSF'}>],\n",
       "       [<AxesSubplot:title={'center':'GrLivArea'}>,\n",
       "        <AxesSubplot:title={'center':'BsmtFullBath'}>,\n",
       "        <AxesSubplot:title={'center':'BsmtHalfBath'}>,\n",
       "        <AxesSubplot:title={'center':'FullBath'}>,\n",
       "        <AxesSubplot:title={'center':'HalfBath'}>,\n",
       "        <AxesSubplot:title={'center':'BedroomAbvGr'}>],\n",
       "       [<AxesSubplot:title={'center':'KitchenAbvGr'}>,\n",
       "        <AxesSubplot:title={'center':'TotRmsAbvGrd'}>,\n",
       "        <AxesSubplot:title={'center':'Fireplaces'}>,\n",
       "        <AxesSubplot:title={'center':'GarageYrBlt'}>,\n",
       "        <AxesSubplot:title={'center':'GarageCars'}>,\n",
       "        <AxesSubplot:title={'center':'GarageArea'}>],\n",
       "       [<AxesSubplot:title={'center':'WoodDeckSF'}>,\n",
       "        <AxesSubplot:title={'center':'OpenPorchSF'}>,\n",
       "        <AxesSubplot:title={'center':'EnclosedPorch'}>,\n",
       "        <AxesSubplot:title={'center':'3SsnPorch'}>,\n",
       "        <AxesSubplot:title={'center':'ScreenPorch'}>,\n",
       "        <AxesSubplot:title={'center':'PoolArea'}>],\n",
       "       [<AxesSubplot:title={'center':'MiscVal'}>,\n",
       "        <AxesSubplot:title={'center':'MoSold'}>,\n",
       "        <AxesSubplot:title={'center':'YrSold'}>, <AxesSubplot:>,\n",
       "        <AxesSubplot:>, <AxesSubplot:>]], dtype=object)"
      ]
     },
     "execution_count": 805,
     "metadata": {},
     "output_type": "execute_result"
    },
    {
     "data": {
      "image/png": "[encoded data removed]",
      "text/plain": [
       "<Figure size 1440x1440 with 36 Axes>"
      ]
     },
     "metadata": {
      "needs_background": "light"
     },
     "output_type": "display_data"
    }
   ],
   "source": [
    "maison_test_num.hist(column=[\"LotFrontage\"\n",
    "    ,\"LotArea\",\"YearBuilt\",\"YearRemodAdd\",\"MasVnrArea\",\"BsmtFinSF1\",\"BsmtFinSF2\"\n",
    "    ,\"BsmtUnfSF\",\"TotalBsmtSF \",\"1stFlrSF\",\"2ndFlrSF\",\"LowQualFinSF\",\"GrLivArea\",\"BsmtFullBath\"\n",
    "    ,\"BsmtHalfBath\",\"FullBath\",\"HalfBath\",\"BedroomAbvGr\",\"KitchenAbvGr\",\"TotRmsAbvGrd\"\n",
    "    ,\"Fireplaces\",\"GarageYrBlt\",\"GarageCars\",\"GarageArea\",\"WoodDeckSF\",\"OpenPorchSF\"\n",
    "    ,\"EnclosedPorch\",\"3SsnPorch\",\"ScreenPorch\",\"PoolArea\"\n",
    "    ,\"MiscVal\",\"MoSold\",\"YrSold\"],figsize = (20 , 20))\n"
   ]
  },
  {
   "cell_type": "markdown",
   "id": "fde5c839",
   "metadata": {},
   "source": [
    "Les variables numériques n'ont pas une distribution symétrique.  Leur distribution semble etre leptokurtique."
   ]
  },
  {
   "cell_type": "markdown",
   "id": "3cde6069",
   "metadata": {},
   "source": [
    "VISUALISATION DE CERTAINES VARIABLES CATÉGORIELLES "
   ]
  },
  {
   "cell_type": "code",
   "execution_count": 806,
   "id": "0e1f601d",
   "metadata": {},
   "outputs": [
    {
     "data": {
      "image/png": "[encoded data removed]",
      "text/plain": [
       "<Figure size 432x288 with 1 Axes>"
      ]
     },
     "metadata": {
      "needs_background": "light"
     },
     "output_type": "display_data"
    }
   ],
   "source": [
    "plt.bar(\n",
    "    maison_test.SaleCondition.value_counts().index,\n",
    "     maison_test.SaleCondition.value_counts().values\n",
    ")\n",
    "plt.title(\"Répartition de la variable SaleCondition\")\n",
    "plt.show()"
   ]
  },
  {
   "cell_type": "markdown",
   "id": "8ad95061",
   "metadata": {},
   "source": [
    "On constate que la majeure partie des conditions de ventes des maisons se sont passées dans des conditons normales. \n"
   ]
  },
  {
   "cell_type": "code",
   "execution_count": 807,
   "id": "14f340df",
   "metadata": {},
   "outputs": [
    {
     "data": {
      "text/plain": [
       "Normal     1204\n",
       "Partial     120\n",
       "Abnorml      89\n",
       "Family       26\n",
       "Alloca       12\n",
       "AdjLand       8\n",
       "Name: SaleCondition, dtype: int64"
      ]
     },
     "execution_count": 807,
     "metadata": {},
     "output_type": "execute_result"
    }
   ],
   "source": [
    "maison_test.SaleCondition.value_counts()"
   ]
  },
  {
   "cell_type": "markdown",
   "id": "5dbbf52c",
   "metadata": {},
   "source": [
    "Pour aller en profondeurs , sur les 1459 ventes , 1204 ventes de maisons se sont passées dans les conditions normales de ventes . 120 ventes se sont passées dans des conditions dites partiales . C'est à dire la maison n'était pas achevée lors de la dernière évaluation. 89 ventes de maisons se sont passées dans des condtions anorales. 26 ventes ont été conclues entre membres de meme famille . Enfin , 8 ventes de maison se sont réalisées sur l'achat d'un terrain contigu. "
   ]
  },
  {
   "cell_type": "code",
   "execution_count": 808,
   "id": "7690b945",
   "metadata": {},
   "outputs": [
    {
     "data": {
      "image/png": "[encoded data removed]",
      "text/plain": [
       "<Figure size 432x288 with 1 Axes>"
      ]
     },
     "metadata": {},
     "output_type": "display_data"
    }
   ],
   "source": [
    "plt.pie(\n",
    "   maison_test.SaleType.value_counts(normalize = True).values,\n",
    "    labels = maison_test.SaleType.value_counts(normalize = True).index,\n",
    ")\n",
    "plt.title(\"Répartition de la variable SaleType\")\n",
    "plt.show()\n"
   ]
  },
  {
   "cell_type": "markdown",
   "id": "e73134de",
   "metadata": {},
   "source": [
    "Sur le graphique , ci-dessus , la majorité des vente de maison a été réalisée sur le type WD , soit dans l'acte de garantie de type conventionnel."
   ]
  },
  {
   "cell_type": "code",
   "execution_count": 809,
   "id": "6e428ab8",
   "metadata": {},
   "outputs": [
    {
     "data": {
      "text/plain": [
       "WD       1258\n",
       "New       117\n",
       "COD        44\n",
       "ConLD      17\n",
       "CWD         8\n",
       "ConLI       4\n",
       "Oth         4\n",
       "Con         3\n",
       "ConLw       3\n",
       "Name: SaleType, dtype: int64"
      ]
     },
     "execution_count": 809,
     "metadata": {},
     "output_type": "execute_result"
    }
   ],
   "source": [
    "maison_test.SaleType.value_counts()"
   ]
  },
  {
   "cell_type": "markdown",
   "id": "a834d597",
   "metadata": {},
   "source": [
    "Pour approfondir , sur les 1459  ventes de maisons , 1258 ventes de maisons étaient des ventes avec une garantie de type conventionel . 117 ventes se sont portées sur des maisons qui venaient justes d'etre construite .44 ventes de maisons se sont faites avec un officier de justice ou l'Éat. 17 ventes ont été des contrats à faible acompte . 8 ventes de maison étaient des des ventes avec une garantie de type Argent comptant.4 des ventes de maisons sont des contrats à faible taux d'intérêt.4 autres encore sont d'un type Autre. 3 ventes de maisons sont des contrats avec 15% d'acompte dans des conditions normales. Enfin 3 ventes de maisons sont des ventes aves un faible mise de fonds et faible taux d'intérêt"
   ]
  },
  {
   "cell_type": "markdown",
   "id": "9c5c24d2",
   "metadata": {},
   "source": [
    "IDENTIFICATION DES VALEURS MANQUANTES\n",
    "\n"
   ]
  },
  {
   "cell_type": "code",
   "execution_count": 810,
   "id": "b950b7b5",
   "metadata": {},
   "outputs": [
    {
     "data": {
      "text/plain": [
       "Id              0.000000\n",
       "Foundation      0.000000\n",
       "HeatingQC       0.000000\n",
       "CentralAir      0.000000\n",
       "Electrical      0.000000\n",
       "                 ...    \n",
       "FireplaceQu    50.034270\n",
       "Fence          80.123372\n",
       "Alley          92.666210\n",
       "MiscFeature    96.504455\n",
       "PoolQC         99.794380\n",
       "Length: 81, dtype: float64"
      ]
     },
     "execution_count": 810,
     "metadata": {},
     "output_type": "execute_result"
    }
   ],
   "source": [
    "na = maison_test.isna().sum()/maison_test.shape[0]*100\n",
    "na.sort_values()"
   ]
  },
  {
   "cell_type": "markdown",
   "id": "90078cc8",
   "metadata": {},
   "source": [
    "On constate que les variables FireplaceQu , Fence , Alley , MiscFeature  et PoolQC ont plus de 50% de variables manquantes. Mais comme il a été dit plutot , ces valeurs manquantes sont prises comme modalités pour ces variables. Alors nous ne pouvons pas les supprimer. Nous allons supprimer les valeurs manquantes des autres variables \n"
   ]
  },
  {
   "cell_type": "markdown",
   "id": "ad32afc6",
   "metadata": {},
   "source": [
    "DÉTECTION DES OUTLIERS POUR LES VARIABLES NUMÉRIQUES "
   ]
  },
  {
   "cell_type": "markdown",
   "id": "20537599",
   "metadata": {},
   "source": [
    "Nous allons passer à la détection des valeurs aberrantes. Pour cela , nous utilisons les boxplots."
   ]
  },
  {
   "cell_type": "code",
   "execution_count": 811,
   "id": "1a5fa896",
   "metadata": {},
   "outputs": [
    {
     "data": {
      "image/png": "[encoded data removed]",
      "text/plain": [
       "<Figure size 432x288 with 1 Axes>"
      ]
     },
     "metadata": {
      "needs_background": "light"
     },
     "output_type": "display_data"
    }
   ],
   "source": [
    "plt.boxplot(maison_test.SalePrice)\n",
    "\n",
    "plt.title(\"Distribution de la variable à expliquer\")\n",
    "plt.show()"
   ]
  },
  {
   "cell_type": "markdown",
   "id": "dafddd3a",
   "metadata": {},
   "source": [
    "Nous constatons que notre varaible à prédire présente beaucoup de outliers."
   ]
  },
  {
   "cell_type": "code",
   "execution_count": 812,
   "id": "99efabeb",
   "metadata": {},
   "outputs": [
    {
     "data": {
      "image/png": "[encoded data removed]",
      "text/plain": [
       "<Figure size 432x288 with 1 Axes>"
      ]
     },
     "metadata": {
      "needs_background": "light"
     },
     "output_type": "display_data"
    }
   ],
   "source": [
    "boxplot0 = maison_test.boxplot(column = [\"LotArea\"\n",
    "    ,\"YearBuilt\"\n",
    "    ,\"YearRemodAdd\",\"MasVnrArea\"])"
   ]
  },
  {
   "cell_type": "code",
   "execution_count": 813,
   "id": "60d8540b",
   "metadata": {},
   "outputs": [
    {
     "data": {
      "image/png": "[encoded data removed]",
      "text/plain": [
       "<Figure size 432x288 with 1 Axes>"
      ]
     },
     "metadata": {
      "needs_background": "light"
     },
     "output_type": "display_data"
    }
   ],
   "source": [
    "boxplot = maison_test.boxplot(column = [\"BsmtFinSF1\"\n",
    "    ,\"TotalBsmtSF\"\n",
    "    ,\"Fireplaces\"])"
   ]
  },
  {
   "cell_type": "markdown",
   "id": "f9f48170",
   "metadata": {},
   "source": [
    "Notre variable à prédire détient beaucoup de valeurs aberrantes. \n",
    "\n"
   ]
  },
  {
   "cell_type": "code",
   "execution_count": 814,
   "id": "a20bb29e",
   "metadata": {},
   "outputs": [
    {
     "data": {
      "image/png": "[encoded data removed]",
      "text/plain": [
       "<Figure size 432x288 with 1 Axes>"
      ]
     },
     "metadata": {
      "needs_background": "light"
     },
     "output_type": "display_data"
    }
   ],
   "source": [
    "boxplot1 = maison_test_num.boxplot(column = [\"LotFrontage\"\n",
    "    ,\"BsmtFinSF2\"\n",
    "    ,\"BsmtUnfSF\",\"1stFlrSF\"])"
   ]
  },
  {
   "cell_type": "code",
   "execution_count": 815,
   "id": "b95f7738",
   "metadata": {},
   "outputs": [
    {
     "data": {
      "image/png": "[encoded data removed]",
      "text/plain": [
       "<Figure size 432x288 with 1 Axes>"
      ]
     },
     "metadata": {
      "needs_background": "light"
     },
     "output_type": "display_data"
    }
   ],
   "source": [
    "boxplot2 = maison_test_num.boxplot(column = [\"2ndFlrSF\",\"LowQualFinSF\",\"GrLivArea\",\"BsmtFullBath\"\n",
    "    ,\"BsmtHalfBath\"])"
   ]
  },
  {
   "cell_type": "code",
   "execution_count": 816,
   "id": "363a0fa4",
   "metadata": {},
   "outputs": [
    {
     "data": {
      "image/png": "[encoded data removed]",
      "text/plain": [
       "<Figure size 432x288 with 1 Axes>"
      ]
     },
     "metadata": {
      "needs_background": "light"
     },
     "output_type": "display_data"
    }
   ],
   "source": [
    "boxplot3 = maison_test_num.boxplot(column = [\"FullBath\",\"HalfBath\",\"BedroomAbvGr\",\"KitchenAbvGr\",\"TotRmsAbvGrd\"])"
   ]
  },
  {
   "cell_type": "code",
   "execution_count": 817,
   "id": "09c00922",
   "metadata": {},
   "outputs": [
    {
     "data": {
      "image/png": "[encoded data removed]",
      "text/plain": [
       "<Figure size 432x288 with 1 Axes>"
      ]
     },
     "metadata": {
      "needs_background": "light"
     },
     "output_type": "display_data"
    }
   ],
   "source": [
    "boxplot4 = maison_test_num.boxplot(column = [\"GarageYrBlt\",\"GarageCars\",\"GarageArea\",\"WoodDeckSF\"])"
   ]
  },
  {
   "cell_type": "code",
   "execution_count": 818,
   "id": "186e9833",
   "metadata": {},
   "outputs": [
    {
     "data": {
      "image/png": "[encoded data removed]",
      "text/plain": [
       "<Figure size 432x288 with 1 Axes>"
      ]
     },
     "metadata": {
      "needs_background": "light"
     },
     "output_type": "display_data"
    }
   ],
   "source": [
    "boxplot5 = maison_test_num.boxplot(column = [\"OpenPorchSF\"\n",
    "    ,\"EnclosedPorch\",\"3SsnPorch\",\"ScreenPorch\",\"PoolArea\"])"
   ]
  },
  {
   "cell_type": "code",
   "execution_count": 819,
   "id": "343a4ae7",
   "metadata": {},
   "outputs": [
    {
     "data": {
      "image/png": "[encoded data removed]",
      "text/plain": [
       "<Figure size 432x288 with 1 Axes>"
      ]
     },
     "metadata": {
      "needs_background": "light"
     },
     "output_type": "display_data"
    }
   ],
   "source": [
    "boxplot6 = maison_test_num.boxplot(column = [\"MiscVal\",\"MoSold\",\"YrSold\"])"
   ]
  },
  {
   "cell_type": "markdown",
   "id": "3d9c7e70",
   "metadata": {},
   "source": [
    "Nous constatons que presque toutes les variables quantitatives présentent des outliers ou valeurs aberrantes. Il n'y a que les variables \n",
    "MoSold , YrSold , YearRemodAdd et HalfBath qui ne présentent pas de valeurs aberrantes. Les variables FullBath , YearBuilt , GarageYrBlt,BsmtFullBath ,GarageCars, Fireplaces et BsmtHalfBath présentent un outlier. "
   ]
  },
  {
   "cell_type": "markdown",
   "id": "8dabe49b",
   "metadata": {},
   "source": [
    "Nous allons appliquer le test de Grubbs pour vérifier si les variables FullBath , YearBuilt , GarageYrBlt,BsmtFullBath ,GarageCars, Fireplaces et BsmtHalfBath présentent un et un seul outlier. "
   ]
  },
  {
   "cell_type": "code",
   "execution_count": 820,
   "id": "9f2398c2",
   "metadata": {},
   "outputs": [
    {
     "name": "stdout",
     "output_type": "stream",
     "text": [
      "Requirement already satisfied: outlier_utils in /Users/keitasita/opt/anaconda3/lib/python3.8/site-packages (0.0.3)\r\n"
     ]
    }
   ],
   "source": [
    "!pip install outlier_utils\n"
   ]
  },
  {
   "cell_type": "code",
   "execution_count": 821,
   "id": "841d641f",
   "metadata": {},
   "outputs": [],
   "source": [
    "import numpy as np\n",
    "import scipy.stats as stats"
   ]
  },
  {
   "cell_type": "code",
   "execution_count": 822,
   "id": "288ca8ef",
   "metadata": {},
   "outputs": [],
   "source": [
    "x = np.array([12,13,14,19,21,23])"
   ]
  },
  {
   "cell_type": "code",
   "execution_count": 823,
   "id": "c701fc14",
   "metadata": {},
   "outputs": [
    {
     "name": "stdout",
     "output_type": "stream",
     "text": [
      "Grubbs Calculated Value: 4.376689708478301\n",
      "Grubbs Critical Value: 4.131593666568832\n",
      "From grubbs_test we observe that calculated value is greater than critical value, Reject null hypothesis and conclude that there is an outliers\n",
      "\n"
     ]
    }
   ],
   "source": [
    "def grubbs_test(x):\n",
    "    n = len(x)\n",
    "    mean_x = np.mean(x)\n",
    "    sd_x = np.std(x)\n",
    "    numerator = max(abs(x-mean_x))\n",
    "    g_calculated = numerator/sd_x\n",
    "    print(\"Grubbs Calculated Value:\",g_calculated)\n",
    "    t_value = stats.t.ppf(1 - 0.05 / (2 * n), n - 2)\n",
    "    g_critical = ((n - 1) * np.sqrt(np.square(t_value))) / (np.sqrt(n) * np.sqrt(n - 2 + np.square(t_value)))\n",
    "    print(\"Grubbs Critical Value:\",g_critical)\n",
    "    if g_critical > g_calculated:\n",
    "        print(\"From grubbs_test we observe that calculated value is lesser than critical value, Accept null hypothesis and conclude that there is no outliers\\n\")\n",
    "    else:\n",
    "        print(\"From grubbs_test we observe that calculated value is greater than critical value, Reject null hypothesis and conclude that there is an outliers\\n\")\n",
    "grubbs_test(maison_test.FullBath)"
   ]
  },
  {
   "cell_type": "code",
   "execution_count": 824,
   "id": "d5cdf145",
   "metadata": {},
   "outputs": [
    {
     "name": "stdout",
     "output_type": "stream",
     "text": [
      "Grubbs Calculated Value: 4.376689708478301\n",
      "Grubbs Critical Value: 4.131593666568832\n",
      "From grubbs_test we observe that calculated value is greater than critical value, Reject null hypothesis and conclude that there is an outliers\n",
      "\n"
     ]
    }
   ],
   "source": [
    "grubbs_test(maison_test.FullBath)"
   ]
  },
  {
   "cell_type": "code",
   "execution_count": 825,
   "id": "aec01e4e",
   "metadata": {},
   "outputs": [
    {
     "name": "stdout",
     "output_type": "stream",
     "text": [
      "Grubbs Calculated Value: 3.0401194893763335\n",
      "Grubbs Critical Value: 4.131593666568832\n",
      "From grubbs_test we observe that calculated value is lesser than critical value, Accept null hypothesis and conclude that there is no outliers\n",
      "\n"
     ]
    }
   ],
   "source": [
    "grubbs_test(maison_test.YearBuilt)"
   ]
  },
  {
   "cell_type": "code",
   "execution_count": 826,
   "id": "d4f4e639",
   "metadata": {},
   "outputs": [
    {
     "name": "stdout",
     "output_type": "stream",
     "text": [
      "Grubbs Calculated Value: 7.666158988691879\n",
      "Grubbs Critical Value: 4.131593666568832\n",
      "From grubbs_test we observe that calculated value is greater than critical value, Reject null hypothesis and conclude that there is an outliers\n",
      "\n"
     ]
    }
   ],
   "source": [
    "grubbs_test(maison_test.BsmtHalfBath)"
   ]
  },
  {
   "cell_type": "code",
   "execution_count": 827,
   "id": "b962782b",
   "metadata": {},
   "outputs": [
    {
     "name": "stdout",
     "output_type": "stream",
     "text": [
      "Grubbs Calculated Value: 8.677701291208985\n",
      "Grubbs Critical Value: 4.131593666568832\n",
      "From grubbs_test we observe that calculated value is greater than critical value, Reject null hypothesis and conclude that there is an outliers\n",
      "\n"
     ]
    }
   ],
   "source": [
    "grubbs_test(maison_test.GarageYrBlt)"
   ]
  },
  {
   "cell_type": "code",
   "execution_count": 828,
   "id": "fe2d6705",
   "metadata": {},
   "outputs": [
    {
     "name": "stdout",
     "output_type": "stream",
     "text": [
      "Grubbs Calculated Value: 4.836405227758401\n",
      "Grubbs Critical Value: 4.131593666568832\n",
      "From grubbs_test we observe that calculated value is greater than critical value, Reject null hypothesis and conclude that there is an outliers\n",
      "\n"
     ]
    }
   ],
   "source": [
    "grubbs_test(maison_test.BsmtFullBath)"
   ]
  },
  {
   "cell_type": "code",
   "execution_count": 829,
   "id": "6f9fff5a",
   "metadata": {},
   "outputs": [
    {
     "name": "stdout",
     "output_type": "stream",
     "text": [
      "Grubbs Calculated Value: 4.169098734443693\n",
      "Grubbs Critical Value: 4.131593666568832\n",
      "From grubbs_test we observe that calculated value is greater than critical value, Reject null hypothesis and conclude that there is an outliers\n",
      "\n"
     ]
    }
   ],
   "source": [
    "grubbs_test(maison_test.GarageCars)"
   ]
  },
  {
   "cell_type": "markdown",
   "id": "23bc2754",
   "metadata": {},
   "source": [
    "D'après le test de Grubbs , nous avons les variables GarageCars , BsmtFullBath , GarageYrBlt ,BsmtHalfBath et FullBath qui possède un outlier. Nous décidons d'enlever les valeurs aberrantes de la variable à prédire et de la variable LotArea."
   ]
  },
  {
   "cell_type": "code",
   "execution_count": 830,
   "id": "9993e0eb",
   "metadata": {},
   "outputs": [],
   "source": [
    "#On supprime les valeurs aberrantes\n",
    "\n",
    "#On calcule Q1\n",
    "\n",
    "q1_Saleprice=maison_test[\"SalePrice\"].quantile(q=0.25)\n",
    "q1_LotArea=maison_test[\"LotArea\"].quantile(q=0.25)\n"
   ]
  },
  {
   "cell_type": "code",
   "execution_count": 831,
   "id": "92bda87f",
   "metadata": {},
   "outputs": [],
   "source": [
    "#On calcule Q3\n",
    "\n",
    "q3_Saleprice=maison_test[\"SalePrice\"].quantile(q=0.75)\n",
    "q3_LotArea=maison_test[\"LotArea\"].quantile(q=0.75)\n",
    "\n"
   ]
  },
  {
   "cell_type": "code",
   "execution_count": 832,
   "id": "903af35a",
   "metadata": {},
   "outputs": [],
   "source": [
    "#On calcule l'écart interquartile (IQR)\n",
    "\n",
    "IQR_SalePrice=q3_Saleprice-q1_Saleprice\n",
    "IQR_LotArea=q3_LotArea-q1_LotArea"
   ]
  },
  {
   "cell_type": "code",
   "execution_count": 833,
   "id": "5c2cbf60",
   "metadata": {},
   "outputs": [],
   "source": [
    "#On calcule la borne supérieure à l'aide du Q3 et de l'écart interquartile\n",
    "\n",
    "\n",
    "borne_sup_q1_LotArea = q3_LotArea +1.5*IQR_LotArea\n",
    "borne_sup_SalePrice= q3_Saleprice +1.5*IQR_SalePrice\n"
   ]
  },
  {
   "cell_type": "code",
   "execution_count": 834,
   "id": "77c42109",
   "metadata": {},
   "outputs": [],
   "source": [
    "\n",
    "#On calcule la borne inférieure à l'aide du Q1 et de l'écart interquartile\n",
    "\n",
    "borne_inf_LotArea = q1_LotArea-1.5*IQR_LotArea\n",
    "borne_inf_SalePrice = q1_Saleprice-1.5*IQR_SalePrice\n"
   ]
  },
  {
   "cell_type": "markdown",
   "id": "e42dcb35",
   "metadata": {},
   "source": [
    "On garde les valeurs entre les bornes supérieures et inférieures. "
   ]
  },
  {
   "cell_type": "code",
   "execution_count": 835,
   "id": "76da91cf",
   "metadata": {},
   "outputs": [],
   "source": [
    "maison_test= maison_test[maison_test[\"SalePrice\"]<borne_sup_SalePrice]"
   ]
  },
  {
   "cell_type": "code",
   "execution_count": 836,
   "id": "ca2f8fcd",
   "metadata": {},
   "outputs": [
    {
     "data": {
      "text/html": [
       "<div>\n",
       "<style scoped>\n",
       "    .dataframe tbody tr th:only-of-type {\n",
       "        vertical-align: middle;\n",
       "    }\n",
       "\n",
       "    .dataframe tbody tr th {\n",
       "        vertical-align: top;\n",
       "    }\n",
       "\n",
       "    .dataframe thead th {\n",
       "        text-align: right;\n",
       "    }\n",
       "</style>\n",
       "<table border=\"1\" class=\"dataframe\">\n",
       "  <thead>\n",
       "    <tr style=\"text-align: right;\">\n",
       "      <th></th>\n",
       "      <th>Id</th>\n",
       "      <th>SalePrice</th>\n",
       "      <th>MSSubClass</th>\n",
       "      <th>MSZoning</th>\n",
       "      <th>LotFrontage</th>\n",
       "      <th>LotArea</th>\n",
       "      <th>Street</th>\n",
       "      <th>Alley</th>\n",
       "      <th>LotShape</th>\n",
       "      <th>LandContour</th>\n",
       "      <th>...</th>\n",
       "      <th>ScreenPorch</th>\n",
       "      <th>PoolArea</th>\n",
       "      <th>PoolQC</th>\n",
       "      <th>Fence</th>\n",
       "      <th>MiscFeature</th>\n",
       "      <th>MiscVal</th>\n",
       "      <th>MoSold</th>\n",
       "      <th>YrSold</th>\n",
       "      <th>SaleType</th>\n",
       "      <th>SaleCondition</th>\n",
       "    </tr>\n",
       "  </thead>\n",
       "  <tbody>\n",
       "    <tr>\n",
       "      <th>0</th>\n",
       "      <td>1461</td>\n",
       "      <td>208500</td>\n",
       "      <td>20</td>\n",
       "      <td>RH</td>\n",
       "      <td>80.0</td>\n",
       "      <td>11622</td>\n",
       "      <td>Pave</td>\n",
       "      <td>NaN</td>\n",
       "      <td>Reg</td>\n",
       "      <td>Lvl</td>\n",
       "      <td>...</td>\n",
       "      <td>120</td>\n",
       "      <td>0</td>\n",
       "      <td>NaN</td>\n",
       "      <td>MnPrv</td>\n",
       "      <td>NaN</td>\n",
       "      <td>0</td>\n",
       "      <td>6</td>\n",
       "      <td>2010</td>\n",
       "      <td>WD</td>\n",
       "      <td>Normal</td>\n",
       "    </tr>\n",
       "    <tr>\n",
       "      <th>1</th>\n",
       "      <td>1462</td>\n",
       "      <td>181500</td>\n",
       "      <td>20</td>\n",
       "      <td>RL</td>\n",
       "      <td>81.0</td>\n",
       "      <td>14267</td>\n",
       "      <td>Pave</td>\n",
       "      <td>NaN</td>\n",
       "      <td>IR1</td>\n",
       "      <td>Lvl</td>\n",
       "      <td>...</td>\n",
       "      <td>0</td>\n",
       "      <td>0</td>\n",
       "      <td>NaN</td>\n",
       "      <td>NaN</td>\n",
       "      <td>Gar2</td>\n",
       "      <td>12500</td>\n",
       "      <td>6</td>\n",
       "      <td>2010</td>\n",
       "      <td>WD</td>\n",
       "      <td>Normal</td>\n",
       "    </tr>\n",
       "    <tr>\n",
       "      <th>2</th>\n",
       "      <td>1463</td>\n",
       "      <td>223500</td>\n",
       "      <td>60</td>\n",
       "      <td>RL</td>\n",
       "      <td>74.0</td>\n",
       "      <td>13830</td>\n",
       "      <td>Pave</td>\n",
       "      <td>NaN</td>\n",
       "      <td>IR1</td>\n",
       "      <td>Lvl</td>\n",
       "      <td>...</td>\n",
       "      <td>0</td>\n",
       "      <td>0</td>\n",
       "      <td>NaN</td>\n",
       "      <td>MnPrv</td>\n",
       "      <td>NaN</td>\n",
       "      <td>0</td>\n",
       "      <td>3</td>\n",
       "      <td>2010</td>\n",
       "      <td>WD</td>\n",
       "      <td>Normal</td>\n",
       "    </tr>\n",
       "    <tr>\n",
       "      <th>3</th>\n",
       "      <td>1464</td>\n",
       "      <td>140000</td>\n",
       "      <td>60</td>\n",
       "      <td>RL</td>\n",
       "      <td>78.0</td>\n",
       "      <td>9978</td>\n",
       "      <td>Pave</td>\n",
       "      <td>NaN</td>\n",
       "      <td>IR1</td>\n",
       "      <td>Lvl</td>\n",
       "      <td>...</td>\n",
       "      <td>0</td>\n",
       "      <td>0</td>\n",
       "      <td>NaN</td>\n",
       "      <td>NaN</td>\n",
       "      <td>NaN</td>\n",
       "      <td>0</td>\n",
       "      <td>6</td>\n",
       "      <td>2010</td>\n",
       "      <td>WD</td>\n",
       "      <td>Normal</td>\n",
       "    </tr>\n",
       "    <tr>\n",
       "      <th>4</th>\n",
       "      <td>1465</td>\n",
       "      <td>250000</td>\n",
       "      <td>120</td>\n",
       "      <td>RL</td>\n",
       "      <td>43.0</td>\n",
       "      <td>5005</td>\n",
       "      <td>Pave</td>\n",
       "      <td>NaN</td>\n",
       "      <td>IR1</td>\n",
       "      <td>HLS</td>\n",
       "      <td>...</td>\n",
       "      <td>144</td>\n",
       "      <td>0</td>\n",
       "      <td>NaN</td>\n",
       "      <td>NaN</td>\n",
       "      <td>NaN</td>\n",
       "      <td>0</td>\n",
       "      <td>1</td>\n",
       "      <td>2010</td>\n",
       "      <td>WD</td>\n",
       "      <td>Normal</td>\n",
       "    </tr>\n",
       "    <tr>\n",
       "      <th>...</th>\n",
       "      <td>...</td>\n",
       "      <td>...</td>\n",
       "      <td>...</td>\n",
       "      <td>...</td>\n",
       "      <td>...</td>\n",
       "      <td>...</td>\n",
       "      <td>...</td>\n",
       "      <td>...</td>\n",
       "      <td>...</td>\n",
       "      <td>...</td>\n",
       "      <td>...</td>\n",
       "      <td>...</td>\n",
       "      <td>...</td>\n",
       "      <td>...</td>\n",
       "      <td>...</td>\n",
       "      <td>...</td>\n",
       "      <td>...</td>\n",
       "      <td>...</td>\n",
       "      <td>...</td>\n",
       "      <td>...</td>\n",
       "      <td>...</td>\n",
       "    </tr>\n",
       "    <tr>\n",
       "      <th>1454</th>\n",
       "      <td>2915</td>\n",
       "      <td>185000</td>\n",
       "      <td>160</td>\n",
       "      <td>RM</td>\n",
       "      <td>21.0</td>\n",
       "      <td>1936</td>\n",
       "      <td>Pave</td>\n",
       "      <td>NaN</td>\n",
       "      <td>Reg</td>\n",
       "      <td>Lvl</td>\n",
       "      <td>...</td>\n",
       "      <td>0</td>\n",
       "      <td>0</td>\n",
       "      <td>NaN</td>\n",
       "      <td>NaN</td>\n",
       "      <td>NaN</td>\n",
       "      <td>0</td>\n",
       "      <td>6</td>\n",
       "      <td>2006</td>\n",
       "      <td>WD</td>\n",
       "      <td>Normal</td>\n",
       "    </tr>\n",
       "    <tr>\n",
       "      <th>1455</th>\n",
       "      <td>2916</td>\n",
       "      <td>175000</td>\n",
       "      <td>160</td>\n",
       "      <td>RM</td>\n",
       "      <td>21.0</td>\n",
       "      <td>1894</td>\n",
       "      <td>Pave</td>\n",
       "      <td>NaN</td>\n",
       "      <td>Reg</td>\n",
       "      <td>Lvl</td>\n",
       "      <td>...</td>\n",
       "      <td>0</td>\n",
       "      <td>0</td>\n",
       "      <td>NaN</td>\n",
       "      <td>NaN</td>\n",
       "      <td>NaN</td>\n",
       "      <td>0</td>\n",
       "      <td>4</td>\n",
       "      <td>2006</td>\n",
       "      <td>WD</td>\n",
       "      <td>Abnorml</td>\n",
       "    </tr>\n",
       "    <tr>\n",
       "      <th>1456</th>\n",
       "      <td>2917</td>\n",
       "      <td>210000</td>\n",
       "      <td>20</td>\n",
       "      <td>RL</td>\n",
       "      <td>160.0</td>\n",
       "      <td>20000</td>\n",
       "      <td>Pave</td>\n",
       "      <td>NaN</td>\n",
       "      <td>Reg</td>\n",
       "      <td>Lvl</td>\n",
       "      <td>...</td>\n",
       "      <td>0</td>\n",
       "      <td>0</td>\n",
       "      <td>NaN</td>\n",
       "      <td>NaN</td>\n",
       "      <td>NaN</td>\n",
       "      <td>0</td>\n",
       "      <td>9</td>\n",
       "      <td>2006</td>\n",
       "      <td>WD</td>\n",
       "      <td>Abnorml</td>\n",
       "    </tr>\n",
       "    <tr>\n",
       "      <th>1457</th>\n",
       "      <td>2918</td>\n",
       "      <td>266500</td>\n",
       "      <td>85</td>\n",
       "      <td>RL</td>\n",
       "      <td>62.0</td>\n",
       "      <td>10441</td>\n",
       "      <td>Pave</td>\n",
       "      <td>NaN</td>\n",
       "      <td>Reg</td>\n",
       "      <td>Lvl</td>\n",
       "      <td>...</td>\n",
       "      <td>0</td>\n",
       "      <td>0</td>\n",
       "      <td>NaN</td>\n",
       "      <td>MnPrv</td>\n",
       "      <td>Shed</td>\n",
       "      <td>700</td>\n",
       "      <td>7</td>\n",
       "      <td>2006</td>\n",
       "      <td>WD</td>\n",
       "      <td>Normal</td>\n",
       "    </tr>\n",
       "    <tr>\n",
       "      <th>1458</th>\n",
       "      <td>2919</td>\n",
       "      <td>142125</td>\n",
       "      <td>60</td>\n",
       "      <td>RL</td>\n",
       "      <td>74.0</td>\n",
       "      <td>9627</td>\n",
       "      <td>Pave</td>\n",
       "      <td>NaN</td>\n",
       "      <td>Reg</td>\n",
       "      <td>Lvl</td>\n",
       "      <td>...</td>\n",
       "      <td>0</td>\n",
       "      <td>0</td>\n",
       "      <td>NaN</td>\n",
       "      <td>NaN</td>\n",
       "      <td>NaN</td>\n",
       "      <td>0</td>\n",
       "      <td>11</td>\n",
       "      <td>2006</td>\n",
       "      <td>WD</td>\n",
       "      <td>Normal</td>\n",
       "    </tr>\n",
       "  </tbody>\n",
       "</table>\n",
       "<p>1398 rows × 81 columns</p>\n",
       "</div>"
      ],
      "text/plain": [
       "        Id  SalePrice MSSubClass MSZoning  LotFrontage  LotArea Street Alley  \\\n",
       "0     1461     208500         20       RH         80.0    11622   Pave   NaN   \n",
       "1     1462     181500         20       RL         81.0    14267   Pave   NaN   \n",
       "2     1463     223500         60       RL         74.0    13830   Pave   NaN   \n",
       "3     1464     140000         60       RL         78.0     9978   Pave   NaN   \n",
       "4     1465     250000        120       RL         43.0     5005   Pave   NaN   \n",
       "...    ...        ...        ...      ...          ...      ...    ...   ...   \n",
       "1454  2915     185000        160       RM         21.0     1936   Pave   NaN   \n",
       "1455  2916     175000        160       RM         21.0     1894   Pave   NaN   \n",
       "1456  2917     210000         20       RL        160.0    20000   Pave   NaN   \n",
       "1457  2918     266500         85       RL         62.0    10441   Pave   NaN   \n",
       "1458  2919     142125         60       RL         74.0     9627   Pave   NaN   \n",
       "\n",
       "     LotShape LandContour  ... ScreenPorch PoolArea PoolQC  Fence MiscFeature  \\\n",
       "0         Reg         Lvl  ...         120        0    NaN  MnPrv         NaN   \n",
       "1         IR1         Lvl  ...           0        0    NaN    NaN        Gar2   \n",
       "2         IR1         Lvl  ...           0        0    NaN  MnPrv         NaN   \n",
       "3         IR1         Lvl  ...           0        0    NaN    NaN         NaN   \n",
       "4         IR1         HLS  ...         144        0    NaN    NaN         NaN   \n",
       "...       ...         ...  ...         ...      ...    ...    ...         ...   \n",
       "1454      Reg         Lvl  ...           0        0    NaN    NaN         NaN   \n",
       "1455      Reg         Lvl  ...           0        0    NaN    NaN         NaN   \n",
       "1456      Reg         Lvl  ...           0        0    NaN    NaN         NaN   \n",
       "1457      Reg         Lvl  ...           0        0    NaN  MnPrv        Shed   \n",
       "1458      Reg         Lvl  ...           0        0    NaN    NaN         NaN   \n",
       "\n",
       "     MiscVal MoSold YrSold SaleType SaleCondition  \n",
       "0          0      6   2010       WD        Normal  \n",
       "1      12500      6   2010       WD        Normal  \n",
       "2          0      3   2010       WD        Normal  \n",
       "3          0      6   2010       WD        Normal  \n",
       "4          0      1   2010       WD        Normal  \n",
       "...      ...    ...    ...      ...           ...  \n",
       "1454       0      6   2006       WD        Normal  \n",
       "1455       0      4   2006       WD       Abnorml  \n",
       "1456       0      9   2006       WD       Abnorml  \n",
       "1457     700      7   2006       WD        Normal  \n",
       "1458       0     11   2006       WD        Normal  \n",
       "\n",
       "[1398 rows x 81 columns]"
      ]
     },
     "execution_count": 836,
     "metadata": {},
     "output_type": "execute_result"
    }
   ],
   "source": [
    "maison_test"
   ]
  },
  {
   "cell_type": "code",
   "execution_count": 837,
   "id": "fc4e6c10",
   "metadata": {},
   "outputs": [],
   "source": [
    "maison_test=maison_test[maison_test[\"SalePrice\"]>borne_inf_SalePrice]"
   ]
  },
  {
   "cell_type": "code",
   "execution_count": 838,
   "id": "025079e9",
   "metadata": {},
   "outputs": [
    {
     "data": {
      "text/html": [
       "<div>\n",
       "<style scoped>\n",
       "    .dataframe tbody tr th:only-of-type {\n",
       "        vertical-align: middle;\n",
       "    }\n",
       "\n",
       "    .dataframe tbody tr th {\n",
       "        vertical-align: top;\n",
       "    }\n",
       "\n",
       "    .dataframe thead th {\n",
       "        text-align: right;\n",
       "    }\n",
       "</style>\n",
       "<table border=\"1\" class=\"dataframe\">\n",
       "  <thead>\n",
       "    <tr style=\"text-align: right;\">\n",
       "      <th></th>\n",
       "      <th>Id</th>\n",
       "      <th>SalePrice</th>\n",
       "      <th>MSSubClass</th>\n",
       "      <th>MSZoning</th>\n",
       "      <th>LotFrontage</th>\n",
       "      <th>LotArea</th>\n",
       "      <th>Street</th>\n",
       "      <th>Alley</th>\n",
       "      <th>LotShape</th>\n",
       "      <th>LandContour</th>\n",
       "      <th>...</th>\n",
       "      <th>ScreenPorch</th>\n",
       "      <th>PoolArea</th>\n",
       "      <th>PoolQC</th>\n",
       "      <th>Fence</th>\n",
       "      <th>MiscFeature</th>\n",
       "      <th>MiscVal</th>\n",
       "      <th>MoSold</th>\n",
       "      <th>YrSold</th>\n",
       "      <th>SaleType</th>\n",
       "      <th>SaleCondition</th>\n",
       "    </tr>\n",
       "  </thead>\n",
       "  <tbody>\n",
       "    <tr>\n",
       "      <th>0</th>\n",
       "      <td>1461</td>\n",
       "      <td>208500</td>\n",
       "      <td>20</td>\n",
       "      <td>RH</td>\n",
       "      <td>80.0</td>\n",
       "      <td>11622</td>\n",
       "      <td>Pave</td>\n",
       "      <td>NaN</td>\n",
       "      <td>Reg</td>\n",
       "      <td>Lvl</td>\n",
       "      <td>...</td>\n",
       "      <td>120</td>\n",
       "      <td>0</td>\n",
       "      <td>NaN</td>\n",
       "      <td>MnPrv</td>\n",
       "      <td>NaN</td>\n",
       "      <td>0</td>\n",
       "      <td>6</td>\n",
       "      <td>2010</td>\n",
       "      <td>WD</td>\n",
       "      <td>Normal</td>\n",
       "    </tr>\n",
       "    <tr>\n",
       "      <th>1</th>\n",
       "      <td>1462</td>\n",
       "      <td>181500</td>\n",
       "      <td>20</td>\n",
       "      <td>RL</td>\n",
       "      <td>81.0</td>\n",
       "      <td>14267</td>\n",
       "      <td>Pave</td>\n",
       "      <td>NaN</td>\n",
       "      <td>IR1</td>\n",
       "      <td>Lvl</td>\n",
       "      <td>...</td>\n",
       "      <td>0</td>\n",
       "      <td>0</td>\n",
       "      <td>NaN</td>\n",
       "      <td>NaN</td>\n",
       "      <td>Gar2</td>\n",
       "      <td>12500</td>\n",
       "      <td>6</td>\n",
       "      <td>2010</td>\n",
       "      <td>WD</td>\n",
       "      <td>Normal</td>\n",
       "    </tr>\n",
       "    <tr>\n",
       "      <th>2</th>\n",
       "      <td>1463</td>\n",
       "      <td>223500</td>\n",
       "      <td>60</td>\n",
       "      <td>RL</td>\n",
       "      <td>74.0</td>\n",
       "      <td>13830</td>\n",
       "      <td>Pave</td>\n",
       "      <td>NaN</td>\n",
       "      <td>IR1</td>\n",
       "      <td>Lvl</td>\n",
       "      <td>...</td>\n",
       "      <td>0</td>\n",
       "      <td>0</td>\n",
       "      <td>NaN</td>\n",
       "      <td>MnPrv</td>\n",
       "      <td>NaN</td>\n",
       "      <td>0</td>\n",
       "      <td>3</td>\n",
       "      <td>2010</td>\n",
       "      <td>WD</td>\n",
       "      <td>Normal</td>\n",
       "    </tr>\n",
       "    <tr>\n",
       "      <th>3</th>\n",
       "      <td>1464</td>\n",
       "      <td>140000</td>\n",
       "      <td>60</td>\n",
       "      <td>RL</td>\n",
       "      <td>78.0</td>\n",
       "      <td>9978</td>\n",
       "      <td>Pave</td>\n",
       "      <td>NaN</td>\n",
       "      <td>IR1</td>\n",
       "      <td>Lvl</td>\n",
       "      <td>...</td>\n",
       "      <td>0</td>\n",
       "      <td>0</td>\n",
       "      <td>NaN</td>\n",
       "      <td>NaN</td>\n",
       "      <td>NaN</td>\n",
       "      <td>0</td>\n",
       "      <td>6</td>\n",
       "      <td>2010</td>\n",
       "      <td>WD</td>\n",
       "      <td>Normal</td>\n",
       "    </tr>\n",
       "    <tr>\n",
       "      <th>4</th>\n",
       "      <td>1465</td>\n",
       "      <td>250000</td>\n",
       "      <td>120</td>\n",
       "      <td>RL</td>\n",
       "      <td>43.0</td>\n",
       "      <td>5005</td>\n",
       "      <td>Pave</td>\n",
       "      <td>NaN</td>\n",
       "      <td>IR1</td>\n",
       "      <td>HLS</td>\n",
       "      <td>...</td>\n",
       "      <td>144</td>\n",
       "      <td>0</td>\n",
       "      <td>NaN</td>\n",
       "      <td>NaN</td>\n",
       "      <td>NaN</td>\n",
       "      <td>0</td>\n",
       "      <td>1</td>\n",
       "      <td>2010</td>\n",
       "      <td>WD</td>\n",
       "      <td>Normal</td>\n",
       "    </tr>\n",
       "    <tr>\n",
       "      <th>...</th>\n",
       "      <td>...</td>\n",
       "      <td>...</td>\n",
       "      <td>...</td>\n",
       "      <td>...</td>\n",
       "      <td>...</td>\n",
       "      <td>...</td>\n",
       "      <td>...</td>\n",
       "      <td>...</td>\n",
       "      <td>...</td>\n",
       "      <td>...</td>\n",
       "      <td>...</td>\n",
       "      <td>...</td>\n",
       "      <td>...</td>\n",
       "      <td>...</td>\n",
       "      <td>...</td>\n",
       "      <td>...</td>\n",
       "      <td>...</td>\n",
       "      <td>...</td>\n",
       "      <td>...</td>\n",
       "      <td>...</td>\n",
       "      <td>...</td>\n",
       "    </tr>\n",
       "    <tr>\n",
       "      <th>1454</th>\n",
       "      <td>2915</td>\n",
       "      <td>185000</td>\n",
       "      <td>160</td>\n",
       "      <td>RM</td>\n",
       "      <td>21.0</td>\n",
       "      <td>1936</td>\n",
       "      <td>Pave</td>\n",
       "      <td>NaN</td>\n",
       "      <td>Reg</td>\n",
       "      <td>Lvl</td>\n",
       "      <td>...</td>\n",
       "      <td>0</td>\n",
       "      <td>0</td>\n",
       "      <td>NaN</td>\n",
       "      <td>NaN</td>\n",
       "      <td>NaN</td>\n",
       "      <td>0</td>\n",
       "      <td>6</td>\n",
       "      <td>2006</td>\n",
       "      <td>WD</td>\n",
       "      <td>Normal</td>\n",
       "    </tr>\n",
       "    <tr>\n",
       "      <th>1455</th>\n",
       "      <td>2916</td>\n",
       "      <td>175000</td>\n",
       "      <td>160</td>\n",
       "      <td>RM</td>\n",
       "      <td>21.0</td>\n",
       "      <td>1894</td>\n",
       "      <td>Pave</td>\n",
       "      <td>NaN</td>\n",
       "      <td>Reg</td>\n",
       "      <td>Lvl</td>\n",
       "      <td>...</td>\n",
       "      <td>0</td>\n",
       "      <td>0</td>\n",
       "      <td>NaN</td>\n",
       "      <td>NaN</td>\n",
       "      <td>NaN</td>\n",
       "      <td>0</td>\n",
       "      <td>4</td>\n",
       "      <td>2006</td>\n",
       "      <td>WD</td>\n",
       "      <td>Abnorml</td>\n",
       "    </tr>\n",
       "    <tr>\n",
       "      <th>1456</th>\n",
       "      <td>2917</td>\n",
       "      <td>210000</td>\n",
       "      <td>20</td>\n",
       "      <td>RL</td>\n",
       "      <td>160.0</td>\n",
       "      <td>20000</td>\n",
       "      <td>Pave</td>\n",
       "      <td>NaN</td>\n",
       "      <td>Reg</td>\n",
       "      <td>Lvl</td>\n",
       "      <td>...</td>\n",
       "      <td>0</td>\n",
       "      <td>0</td>\n",
       "      <td>NaN</td>\n",
       "      <td>NaN</td>\n",
       "      <td>NaN</td>\n",
       "      <td>0</td>\n",
       "      <td>9</td>\n",
       "      <td>2006</td>\n",
       "      <td>WD</td>\n",
       "      <td>Abnorml</td>\n",
       "    </tr>\n",
       "    <tr>\n",
       "      <th>1457</th>\n",
       "      <td>2918</td>\n",
       "      <td>266500</td>\n",
       "      <td>85</td>\n",
       "      <td>RL</td>\n",
       "      <td>62.0</td>\n",
       "      <td>10441</td>\n",
       "      <td>Pave</td>\n",
       "      <td>NaN</td>\n",
       "      <td>Reg</td>\n",
       "      <td>Lvl</td>\n",
       "      <td>...</td>\n",
       "      <td>0</td>\n",
       "      <td>0</td>\n",
       "      <td>NaN</td>\n",
       "      <td>MnPrv</td>\n",
       "      <td>Shed</td>\n",
       "      <td>700</td>\n",
       "      <td>7</td>\n",
       "      <td>2006</td>\n",
       "      <td>WD</td>\n",
       "      <td>Normal</td>\n",
       "    </tr>\n",
       "    <tr>\n",
       "      <th>1458</th>\n",
       "      <td>2919</td>\n",
       "      <td>142125</td>\n",
       "      <td>60</td>\n",
       "      <td>RL</td>\n",
       "      <td>74.0</td>\n",
       "      <td>9627</td>\n",
       "      <td>Pave</td>\n",
       "      <td>NaN</td>\n",
       "      <td>Reg</td>\n",
       "      <td>Lvl</td>\n",
       "      <td>...</td>\n",
       "      <td>0</td>\n",
       "      <td>0</td>\n",
       "      <td>NaN</td>\n",
       "      <td>NaN</td>\n",
       "      <td>NaN</td>\n",
       "      <td>0</td>\n",
       "      <td>11</td>\n",
       "      <td>2006</td>\n",
       "      <td>WD</td>\n",
       "      <td>Normal</td>\n",
       "    </tr>\n",
       "  </tbody>\n",
       "</table>\n",
       "<p>1398 rows × 81 columns</p>\n",
       "</div>"
      ],
      "text/plain": [
       "        Id  SalePrice MSSubClass MSZoning  LotFrontage  LotArea Street Alley  \\\n",
       "0     1461     208500         20       RH         80.0    11622   Pave   NaN   \n",
       "1     1462     181500         20       RL         81.0    14267   Pave   NaN   \n",
       "2     1463     223500         60       RL         74.0    13830   Pave   NaN   \n",
       "3     1464     140000         60       RL         78.0     9978   Pave   NaN   \n",
       "4     1465     250000        120       RL         43.0     5005   Pave   NaN   \n",
       "...    ...        ...        ...      ...          ...      ...    ...   ...   \n",
       "1454  2915     185000        160       RM         21.0     1936   Pave   NaN   \n",
       "1455  2916     175000        160       RM         21.0     1894   Pave   NaN   \n",
       "1456  2917     210000         20       RL        160.0    20000   Pave   NaN   \n",
       "1457  2918     266500         85       RL         62.0    10441   Pave   NaN   \n",
       "1458  2919     142125         60       RL         74.0     9627   Pave   NaN   \n",
       "\n",
       "     LotShape LandContour  ... ScreenPorch PoolArea PoolQC  Fence MiscFeature  \\\n",
       "0         Reg         Lvl  ...         120        0    NaN  MnPrv         NaN   \n",
       "1         IR1         Lvl  ...           0        0    NaN    NaN        Gar2   \n",
       "2         IR1         Lvl  ...           0        0    NaN  MnPrv         NaN   \n",
       "3         IR1         Lvl  ...           0        0    NaN    NaN         NaN   \n",
       "4         IR1         HLS  ...         144        0    NaN    NaN         NaN   \n",
       "...       ...         ...  ...         ...      ...    ...    ...         ...   \n",
       "1454      Reg         Lvl  ...           0        0    NaN    NaN         NaN   \n",
       "1455      Reg         Lvl  ...           0        0    NaN    NaN         NaN   \n",
       "1456      Reg         Lvl  ...           0        0    NaN    NaN         NaN   \n",
       "1457      Reg         Lvl  ...           0        0    NaN  MnPrv        Shed   \n",
       "1458      Reg         Lvl  ...           0        0    NaN    NaN         NaN   \n",
       "\n",
       "     MiscVal MoSold YrSold SaleType SaleCondition  \n",
       "0          0      6   2010       WD        Normal  \n",
       "1      12500      6   2010       WD        Normal  \n",
       "2          0      3   2010       WD        Normal  \n",
       "3          0      6   2010       WD        Normal  \n",
       "4          0      1   2010       WD        Normal  \n",
       "...      ...    ...    ...      ...           ...  \n",
       "1454       0      6   2006       WD        Normal  \n",
       "1455       0      4   2006       WD       Abnorml  \n",
       "1456       0      9   2006       WD       Abnorml  \n",
       "1457     700      7   2006       WD        Normal  \n",
       "1458       0     11   2006       WD        Normal  \n",
       "\n",
       "[1398 rows x 81 columns]"
      ]
     },
     "execution_count": 838,
     "metadata": {},
     "output_type": "execute_result"
    }
   ],
   "source": [
    "maison_test"
   ]
  },
  {
   "cell_type": "code",
   "execution_count": 839,
   "id": "5a6df3e3",
   "metadata": {},
   "outputs": [],
   "source": [
    "maison_test= maison_test[maison_test[\"LotArea\"]<borne_sup_q1_LotArea]\n",
    "maison_test=maison_test[maison_test[\"LotArea\"]>borne_inf_LotArea]"
   ]
  },
  {
   "cell_type": "code",
   "execution_count": 840,
   "id": "663fa7b4",
   "metadata": {},
   "outputs": [
    {
     "data": {
      "text/html": [
       "<div>\n",
       "<style scoped>\n",
       "    .dataframe tbody tr th:only-of-type {\n",
       "        vertical-align: middle;\n",
       "    }\n",
       "\n",
       "    .dataframe tbody tr th {\n",
       "        vertical-align: top;\n",
       "    }\n",
       "\n",
       "    .dataframe thead th {\n",
       "        text-align: right;\n",
       "    }\n",
       "</style>\n",
       "<table border=\"1\" class=\"dataframe\">\n",
       "  <thead>\n",
       "    <tr style=\"text-align: right;\">\n",
       "      <th></th>\n",
       "      <th>Id</th>\n",
       "      <th>SalePrice</th>\n",
       "      <th>MSSubClass</th>\n",
       "      <th>MSZoning</th>\n",
       "      <th>LotFrontage</th>\n",
       "      <th>LotArea</th>\n",
       "      <th>Street</th>\n",
       "      <th>Alley</th>\n",
       "      <th>LotShape</th>\n",
       "      <th>LandContour</th>\n",
       "      <th>...</th>\n",
       "      <th>ScreenPorch</th>\n",
       "      <th>PoolArea</th>\n",
       "      <th>PoolQC</th>\n",
       "      <th>Fence</th>\n",
       "      <th>MiscFeature</th>\n",
       "      <th>MiscVal</th>\n",
       "      <th>MoSold</th>\n",
       "      <th>YrSold</th>\n",
       "      <th>SaleType</th>\n",
       "      <th>SaleCondition</th>\n",
       "    </tr>\n",
       "  </thead>\n",
       "  <tbody>\n",
       "    <tr>\n",
       "      <th>0</th>\n",
       "      <td>1461</td>\n",
       "      <td>208500</td>\n",
       "      <td>20</td>\n",
       "      <td>RH</td>\n",
       "      <td>80.0</td>\n",
       "      <td>11622</td>\n",
       "      <td>Pave</td>\n",
       "      <td>NaN</td>\n",
       "      <td>Reg</td>\n",
       "      <td>Lvl</td>\n",
       "      <td>...</td>\n",
       "      <td>120</td>\n",
       "      <td>0</td>\n",
       "      <td>NaN</td>\n",
       "      <td>MnPrv</td>\n",
       "      <td>NaN</td>\n",
       "      <td>0</td>\n",
       "      <td>6</td>\n",
       "      <td>2010</td>\n",
       "      <td>WD</td>\n",
       "      <td>Normal</td>\n",
       "    </tr>\n",
       "    <tr>\n",
       "      <th>1</th>\n",
       "      <td>1462</td>\n",
       "      <td>181500</td>\n",
       "      <td>20</td>\n",
       "      <td>RL</td>\n",
       "      <td>81.0</td>\n",
       "      <td>14267</td>\n",
       "      <td>Pave</td>\n",
       "      <td>NaN</td>\n",
       "      <td>IR1</td>\n",
       "      <td>Lvl</td>\n",
       "      <td>...</td>\n",
       "      <td>0</td>\n",
       "      <td>0</td>\n",
       "      <td>NaN</td>\n",
       "      <td>NaN</td>\n",
       "      <td>Gar2</td>\n",
       "      <td>12500</td>\n",
       "      <td>6</td>\n",
       "      <td>2010</td>\n",
       "      <td>WD</td>\n",
       "      <td>Normal</td>\n",
       "    </tr>\n",
       "    <tr>\n",
       "      <th>2</th>\n",
       "      <td>1463</td>\n",
       "      <td>223500</td>\n",
       "      <td>60</td>\n",
       "      <td>RL</td>\n",
       "      <td>74.0</td>\n",
       "      <td>13830</td>\n",
       "      <td>Pave</td>\n",
       "      <td>NaN</td>\n",
       "      <td>IR1</td>\n",
       "      <td>Lvl</td>\n",
       "      <td>...</td>\n",
       "      <td>0</td>\n",
       "      <td>0</td>\n",
       "      <td>NaN</td>\n",
       "      <td>MnPrv</td>\n",
       "      <td>NaN</td>\n",
       "      <td>0</td>\n",
       "      <td>3</td>\n",
       "      <td>2010</td>\n",
       "      <td>WD</td>\n",
       "      <td>Normal</td>\n",
       "    </tr>\n",
       "    <tr>\n",
       "      <th>3</th>\n",
       "      <td>1464</td>\n",
       "      <td>140000</td>\n",
       "      <td>60</td>\n",
       "      <td>RL</td>\n",
       "      <td>78.0</td>\n",
       "      <td>9978</td>\n",
       "      <td>Pave</td>\n",
       "      <td>NaN</td>\n",
       "      <td>IR1</td>\n",
       "      <td>Lvl</td>\n",
       "      <td>...</td>\n",
       "      <td>0</td>\n",
       "      <td>0</td>\n",
       "      <td>NaN</td>\n",
       "      <td>NaN</td>\n",
       "      <td>NaN</td>\n",
       "      <td>0</td>\n",
       "      <td>6</td>\n",
       "      <td>2010</td>\n",
       "      <td>WD</td>\n",
       "      <td>Normal</td>\n",
       "    </tr>\n",
       "    <tr>\n",
       "      <th>4</th>\n",
       "      <td>1465</td>\n",
       "      <td>250000</td>\n",
       "      <td>120</td>\n",
       "      <td>RL</td>\n",
       "      <td>43.0</td>\n",
       "      <td>5005</td>\n",
       "      <td>Pave</td>\n",
       "      <td>NaN</td>\n",
       "      <td>IR1</td>\n",
       "      <td>HLS</td>\n",
       "      <td>...</td>\n",
       "      <td>144</td>\n",
       "      <td>0</td>\n",
       "      <td>NaN</td>\n",
       "      <td>NaN</td>\n",
       "      <td>NaN</td>\n",
       "      <td>0</td>\n",
       "      <td>1</td>\n",
       "      <td>2010</td>\n",
       "      <td>WD</td>\n",
       "      <td>Normal</td>\n",
       "    </tr>\n",
       "    <tr>\n",
       "      <th>...</th>\n",
       "      <td>...</td>\n",
       "      <td>...</td>\n",
       "      <td>...</td>\n",
       "      <td>...</td>\n",
       "      <td>...</td>\n",
       "      <td>...</td>\n",
       "      <td>...</td>\n",
       "      <td>...</td>\n",
       "      <td>...</td>\n",
       "      <td>...</td>\n",
       "      <td>...</td>\n",
       "      <td>...</td>\n",
       "      <td>...</td>\n",
       "      <td>...</td>\n",
       "      <td>...</td>\n",
       "      <td>...</td>\n",
       "      <td>...</td>\n",
       "      <td>...</td>\n",
       "      <td>...</td>\n",
       "      <td>...</td>\n",
       "      <td>...</td>\n",
       "    </tr>\n",
       "    <tr>\n",
       "      <th>1453</th>\n",
       "      <td>2914</td>\n",
       "      <td>84500</td>\n",
       "      <td>160</td>\n",
       "      <td>RM</td>\n",
       "      <td>21.0</td>\n",
       "      <td>1526</td>\n",
       "      <td>Pave</td>\n",
       "      <td>NaN</td>\n",
       "      <td>Reg</td>\n",
       "      <td>Lvl</td>\n",
       "      <td>...</td>\n",
       "      <td>0</td>\n",
       "      <td>0</td>\n",
       "      <td>NaN</td>\n",
       "      <td>GdPrv</td>\n",
       "      <td>NaN</td>\n",
       "      <td>0</td>\n",
       "      <td>6</td>\n",
       "      <td>2006</td>\n",
       "      <td>WD</td>\n",
       "      <td>Normal</td>\n",
       "    </tr>\n",
       "    <tr>\n",
       "      <th>1454</th>\n",
       "      <td>2915</td>\n",
       "      <td>185000</td>\n",
       "      <td>160</td>\n",
       "      <td>RM</td>\n",
       "      <td>21.0</td>\n",
       "      <td>1936</td>\n",
       "      <td>Pave</td>\n",
       "      <td>NaN</td>\n",
       "      <td>Reg</td>\n",
       "      <td>Lvl</td>\n",
       "      <td>...</td>\n",
       "      <td>0</td>\n",
       "      <td>0</td>\n",
       "      <td>NaN</td>\n",
       "      <td>NaN</td>\n",
       "      <td>NaN</td>\n",
       "      <td>0</td>\n",
       "      <td>6</td>\n",
       "      <td>2006</td>\n",
       "      <td>WD</td>\n",
       "      <td>Normal</td>\n",
       "    </tr>\n",
       "    <tr>\n",
       "      <th>1455</th>\n",
       "      <td>2916</td>\n",
       "      <td>175000</td>\n",
       "      <td>160</td>\n",
       "      <td>RM</td>\n",
       "      <td>21.0</td>\n",
       "      <td>1894</td>\n",
       "      <td>Pave</td>\n",
       "      <td>NaN</td>\n",
       "      <td>Reg</td>\n",
       "      <td>Lvl</td>\n",
       "      <td>...</td>\n",
       "      <td>0</td>\n",
       "      <td>0</td>\n",
       "      <td>NaN</td>\n",
       "      <td>NaN</td>\n",
       "      <td>NaN</td>\n",
       "      <td>0</td>\n",
       "      <td>4</td>\n",
       "      <td>2006</td>\n",
       "      <td>WD</td>\n",
       "      <td>Abnorml</td>\n",
       "    </tr>\n",
       "    <tr>\n",
       "      <th>1457</th>\n",
       "      <td>2918</td>\n",
       "      <td>266500</td>\n",
       "      <td>85</td>\n",
       "      <td>RL</td>\n",
       "      <td>62.0</td>\n",
       "      <td>10441</td>\n",
       "      <td>Pave</td>\n",
       "      <td>NaN</td>\n",
       "      <td>Reg</td>\n",
       "      <td>Lvl</td>\n",
       "      <td>...</td>\n",
       "      <td>0</td>\n",
       "      <td>0</td>\n",
       "      <td>NaN</td>\n",
       "      <td>MnPrv</td>\n",
       "      <td>Shed</td>\n",
       "      <td>700</td>\n",
       "      <td>7</td>\n",
       "      <td>2006</td>\n",
       "      <td>WD</td>\n",
       "      <td>Normal</td>\n",
       "    </tr>\n",
       "    <tr>\n",
       "      <th>1458</th>\n",
       "      <td>2919</td>\n",
       "      <td>142125</td>\n",
       "      <td>60</td>\n",
       "      <td>RL</td>\n",
       "      <td>74.0</td>\n",
       "      <td>9627</td>\n",
       "      <td>Pave</td>\n",
       "      <td>NaN</td>\n",
       "      <td>Reg</td>\n",
       "      <td>Lvl</td>\n",
       "      <td>...</td>\n",
       "      <td>0</td>\n",
       "      <td>0</td>\n",
       "      <td>NaN</td>\n",
       "      <td>NaN</td>\n",
       "      <td>NaN</td>\n",
       "      <td>0</td>\n",
       "      <td>11</td>\n",
       "      <td>2006</td>\n",
       "      <td>WD</td>\n",
       "      <td>Normal</td>\n",
       "    </tr>\n",
       "  </tbody>\n",
       "</table>\n",
       "<p>1340 rows × 81 columns</p>\n",
       "</div>"
      ],
      "text/plain": [
       "        Id  SalePrice MSSubClass MSZoning  LotFrontage  LotArea Street Alley  \\\n",
       "0     1461     208500         20       RH         80.0    11622   Pave   NaN   \n",
       "1     1462     181500         20       RL         81.0    14267   Pave   NaN   \n",
       "2     1463     223500         60       RL         74.0    13830   Pave   NaN   \n",
       "3     1464     140000         60       RL         78.0     9978   Pave   NaN   \n",
       "4     1465     250000        120       RL         43.0     5005   Pave   NaN   \n",
       "...    ...        ...        ...      ...          ...      ...    ...   ...   \n",
       "1453  2914      84500        160       RM         21.0     1526   Pave   NaN   \n",
       "1454  2915     185000        160       RM         21.0     1936   Pave   NaN   \n",
       "1455  2916     175000        160       RM         21.0     1894   Pave   NaN   \n",
       "1457  2918     266500         85       RL         62.0    10441   Pave   NaN   \n",
       "1458  2919     142125         60       RL         74.0     9627   Pave   NaN   \n",
       "\n",
       "     LotShape LandContour  ... ScreenPorch PoolArea PoolQC  Fence MiscFeature  \\\n",
       "0         Reg         Lvl  ...         120        0    NaN  MnPrv         NaN   \n",
       "1         IR1         Lvl  ...           0        0    NaN    NaN        Gar2   \n",
       "2         IR1         Lvl  ...           0        0    NaN  MnPrv         NaN   \n",
       "3         IR1         Lvl  ...           0        0    NaN    NaN         NaN   \n",
       "4         IR1         HLS  ...         144        0    NaN    NaN         NaN   \n",
       "...       ...         ...  ...         ...      ...    ...    ...         ...   \n",
       "1453      Reg         Lvl  ...           0        0    NaN  GdPrv         NaN   \n",
       "1454      Reg         Lvl  ...           0        0    NaN    NaN         NaN   \n",
       "1455      Reg         Lvl  ...           0        0    NaN    NaN         NaN   \n",
       "1457      Reg         Lvl  ...           0        0    NaN  MnPrv        Shed   \n",
       "1458      Reg         Lvl  ...           0        0    NaN    NaN         NaN   \n",
       "\n",
       "     MiscVal MoSold YrSold SaleType SaleCondition  \n",
       "0          0      6   2010       WD        Normal  \n",
       "1      12500      6   2010       WD        Normal  \n",
       "2          0      3   2010       WD        Normal  \n",
       "3          0      6   2010       WD        Normal  \n",
       "4          0      1   2010       WD        Normal  \n",
       "...      ...    ...    ...      ...           ...  \n",
       "1453       0      6   2006       WD        Normal  \n",
       "1454       0      6   2006       WD        Normal  \n",
       "1455       0      4   2006       WD       Abnorml  \n",
       "1457     700      7   2006       WD        Normal  \n",
       "1458       0     11   2006       WD        Normal  \n",
       "\n",
       "[1340 rows x 81 columns]"
      ]
     },
     "execution_count": 840,
     "metadata": {},
     "output_type": "execute_result"
    }
   ],
   "source": [
    "maison_test"
   ]
  },
  {
   "cell_type": "code",
   "execution_count": 841,
   "id": "d9cac592",
   "metadata": {},
   "outputs": [],
   "source": [
    "#Nous nous retrouvons avec une base de données possédant 1340 observations.\n",
    "\n"
   ]
  },
  {
   "cell_type": "markdown",
   "id": "caecf954",
   "metadata": {},
   "source": [
    "Imputation des variables manquantes "
   ]
  },
  {
   "cell_type": "markdown",
   "id": "13bbd23a",
   "metadata": {},
   "source": [
    "Nous allons remplacer les variables numériques ayant peu de valeurs manquantes par leur moyenne et les variables catégorielles ayant le peu de variables manquantes par leur mode. "
   ]
  },
  {
   "cell_type": "code",
   "execution_count": 842,
   "id": "babac383",
   "metadata": {},
   "outputs": [
    {
     "data": {
      "text/html": [
       "<div>\n",
       "<style scoped>\n",
       "    .dataframe tbody tr th:only-of-type {\n",
       "        vertical-align: middle;\n",
       "    }\n",
       "\n",
       "    .dataframe tbody tr th {\n",
       "        vertical-align: top;\n",
       "    }\n",
       "\n",
       "    .dataframe thead th {\n",
       "        text-align: right;\n",
       "    }\n",
       "</style>\n",
       "<table border=\"1\" class=\"dataframe\">\n",
       "  <thead>\n",
       "    <tr style=\"text-align: right;\">\n",
       "      <th></th>\n",
       "      <th>Missing Ratio</th>\n",
       "    </tr>\n",
       "  </thead>\n",
       "  <tbody>\n",
       "    <tr>\n",
       "      <th>PoolQC</th>\n",
       "      <td>99.850746</td>\n",
       "    </tr>\n",
       "    <tr>\n",
       "      <th>MiscFeature</th>\n",
       "      <td>96.641791</td>\n",
       "    </tr>\n",
       "    <tr>\n",
       "      <th>Alley</th>\n",
       "      <td>92.462687</td>\n",
       "    </tr>\n",
       "    <tr>\n",
       "      <th>Fence</th>\n",
       "      <td>80.000000</td>\n",
       "    </tr>\n",
       "    <tr>\n",
       "      <th>FireplaceQu</th>\n",
       "      <td>50.895522</td>\n",
       "    </tr>\n",
       "    <tr>\n",
       "      <th>LotFrontage</th>\n",
       "      <td>14.776119</td>\n",
       "    </tr>\n",
       "    <tr>\n",
       "      <th>GarageYrBlt</th>\n",
       "      <td>5.597015</td>\n",
       "    </tr>\n",
       "    <tr>\n",
       "      <th>GarageQual</th>\n",
       "      <td>5.597015</td>\n",
       "    </tr>\n",
       "    <tr>\n",
       "      <th>GarageCond</th>\n",
       "      <td>5.597015</td>\n",
       "    </tr>\n",
       "    <tr>\n",
       "      <th>GarageFinish</th>\n",
       "      <td>5.597015</td>\n",
       "    </tr>\n",
       "    <tr>\n",
       "      <th>GarageType</th>\n",
       "      <td>5.447761</td>\n",
       "    </tr>\n",
       "    <tr>\n",
       "      <th>BsmtCond</th>\n",
       "      <td>2.835821</td>\n",
       "    </tr>\n",
       "    <tr>\n",
       "      <th>BsmtExposure</th>\n",
       "      <td>2.761194</td>\n",
       "    </tr>\n",
       "    <tr>\n",
       "      <th>BsmtQual</th>\n",
       "      <td>2.761194</td>\n",
       "    </tr>\n",
       "    <tr>\n",
       "      <th>BsmtFinType2</th>\n",
       "      <td>2.611940</td>\n",
       "    </tr>\n",
       "    <tr>\n",
       "      <th>BsmtFinType1</th>\n",
       "      <td>2.611940</td>\n",
       "    </tr>\n",
       "    <tr>\n",
       "      <th>MasVnrArea</th>\n",
       "      <td>1.044776</td>\n",
       "    </tr>\n",
       "    <tr>\n",
       "      <th>MasVnrType</th>\n",
       "      <td>1.044776</td>\n",
       "    </tr>\n",
       "    <tr>\n",
       "      <th>Functional</th>\n",
       "      <td>0.149254</td>\n",
       "    </tr>\n",
       "    <tr>\n",
       "      <th>GarageCars</th>\n",
       "      <td>0.074627</td>\n",
       "    </tr>\n",
       "    <tr>\n",
       "      <th>GarageArea</th>\n",
       "      <td>0.074627</td>\n",
       "    </tr>\n",
       "    <tr>\n",
       "      <th>MSZoning</th>\n",
       "      <td>0.074627</td>\n",
       "    </tr>\n",
       "    <tr>\n",
       "      <th>BsmtHalfBath</th>\n",
       "      <td>0.074627</td>\n",
       "    </tr>\n",
       "    <tr>\n",
       "      <th>KitchenQual</th>\n",
       "      <td>0.074627</td>\n",
       "    </tr>\n",
       "    <tr>\n",
       "      <th>BsmtFullBath</th>\n",
       "      <td>0.074627</td>\n",
       "    </tr>\n",
       "    <tr>\n",
       "      <th>TotalBsmtSF</th>\n",
       "      <td>0.074627</td>\n",
       "    </tr>\n",
       "    <tr>\n",
       "      <th>BsmtUnfSF</th>\n",
       "      <td>0.074627</td>\n",
       "    </tr>\n",
       "    <tr>\n",
       "      <th>BsmtFinSF2</th>\n",
       "      <td>0.074627</td>\n",
       "    </tr>\n",
       "    <tr>\n",
       "      <th>BsmtFinSF1</th>\n",
       "      <td>0.074627</td>\n",
       "    </tr>\n",
       "    <tr>\n",
       "      <th>SaleType</th>\n",
       "      <td>0.074627</td>\n",
       "    </tr>\n",
       "  </tbody>\n",
       "</table>\n",
       "</div>"
      ],
      "text/plain": [
       "              Missing Ratio\n",
       "PoolQC            99.850746\n",
       "MiscFeature       96.641791\n",
       "Alley             92.462687\n",
       "Fence             80.000000\n",
       "FireplaceQu       50.895522\n",
       "LotFrontage       14.776119\n",
       "GarageYrBlt        5.597015\n",
       "GarageQual         5.597015\n",
       "GarageCond         5.597015\n",
       "GarageFinish       5.597015\n",
       "GarageType         5.447761\n",
       "BsmtCond           2.835821\n",
       "BsmtExposure       2.761194\n",
       "BsmtQual           2.761194\n",
       "BsmtFinType2       2.611940\n",
       "BsmtFinType1       2.611940\n",
       "MasVnrArea         1.044776\n",
       "MasVnrType         1.044776\n",
       "Functional         0.149254\n",
       "GarageCars         0.074627\n",
       "GarageArea         0.074627\n",
       "MSZoning           0.074627\n",
       "BsmtHalfBath       0.074627\n",
       "KitchenQual        0.074627\n",
       "BsmtFullBath       0.074627\n",
       "TotalBsmtSF        0.074627\n",
       "BsmtUnfSF          0.074627\n",
       "BsmtFinSF2         0.074627\n",
       "BsmtFinSF1         0.074627\n",
       "SaleType           0.074627"
      ]
     },
     "execution_count": 842,
     "metadata": {},
     "output_type": "execute_result"
    }
   ],
   "source": [
    "maison_test_na = (maison_test.isnull().sum() / len(maison_test)) * 100\n",
    "maison_test_na= maison_test_na.drop(maison_test_na[maison_test_na == 0].index).sort_values(ascending=False)[:30]\n",
    "missing_data = pd.DataFrame({'Missing Ratio' :maison_test_na})\n",
    "missing_data"
   ]
  },
  {
   "cell_type": "code",
   "execution_count": 843,
   "id": "f0c4ca8b",
   "metadata": {},
   "outputs": [],
   "source": [
    "maison_test['MSZoning'].fillna(maison_test.MSZoning.mode()[0], inplace = True)\n",
    "maison_test['Utilities'].fillna(maison_test.Utilities.mode()[0], inplace = True)\n",
    "maison_test['MasVnrArea'].fillna(maison_test.MasVnrArea.mean(), inplace = True)\n",
    "maison_test['MasVnrType'].fillna(maison_test.MasVnrType.mode()[0], inplace = True)\n",
    "maison_test['Exterior1st'].fillna(maison_test.Exterior1st.mode()[0], inplace = True)\n",
    "maison_test['Exterior2nd'].fillna(maison_test.Exterior2nd.mode()[0], inplace = True)\n",
    "maison_test['LotFrontage'].fillna(maison_test.LotFrontage.mean(), inplace = True)\n",
    "maison_test['SaleType'].fillna(maison_test.SaleType.mode()[0], inplace = True)\n",
    "maison_test['BsmtUnfSF'].fillna(maison_test.BsmtUnfSF.mean(), inplace = True)\n",
    "maison_test['BsmtFinSF2'].fillna(maison_test.BsmtFinSF2.mean(), inplace = True)\n",
    "maison_test['BsmtFinSF1'].fillna(maison_test.BsmtFinSF1.mean(), inplace = True)\n",
    "maison_test['TotalBsmtSF'].fillna(maison_test.TotalBsmtSF.mean(), inplace = True)\n",
    "maison_test['KitchenQual'].fillna(maison_test.KitchenQual.mode()[0], inplace = True)\n",
    "maison_test['BsmtFullBath'].fillna(maison_test.BsmtFullBath.mean(), inplace = True)\n",
    "maison_test['BsmtHalfBath'].fillna(maison_test.BsmtHalfBath.mean(), inplace = True)\n",
    "maison_test['GarageYrBlt'].fillna(maison_test.GarageYrBlt.mean(), inplace = True)\n",
    "maison_test['Functional'].fillna(maison_test.Functional.mode()[0], inplace = True)\n",
    "maison_test['GarageArea'].fillna(maison_test.GarageArea.mean(), inplace = True)\n",
    "maison_test['GarageCars'].fillna(maison_test.GarageCars.mean(), inplace = True)\n"
   ]
  },
  {
   "cell_type": "markdown",
   "id": "9566d828",
   "metadata": {},
   "source": [
    "Certaines variables n'ont pas été supprimées car elles prenaient en compte le NA comme une modalité. "
   ]
  },
  {
   "cell_type": "markdown",
   "id": "948c8aff",
   "metadata": {},
   "source": [
    "CORRÉLATION ENTRE LES VARIABLES "
   ]
  },
  {
   "cell_type": "code",
   "execution_count": 844,
   "id": "19379079",
   "metadata": {},
   "outputs": [
    {
     "data": {
      "text/plain": [
       "<AxesSubplot:>"
      ]
     },
     "execution_count": 844,
     "metadata": {},
     "output_type": "execute_result"
    },
    {
     "data": {
      "image/png": "[encoded data removed]",
      "text/plain": [
       "<Figure size 1152x1152 with 2 Axes>"
      ]
     },
     "metadata": {
      "needs_background": "light"
     },
     "output_type": "display_data"
    }
   ],
   "source": [
    "# Nous regardons la corrélation entre les variables \n",
    "f,ax = plt.subplots(figsize=(16, 16))\n",
    "sns.heatmap(maison_test.corr(), annot=True, linewidths=.5, fmt= '.1f',ax=ax)\n"
   ]
  },
  {
   "cell_type": "markdown",
   "id": "e056108a",
   "metadata": {},
   "source": [
    "Nous constatons que certaines variables explicatives sont corrélées entre elles . En effet , la variable YearBuilt est corrélée positivement avec la variable YearRemodAdd (0.60). Elle est aussi correlée positivement avec la variable GarageYrBlt (0.80). La variable GarageYrBlt est aussi correlée positivement avec la variable YearRemodAdd (0.60). Les variables TotRmsAbvGrd et GrLivArea sont correlées positivement(0.80).  Les variables GarageCars et GarageArea sont correlées positivement(0.90). La variable BedroomAbvGr est aussi correlée avec la variable TotRmsAbvGrd (0.70). Les variables TotalBmstSF et 2ndFirSF sont aussi corrélées positivement(0.60). \n",
    "Aucune variable ne semble etre vraiment corrélée avec la variable à prédire \n"
   ]
  },
  {
   "cell_type": "markdown",
   "id": "cd8d4a89",
   "metadata": {},
   "source": [
    "Par souci de multicolinéarité , on décide de supprimer les variables YearBuilt , GarageYrBlt ,TotRmsAbvGrd ,  GarageCars  et TotalBmstSF ."
   ]
  },
  {
   "cell_type": "code",
   "execution_count": 845,
   "id": "54958063",
   "metadata": {},
   "outputs": [],
   "source": [
    "maison_test.drop([\"YearBuilt\",\"TotalBsmtSF\",\"TotRmsAbvGrd\",\"GarageYrBlt\",\"GarageCars\"], axis = 1, inplace = True)"
   ]
  },
  {
   "cell_type": "markdown",
   "id": "ff6a87ca",
   "metadata": {},
   "source": [
    "Préparation des bases de données pour l'échantillon "
   ]
  },
  {
   "cell_type": "markdown",
   "id": "b349d97b",
   "metadata": {},
   "source": [
    "Echantillonnage des données"
   ]
  },
  {
   "cell_type": "markdown",
   "id": "74101ad5",
   "metadata": {},
   "source": [
    "Dans cette partie , nous allons créer les bases d'entrainement et les bases de validations de notre base de données. "
   ]
  },
  {
   "cell_type": "code",
   "execution_count": 846,
   "id": "5c0c1e9c",
   "metadata": {},
   "outputs": [],
   "source": [
    "X_maison = maison_test.drop(['SalePrice'], axis = 1)# les variables explicatives\n",
    "Y_maison = maison_test[['SalePrice']]# Variable Target ou variable à prédire "
   ]
  },
  {
   "cell_type": "code",
   "execution_count": 847,
   "id": "7c93d7a6",
   "metadata": {},
   "outputs": [],
   "source": [
    "from sklearn.model_selection import train_test_split"
   ]
  },
  {
   "cell_type": "code",
   "execution_count": 848,
   "id": "43700c6a",
   "metadata": {},
   "outputs": [],
   "source": [
    "X_train, X_valid , Y_train , Y_valid = train_test_split(X_maison ,Y_maison, random_state=0,train_size=0.7)\n",
    "\n"
   ]
  },
  {
   "cell_type": "markdown",
   "id": "d3cad37f",
   "metadata": {},
   "source": [
    "MACHINE LEARNING"
   ]
  },
  {
   "cell_type": "markdown",
   "id": "80738823",
   "metadata": {},
   "source": [
    "ARBRE DE DÉCISION"
   ]
  },
  {
   "cell_type": "markdown",
   "id": "d5d44855",
   "metadata": {},
   "source": [
    "Nous décidons d'utiliser l'arbre de décision car ce dernier utilise à la fois les variables numériques et qualitatves. Vu que notre variable à prédire est continue , nous allons alors utiliser une régression . "
   ]
  },
  {
   "cell_type": "code",
   "execution_count": 850,
   "id": "64a16c12",
   "metadata": {},
   "outputs": [],
   "source": [
    "clf = DecisionTreeRegressor()\n",
    "\n"
   ]
  },
  {
   "cell_type": "markdown",
   "id": "46a3b5ee",
   "metadata": {},
   "source": [
    "On a  constaté , la base de donnée ne prend pas en compte les variables de type string"
   ]
  },
  {
   "cell_type": "code",
   "execution_count": 851,
   "id": "c39bb6cc",
   "metadata": {},
   "outputs": [],
   "source": [
    "maison_test.drop([\"MSZoning\",\"Street\",\"Alley\",\n",
    "                  \"LotShape\",\"LandContour\",\"Utilities\"\n",
    "                  ,\"LotConfig\",\"LandSlope\",\"Neighborhood\"\n",
    "                  ,\"Condition1\",\n",
    "                 \"Condition2\",\"BldgType\",\"HouseStyle\"\n",
    "                  ,\"RoofStyle\",\"RoofMatl\",\"Exterior1st\"\n",
    "                  ,\"Exterior2nd\",\"MasVnrType\",\"ExterQual\"\n",
    "                  ,\"ExterCond\",\n",
    "                  \"Foundation\",\"BsmtQual\",\"BsmtCond\"\n",
    "                  ,\"BsmtExposure\",\"BsmtFinType1\",\"BsmtFinType2\"\n",
    "                  ,\"Heating\",\"HeatingQC\",\n",
    "                  \"CentralAir\",\"Electrical\",\"KitchenQual\"\n",
    "                  ,\"Functional\",\"FireplaceQu\",\"GarageType\"\n",
    "                  ,\"GarageFinish\",\"GarageQual\",\"GarageCond\"\n",
    "                  ,\"PavedDrive\",\"PoolQC\"\n",
    "                  ,\"Fence\",\"MiscFeature\",\"SaleType\"\n",
    "                  ,\"SaleCondition\"], axis = 1, inplace = True)"
   ]
  },
  {
   "cell_type": "code",
   "execution_count": 852,
   "id": "b780ed0b",
   "metadata": {},
   "outputs": [],
   "source": [
    "X_maison = maison_test.drop(['SalePrice'], axis = 1)# les variables explicatives\n",
    "Y_maison = maison_test[['SalePrice']]# Variable Target ou variable à prédire "
   ]
  },
  {
   "cell_type": "code",
   "execution_count": 853,
   "id": "0311f7df",
   "metadata": {},
   "outputs": [],
   "source": [
    "from sklearn.model_selection import train_test_split\n",
    "X_train, X_valid , Y_train , Y_valid = train_test_split(X_maison ,Y_maison, random_state=0,train_size=0.7)\n",
    "\n",
    "\n"
   ]
  },
  {
   "cell_type": "code",
   "execution_count": 854,
   "id": "ad0bde66",
   "metadata": {},
   "outputs": [
    {
     "data": {
      "text/html": [
       "<div>\n",
       "<style scoped>\n",
       "    .dataframe tbody tr th:only-of-type {\n",
       "        vertical-align: middle;\n",
       "    }\n",
       "\n",
       "    .dataframe tbody tr th {\n",
       "        vertical-align: top;\n",
       "    }\n",
       "\n",
       "    .dataframe thead th {\n",
       "        text-align: right;\n",
       "    }\n",
       "</style>\n",
       "<table border=\"1\" class=\"dataframe\">\n",
       "  <thead>\n",
       "    <tr style=\"text-align: right;\">\n",
       "      <th></th>\n",
       "      <th>Id</th>\n",
       "      <th>MSSubClass</th>\n",
       "      <th>LotFrontage</th>\n",
       "      <th>LotArea</th>\n",
       "      <th>OverallQual</th>\n",
       "      <th>OverallCond</th>\n",
       "      <th>YearRemodAdd</th>\n",
       "      <th>MasVnrArea</th>\n",
       "      <th>BsmtFinSF1</th>\n",
       "      <th>BsmtFinSF2</th>\n",
       "      <th>...</th>\n",
       "      <th>GarageArea</th>\n",
       "      <th>WoodDeckSF</th>\n",
       "      <th>OpenPorchSF</th>\n",
       "      <th>EnclosedPorch</th>\n",
       "      <th>3SsnPorch</th>\n",
       "      <th>ScreenPorch</th>\n",
       "      <th>PoolArea</th>\n",
       "      <th>MiscVal</th>\n",
       "      <th>MoSold</th>\n",
       "      <th>YrSold</th>\n",
       "    </tr>\n",
       "  </thead>\n",
       "  <tbody>\n",
       "    <tr>\n",
       "      <th>1286</th>\n",
       "      <td>2747</td>\n",
       "      <td>20</td>\n",
       "      <td>75.0</td>\n",
       "      <td>10170</td>\n",
       "      <td>6</td>\n",
       "      <td>6</td>\n",
       "      <td>1951</td>\n",
       "      <td>522.0</td>\n",
       "      <td>0.0</td>\n",
       "      <td>0.0</td>\n",
       "      <td>...</td>\n",
       "      <td>400.0</td>\n",
       "      <td>0</td>\n",
       "      <td>0</td>\n",
       "      <td>0</td>\n",
       "      <td>0</td>\n",
       "      <td>0</td>\n",
       "      <td>0</td>\n",
       "      <td>0</td>\n",
       "      <td>6</td>\n",
       "      <td>2006</td>\n",
       "    </tr>\n",
       "    <tr>\n",
       "      <th>507</th>\n",
       "      <td>1968</td>\n",
       "      <td>20</td>\n",
       "      <td>105.0</td>\n",
       "      <td>13693</td>\n",
       "      <td>8</td>\n",
       "      <td>5</td>\n",
       "      <td>2007</td>\n",
       "      <td>554.0</td>\n",
       "      <td>1728.0</td>\n",
       "      <td>495.0</td>\n",
       "      <td>...</td>\n",
       "      <td>650.0</td>\n",
       "      <td>358</td>\n",
       "      <td>78</td>\n",
       "      <td>0</td>\n",
       "      <td>0</td>\n",
       "      <td>0</td>\n",
       "      <td>0</td>\n",
       "      <td>0</td>\n",
       "      <td>8</td>\n",
       "      <td>2008</td>\n",
       "    </tr>\n",
       "    <tr>\n",
       "      <th>1064</th>\n",
       "      <td>2525</td>\n",
       "      <td>80</td>\n",
       "      <td>72.0</td>\n",
       "      <td>9720</td>\n",
       "      <td>5</td>\n",
       "      <td>7</td>\n",
       "      <td>1977</td>\n",
       "      <td>51.0</td>\n",
       "      <td>755.0</td>\n",
       "      <td>0.0</td>\n",
       "      <td>...</td>\n",
       "      <td>576.0</td>\n",
       "      <td>0</td>\n",
       "      <td>0</td>\n",
       "      <td>0</td>\n",
       "      <td>0</td>\n",
       "      <td>0</td>\n",
       "      <td>0</td>\n",
       "      <td>0</td>\n",
       "      <td>6</td>\n",
       "      <td>2007</td>\n",
       "    </tr>\n",
       "    <tr>\n",
       "      <th>102</th>\n",
       "      <td>1563</td>\n",
       "      <td>20</td>\n",
       "      <td>65.0</td>\n",
       "      <td>7832</td>\n",
       "      <td>5</td>\n",
       "      <td>5</td>\n",
       "      <td>1968</td>\n",
       "      <td>0.0</td>\n",
       "      <td>775.0</td>\n",
       "      <td>0.0</td>\n",
       "      <td>...</td>\n",
       "      <td>280.0</td>\n",
       "      <td>226</td>\n",
       "      <td>0</td>\n",
       "      <td>0</td>\n",
       "      <td>0</td>\n",
       "      <td>0</td>\n",
       "      <td>0</td>\n",
       "      <td>0</td>\n",
       "      <td>5</td>\n",
       "      <td>2010</td>\n",
       "    </tr>\n",
       "    <tr>\n",
       "      <th>453</th>\n",
       "      <td>1914</td>\n",
       "      <td>30</td>\n",
       "      <td>60.0</td>\n",
       "      <td>10200</td>\n",
       "      <td>4</td>\n",
       "      <td>6</td>\n",
       "      <td>1950</td>\n",
       "      <td>0.0</td>\n",
       "      <td>0.0</td>\n",
       "      <td>0.0</td>\n",
       "      <td>...</td>\n",
       "      <td>200.0</td>\n",
       "      <td>0</td>\n",
       "      <td>0</td>\n",
       "      <td>72</td>\n",
       "      <td>0</td>\n",
       "      <td>0</td>\n",
       "      <td>0</td>\n",
       "      <td>0</td>\n",
       "      <td>5</td>\n",
       "      <td>2009</td>\n",
       "    </tr>\n",
       "    <tr>\n",
       "      <th>...</th>\n",
       "      <td>...</td>\n",
       "      <td>...</td>\n",
       "      <td>...</td>\n",
       "      <td>...</td>\n",
       "      <td>...</td>\n",
       "      <td>...</td>\n",
       "      <td>...</td>\n",
       "      <td>...</td>\n",
       "      <td>...</td>\n",
       "      <td>...</td>\n",
       "      <td>...</td>\n",
       "      <td>...</td>\n",
       "      <td>...</td>\n",
       "      <td>...</td>\n",
       "      <td>...</td>\n",
       "      <td>...</td>\n",
       "      <td>...</td>\n",
       "      <td>...</td>\n",
       "      <td>...</td>\n",
       "      <td>...</td>\n",
       "      <td>...</td>\n",
       "    </tr>\n",
       "    <tr>\n",
       "      <th>830</th>\n",
       "      <td>2291</td>\n",
       "      <td>60</td>\n",
       "      <td>110.0</td>\n",
       "      <td>13440</td>\n",
       "      <td>8</td>\n",
       "      <td>5</td>\n",
       "      <td>2007</td>\n",
       "      <td>190.0</td>\n",
       "      <td>0.0</td>\n",
       "      <td>0.0</td>\n",
       "      <td>...</td>\n",
       "      <td>670.0</td>\n",
       "      <td>120</td>\n",
       "      <td>39</td>\n",
       "      <td>0</td>\n",
       "      <td>0</td>\n",
       "      <td>0</td>\n",
       "      <td>0</td>\n",
       "      <td>0</td>\n",
       "      <td>3</td>\n",
       "      <td>2007</td>\n",
       "    </tr>\n",
       "    <tr>\n",
       "      <th>905</th>\n",
       "      <td>2366</td>\n",
       "      <td>120</td>\n",
       "      <td>80.0</td>\n",
       "      <td>3523</td>\n",
       "      <td>8</td>\n",
       "      <td>5</td>\n",
       "      <td>2007</td>\n",
       "      <td>30.0</td>\n",
       "      <td>60.0</td>\n",
       "      <td>0.0</td>\n",
       "      <td>...</td>\n",
       "      <td>484.0</td>\n",
       "      <td>0</td>\n",
       "      <td>60</td>\n",
       "      <td>0</td>\n",
       "      <td>0</td>\n",
       "      <td>0</td>\n",
       "      <td>0</td>\n",
       "      <td>0</td>\n",
       "      <td>2</td>\n",
       "      <td>2007</td>\n",
       "    </tr>\n",
       "    <tr>\n",
       "      <th>1320</th>\n",
       "      <td>2781</td>\n",
       "      <td>30</td>\n",
       "      <td>50.0</td>\n",
       "      <td>5633</td>\n",
       "      <td>5</td>\n",
       "      <td>7</td>\n",
       "      <td>1950</td>\n",
       "      <td>0.0</td>\n",
       "      <td>0.0</td>\n",
       "      <td>0.0</td>\n",
       "      <td>...</td>\n",
       "      <td>216.0</td>\n",
       "      <td>50</td>\n",
       "      <td>81</td>\n",
       "      <td>123</td>\n",
       "      <td>0</td>\n",
       "      <td>0</td>\n",
       "      <td>0</td>\n",
       "      <td>0</td>\n",
       "      <td>7</td>\n",
       "      <td>2006</td>\n",
       "    </tr>\n",
       "    <tr>\n",
       "      <th>601</th>\n",
       "      <td>2062</td>\n",
       "      <td>20</td>\n",
       "      <td>75.0</td>\n",
       "      <td>10425</td>\n",
       "      <td>5</td>\n",
       "      <td>5</td>\n",
       "      <td>1958</td>\n",
       "      <td>0.0</td>\n",
       "      <td>774.0</td>\n",
       "      <td>0.0</td>\n",
       "      <td>...</td>\n",
       "      <td>384.0</td>\n",
       "      <td>0</td>\n",
       "      <td>0</td>\n",
       "      <td>0</td>\n",
       "      <td>0</td>\n",
       "      <td>0</td>\n",
       "      <td>0</td>\n",
       "      <td>0</td>\n",
       "      <td>4</td>\n",
       "      <td>2008</td>\n",
       "    </tr>\n",
       "    <tr>\n",
       "      <th>739</th>\n",
       "      <td>2200</td>\n",
       "      <td>70</td>\n",
       "      <td>66.0</td>\n",
       "      <td>8969</td>\n",
       "      <td>6</td>\n",
       "      <td>6</td>\n",
       "      <td>1950</td>\n",
       "      <td>0.0</td>\n",
       "      <td>379.0</td>\n",
       "      <td>0.0</td>\n",
       "      <td>...</td>\n",
       "      <td>369.0</td>\n",
       "      <td>0</td>\n",
       "      <td>0</td>\n",
       "      <td>0</td>\n",
       "      <td>0</td>\n",
       "      <td>192</td>\n",
       "      <td>0</td>\n",
       "      <td>0</td>\n",
       "      <td>7</td>\n",
       "      <td>2008</td>\n",
       "    </tr>\n",
       "  </tbody>\n",
       "</table>\n",
       "<p>937 rows × 32 columns</p>\n",
       "</div>"
      ],
      "text/plain": [
       "        Id MSSubClass  LotFrontage  LotArea OverallQual OverallCond  \\\n",
       "1286  2747         20         75.0    10170           6           6   \n",
       "507   1968         20        105.0    13693           8           5   \n",
       "1064  2525         80         72.0     9720           5           7   \n",
       "102   1563         20         65.0     7832           5           5   \n",
       "453   1914         30         60.0    10200           4           6   \n",
       "...    ...        ...          ...      ...         ...         ...   \n",
       "830   2291         60        110.0    13440           8           5   \n",
       "905   2366        120         80.0     3523           8           5   \n",
       "1320  2781         30         50.0     5633           5           7   \n",
       "601   2062         20         75.0    10425           5           5   \n",
       "739   2200         70         66.0     8969           6           6   \n",
       "\n",
       "      YearRemodAdd  MasVnrArea  BsmtFinSF1  BsmtFinSF2  ...  GarageArea  \\\n",
       "1286          1951       522.0         0.0         0.0  ...       400.0   \n",
       "507           2007       554.0      1728.0       495.0  ...       650.0   \n",
       "1064          1977        51.0       755.0         0.0  ...       576.0   \n",
       "102           1968         0.0       775.0         0.0  ...       280.0   \n",
       "453           1950         0.0         0.0         0.0  ...       200.0   \n",
       "...            ...         ...         ...         ...  ...         ...   \n",
       "830           2007       190.0         0.0         0.0  ...       670.0   \n",
       "905           2007        30.0        60.0         0.0  ...       484.0   \n",
       "1320          1950         0.0         0.0         0.0  ...       216.0   \n",
       "601           1958         0.0       774.0         0.0  ...       384.0   \n",
       "739           1950         0.0       379.0         0.0  ...       369.0   \n",
       "\n",
       "      WoodDeckSF  OpenPorchSF  EnclosedPorch  3SsnPorch  ScreenPorch  \\\n",
       "1286           0            0              0          0            0   \n",
       "507          358           78              0          0            0   \n",
       "1064           0            0              0          0            0   \n",
       "102          226            0              0          0            0   \n",
       "453            0            0             72          0            0   \n",
       "...          ...          ...            ...        ...          ...   \n",
       "830          120           39              0          0            0   \n",
       "905            0           60              0          0            0   \n",
       "1320          50           81            123          0            0   \n",
       "601            0            0              0          0            0   \n",
       "739            0            0              0          0          192   \n",
       "\n",
       "      PoolArea  MiscVal  MoSold  YrSold  \n",
       "1286         0        0       6    2006  \n",
       "507          0        0       8    2008  \n",
       "1064         0        0       6    2007  \n",
       "102          0        0       5    2010  \n",
       "453          0        0       5    2009  \n",
       "...        ...      ...     ...     ...  \n",
       "830          0        0       3    2007  \n",
       "905          0        0       2    2007  \n",
       "1320         0        0       7    2006  \n",
       "601          0        0       4    2008  \n",
       "739          0        0       7    2008  \n",
       "\n",
       "[937 rows x 32 columns]"
      ]
     },
     "execution_count": 854,
     "metadata": {},
     "output_type": "execute_result"
    }
   ],
   "source": [
    "X_train"
   ]
  },
  {
   "cell_type": "code",
   "execution_count": 855,
   "id": "b3658259",
   "metadata": {},
   "outputs": [],
   "source": [
    "# Nous décidons de standardiser les données car il se peut que les variables n'ont pas la meme mesure\n",
    "\n",
    "scaler = StandardScaler()\n",
    "X_train_scaled = scaler.fit_transform(X_train)\n",
    "X_valid_scaled = scaler.transform(X_valid)\n",
    "Y_train_scaled = scaler.fit_transform(Y_train)\n",
    "Y_valid_scaled = scaler.transform(Y_valid)"
   ]
  },
  {
   "cell_type": "code",
   "execution_count": 856,
   "id": "b38d1cd9",
   "metadata": {},
   "outputs": [
    {
     "data": {
      "text/plain": [
       "DecisionTreeRegressor()"
      ]
     },
     "execution_count": 856,
     "metadata": {},
     "output_type": "execute_result"
    }
   ],
   "source": [
    "clf.fit(X_train_scaled, Y_train_scaled)# Utilisation de l'arbre de décision\n"
   ]
  },
  {
   "cell_type": "code",
   "execution_count": 857,
   "id": "bd3a0dfa",
   "metadata": {},
   "outputs": [],
   "source": [
    "Y_valid_predict=clf.predict(X_valid_scaled)\n"
   ]
  },
  {
   "cell_type": "code",
   "execution_count": 858,
   "id": "9a47fd3f",
   "metadata": {},
   "outputs": [
    {
     "data": {
      "text/plain": [
       "array([ 0.84603181, -0.34179929,  0.46693678,  1.12403484,  0.97542959,\n",
       "        0.25632843, -0.50186164, -0.88095668, -0.48501297,  2.39395266,\n",
       "       -0.40076963, -0.61980232, -0.57094118, -0.88938101,  1.18300518,\n",
       "        0.47367625, -0.85629023,  2.61514197, -0.95677568,  1.85695191,\n",
       "        0.55960445, -0.35022363, -0.71246999,  0.84603181, -0.90622968,\n",
       "       -0.18173695, -0.68719699, -0.08064494,  0.41135302,  1.81483024,\n",
       "       -1.63072241,  1.46943254,  2.22762261, -0.64507532, -1.58860074,\n",
       "       -1.09156503,  1.55367588, -0.83883501,  2.44665529,  0.50905845,\n",
       "        1.4357352 , -0.57768065, -0.62822665, -0.75459166,  0.13838775,\n",
       "        0.17040022,  1.11561051,  0.50905845,  0.77863714,  0.25632843,\n",
       "       -0.95677568, -0.0216746 , -0.59452932,  0.10469041,  1.31779452,\n",
       "       -0.48501297, -0.67034832, -1.06629203,  0.3742691 , -0.72089433,\n",
       "        0.3742691 , -0.67034832, -0.30978682,  0.0035984 , -0.11434227,\n",
       "       -0.54398331,  0.17208509, -0.0216746 , -0.57768065, -1.63072241,\n",
       "        0.99766983, -0.88938101,  1.31779452, -0.20027048, -1.04101902,\n",
       "       -0.20700995, -0.86410801, -0.19858561, -0.16488828,  0.78706148,\n",
       "        1.25039985,  2.34556328,  2.22762261,  1.0397915 , -1.43696273,\n",
       "       -1.45381139, -0.31652629, -0.0469476 , -1.04101902,  2.36241195,\n",
       "       -2.18672846, -0.88938101, -0.14803961,  2.59829331, -1.00732169,\n",
       "       -0.0317838 ,  0.10469041,  0.10469041, -0.45131564,  2.53089863,\n",
       "       -0.48501297, -0.35022363,  0.05414441, -0.48501297, -0.83041067,\n",
       "       -0.85568367, -0.18173695,  0.25632843,  2.53089863, -1.28532471,\n",
       "       -1.17580837, -1.39484106,  1.85695191,  0.40796644, -0.83883501,\n",
       "       -0.0317838 , -0.77144033, -0.35022363,  0.88815348, -0.45973997,\n",
       "       -1.39484106, -0.40076963, -1.42179892,  1.78955723, -1.63072241,\n",
       "       -0.16665739,  0.10300555, -0.54398331, -0.58610498, -0.51871031,\n",
       "       -0.81187714,  0.29002576, -2.18672846,  1.95804391, -0.43446697,\n",
       "       -0.763016  ,  0.50905845,  0.04403521,  0.25632843,  0.25632843,\n",
       "       -0.95677568,  0.88815348, -0.48501297, -0.72089433, -0.67034832,\n",
       "        0.12153908, -0.58610498, -0.19858561, -0.3670723 , -1.01574602,\n",
       "       -0.763016  , -0.48501297, -0.77986467, -0.0722206 ,  0.30266226,\n",
       "       -0.55240765, -0.93150268, -1.63072241, -1.05786769, -0.86410801,\n",
       "       -0.03009893, -0.53555898, -0.40076963, -0.55240765,  1.31779452,\n",
       "       -0.23228295,  2.27816861,  1.35149186, -2.27265667,  1.95804391,\n",
       "       -0.87253234,  0.0035984 ,  0.13838775,  1.09876184, -0.48501297,\n",
       "       -0.93150268, -1.17580837,  0.58908962, -0.11434227, -0.35864796,\n",
       "       -1.45381139, -0.72089433,  1.59682532,  0.25632843, -1.00732169,\n",
       "       -1.5144666 ,  0.92859029,  0.50905845, -0.93150268, -0.63665099,\n",
       "        1.62107055, -0.763016  ,  0.25632843,  1.77270856, -1.41168972,\n",
       "       -0.35864796, -0.95677568, -0.68888186, -0.59452932,  1.20827818,\n",
       "        0.55960445, -1.63072241,  0.50737358, -0.65349966,  0.13838775,\n",
       "        1.51997854,  0.02044707,  1.97489258,  1.85695191, -0.20700995,\n",
       "        2.10968193,  1.12403484, -0.24913162,  0.94712382,  0.44166378,\n",
       "       -0.4024545 , -1.17580837,  0.76178847,  0.50905845, -0.21543428,\n",
       "       -0.4176183 , -1.12903647,  0.13838775,  1.35149186,  0.17040022,\n",
       "       -0.57768065, -0.67034832, -0.29967762, -1.63072241,  0.17040022,\n",
       "       -0.16488828, -0.20700995,  0.10469041,  0.67754513,  0.05414441,\n",
       "        1.31779452, -0.21543428, -0.66192399,  1.61938568,  0.05052195,\n",
       "       -0.71246999,  0.0035984 , -0.77144033,  2.81732599, -0.75627653,\n",
       "       -0.75459166,  0.06649448, -0.62822665,  2.867872  , -0.48501297,\n",
       "       -0.70067593, -0.92307835, -0.63243882,  2.53089863, -0.38392096,\n",
       "        2.22762261,  0.50737358,  0.34057177,  0.30266226, -0.0974936 ,\n",
       "        0.13838775,  0.76178847,  2.52921377, -0.88938101, -0.88095668,\n",
       "       -0.16488828,  0.78706148,  0.15523642, -0.07053574, -0.08906927,\n",
       "       -0.45131564,  1.04821583, -0.19858561,  0.2706498 , -1.00732169,\n",
       "       -0.0317838 , -0.16488828, -0.72089433,  0.06256874,  2.4972013 ,\n",
       "       -0.48501297,  0.15523642, -0.97362435, -0.0469476 , -1.17580837,\n",
       "       -0.31652629,  0.17040022, -1.35271939,  0.55960445, -0.20027048,\n",
       "       -0.14803961, -0.83041067, -0.58610498,  2.53089863,  0.89657782,\n",
       "       -1.35271939, -1.14211103, -0.3670723 , -0.71246999, -0.92307835,\n",
       "        0.13838775, -0.16488828, -1.46223573, -0.66192399, -0.03009893,\n",
       "       -1.37799239, -0.51871031, -0.83041067,  1.18300518, -0.54398331,\n",
       "       -0.66613616,  1.33295832, -0.13119094, -0.38392096, -0.55240765,\n",
       "       -0.4024545 , -0.87253234,  2.53089863, -0.0722206 ,  0.88815348,\n",
       "       -0.3670723 ,  1.25039985,  0.05414441, -0.74616733,  1.11561051,\n",
       "       -2.27265667, -1.23477871,  0.09626608, -1.17580837, -0.62822665,\n",
       "        0.87972915, -0.77144033, -1.00900655, -0.63665099, -1.45381139,\n",
       "       -0.4176183 ,  0.2984501 , -0.68719699, -0.16488828,  2.867872  ,\n",
       "       -0.21543428, -1.26005171, -0.23228295,  0.07099308, -0.81187714,\n",
       "        1.61938568,  1.68846522, -1.39484106, -0.13119094,  0.89657782,\n",
       "       -1.63072241,  0.44166378,  2.49822907,  0.40796644, -0.16573071,\n",
       "       -0.88938101, -0.68888186,  0.00342992,  0.90500215, -1.5296304 ,\n",
       "        1.68846522, -0.34179929,  0.10469041, -0.51871031,  2.21077394,\n",
       "        0.50737358, -0.763016  ,  1.87380057,  2.02543859, -0.60463852,\n",
       "       -0.24913162, -0.50186164, -0.48501297, -0.31652629,  1.97489258,\n",
       "        0.6590116 ,  0.25632843,  1.20827818, -0.85568367,  1.62107055,\n",
       "        0.51748278, -0.31652629, -1.73181442, -1.17580837,  0.84603181,\n",
       "        0.29002576, -0.24913162, -0.71246999,  1.18300518, -0.01325026,\n",
       "        0.76178847, -0.29967762, -0.26766515,  0.04572007, -1.17580837,\n",
       "        1.85695191, -0.88938101,  1.04821583, -1.00732169,  0.55791959,\n",
       "        0.60930803, -0.54398331, -0.51871031])"
      ]
     },
     "execution_count": 858,
     "metadata": {},
     "output_type": "execute_result"
    }
   ],
   "source": [
    "Y_valid_predict"
   ]
  },
  {
   "cell_type": "code",
   "execution_count": 859,
   "id": "64b775a0",
   "metadata": {},
   "outputs": [],
   "source": [
    "Y_valid_pred_inverse  = scaler.inverse_transform(Y_valid_predict) # Véritable valeur prédite "
   ]
  },
  {
   "cell_type": "code",
   "execution_count": 860,
   "id": "0b51e61b",
   "metadata": {},
   "outputs": [
    {
     "data": {
      "text/plain": [
       "array([220000., 149500., 197500., 236500., 227680., 185000., 140000.,\n",
       "       117500., 141000., 311872., 146000., 133000., 135900., 117000.,\n",
       "       240000., 197900., 118964., 325000., 113000., 280000., 203000.,\n",
       "       149000., 127500., 220000., 116000., 159000., 129000., 165000.,\n",
       "       194201., 277500.,  73000., 257000., 302000., 131500.,  75500.,\n",
       "       105000., 262000., 120000., 315000., 200000., 255000., 135500.,\n",
       "       132500., 125000., 178000., 179900., 236000., 200000., 216000.,\n",
       "       185000., 113000., 168500., 134500., 176000., 248000., 141000.,\n",
       "       130000., 106500., 192000., 127000., 192000., 130000., 151400.,\n",
       "       170000., 163000., 137500., 180000., 168500., 135500.,  73000.,\n",
       "       229000., 117000., 248000., 157900., 108000., 157500., 118500.,\n",
       "       158000., 160000., 216500., 244000., 309000., 302000., 231500.,\n",
       "        84500.,  83500., 151000., 167000., 108000., 310000.,  40000.,\n",
       "       117000., 161000., 324000., 110000., 167900., 176000., 176000.,\n",
       "       143000., 320000., 141000., 149000., 173000., 141000., 120500.,\n",
       "       119000., 159000., 185000., 320000.,  93500., 100000.,  87000.,\n",
       "       280000., 194000., 120000., 167900., 124000., 149000., 222500.,\n",
       "       142500.,  87000., 146000.,  85400., 276000.,  73000., 159895.,\n",
       "       175900., 137500., 135000., 139000., 121600., 187000.,  40000.,\n",
       "       286000., 144000., 124500., 200000., 172400., 185000., 185000.,\n",
       "       113000., 222500., 141000., 127000., 130000., 177000., 135000.,\n",
       "       158000., 148000., 109500., 124500., 141000., 123500., 165500.,\n",
       "       187750., 137000., 114500.,  73000., 107000., 118500., 168000.,\n",
       "       138000., 146000., 137000., 248000., 156000., 305000., 250000.,\n",
       "        34900., 286000., 118000., 170000., 178000., 235000., 141000.,\n",
       "       114500., 100000., 204750., 163000., 148500.,  83500., 127000.,\n",
       "       264561., 185000., 110000.,  79900., 224900., 200000., 114500.,\n",
       "       132000., 266000., 124500., 185000., 275000.,  86000., 148500.,\n",
       "       113000., 128900., 134500., 241500., 203000.,  73000., 199900.,\n",
       "       131000., 178000., 260000., 171000., 287000., 280000., 157500.,\n",
       "       295000., 236500., 155000., 226000., 196000., 145900., 100000.,\n",
       "       215000., 200000., 157000., 145000., 102776., 178000., 250000.,\n",
       "       179900., 135500., 130000., 152000.,  73000., 179900., 160000.,\n",
       "       157500., 176000., 210000., 173000., 248000., 157000., 130500.,\n",
       "       265900., 172785., 127500., 170000., 124000., 337000., 124900.,\n",
       "       125000., 173733., 132500., 340000., 141000., 128200., 115000.,\n",
       "       132250., 320000., 147000., 302000., 199900., 190000., 187750.,\n",
       "       164000., 178000., 215000., 319900., 117000., 117500., 160000.,\n",
       "       216500., 179000., 165600., 164500., 143000., 232000., 158000.,\n",
       "       185850., 110000., 167900., 160000., 127000., 173500., 318000.,\n",
       "       141000., 179000., 112000., 167000., 100000., 151000., 179900.,\n",
       "        89500., 203000., 157900., 161000., 120500., 135000., 320000.,\n",
       "       223000.,  89500., 102000., 148000., 127500., 115000., 178000.,\n",
       "       160000.,  83000., 130500., 168000.,  88000., 139000., 120500.,\n",
       "       240000., 137500., 130250., 248900., 162000., 147000., 137000.,\n",
       "       145900., 118000., 320000., 165500., 222500., 148000., 244000.,\n",
       "       173000., 125500., 236000.,  34900.,  96500., 175500., 100000.,\n",
       "       132500., 222000., 124000., 109900., 132000.,  83500., 145000.,\n",
       "       187500., 129000., 160000., 340000., 157000.,  95000., 156000.,\n",
       "       174000., 121600., 265900., 270000.,  87000., 162000., 223000.,\n",
       "        73000., 196000., 318061., 194000., 159950., 117000., 128900.,\n",
       "       169990., 223500.,  79000., 270000., 149500., 176000., 139000.,\n",
       "       301000., 199900., 124500., 281000., 290000., 133900., 155000.,\n",
       "       140000., 141000., 151000., 287000., 208900., 185000., 241500.,\n",
       "       119000., 266000., 200500., 151000.,  67000., 100000., 220000.,\n",
       "       187000., 155000., 127500., 240000., 169000., 215000., 152000.,\n",
       "       153900., 172500., 100000., 280000., 117000., 232000., 110000.,\n",
       "       202900., 205950., 137500., 139000.])"
      ]
     },
     "execution_count": 860,
     "metadata": {},
     "output_type": "execute_result"
    }
   ],
   "source": [
    "Y_valid_pred_inverse"
   ]
  },
  {
   "cell_type": "code",
   "execution_count": 861,
   "id": "a2e9a7f6",
   "metadata": {},
   "outputs": [],
   "source": [
    "# on va calculer les mesures de performances \n",
    "from sklearn.metrics import r2_score\n",
    "\n"
   ]
  },
  {
   "cell_type": "code",
   "execution_count": 862,
   "id": "f8f8c9f4",
   "metadata": {},
   "outputs": [],
   "source": [
    "from sklearn.metrics import mean_squared_error"
   ]
  },
  {
   "cell_type": "code",
   "execution_count": 863,
   "id": "aa2b9779",
   "metadata": {},
   "outputs": [],
   "source": [
    "R2_CART=r2_score(Y_valid,Y_valid_pred_inverse) # On calcule ic le coeficient de détermination\n"
   ]
  },
  {
   "cell_type": "code",
   "execution_count": 864,
   "id": "27e76a20",
   "metadata": {},
   "outputs": [
    {
     "data": {
      "text/plain": [
       "-1.027049600465515"
      ]
     },
     "execution_count": 864,
     "metadata": {},
     "output_type": "execute_result"
    }
   ],
   "source": [
    "R2_CART # Il est négatif , le modèle ne donne pas une bonne prédiction"
   ]
  },
  {
   "cell_type": "code",
   "execution_count": 865,
   "id": "b254697f",
   "metadata": {},
   "outputs": [],
   "source": [
    "RMSE_CART = mean_squared_error(Y_valid,Y_valid_pred_inverse)# Calcul du erreus quadratiques moyennes du modèle\n"
   ]
  },
  {
   "cell_type": "code",
   "execution_count": 866,
   "id": "e16539e3",
   "metadata": {},
   "outputs": [
    {
     "data": {
      "text/plain": [
       "7342216204.59057"
      ]
     },
     "execution_count": 866,
     "metadata": {},
     "output_type": "execute_result"
    }
   ],
   "source": [
    "RMSE_CART # Il y'a beaucoup d'erreurs lord de la prévision "
   ]
  },
  {
   "cell_type": "markdown",
   "id": "18375f02",
   "metadata": {},
   "source": [
    "BAGGING"
   ]
  },
  {
   "cell_type": "markdown",
   "id": "01bbcbbf",
   "metadata": {},
   "source": [
    "Nous utilisons le Bagging pour essayer de prédire la variable SalePrice. "
   ]
  },
  {
   "cell_type": "code",
   "execution_count": 898,
   "id": "100e17d8",
   "metadata": {},
   "outputs": [],
   "source": [
    "from sklearn.ensemble import BaggingRegressor\n",
    "from sklearn.neighbors import KNeighborsRegressor\n"
   ]
  },
  {
   "cell_type": "code",
   "execution_count": 899,
   "id": "f80b64f7",
   "metadata": {},
   "outputs": [],
   "source": [
    "bagging = BaggingRegressor(\n",
    "KNeighborsRegressor(),\n",
    "n_estimators= 10)\n"
   ]
  },
  {
   "cell_type": "code",
   "execution_count": 900,
   "id": "ffd79a2c",
   "metadata": {},
   "outputs": [
    {
     "name": "stderr",
     "output_type": "stream",
     "text": [
      "/Users/keitasita/opt/anaconda3/lib/python3.8/site-packages/sklearn/utils/validation.py:63: DataConversionWarning: A column-vector y was passed when a 1d array was expected. Please change the shape of y to (n_samples, ), for example using ravel().\n",
      "  return f(*args, **kwargs)\n"
     ]
    }
   ],
   "source": [
    "clf=bagging.fit(X_train_scaled, Y_train_scaled)\n",
    "Y_valid_predict_BAG=clf.predict(X_valid_scaled)\n"
   ]
  },
  {
   "cell_type": "code",
   "execution_count": 901,
   "id": "24518409",
   "metadata": {},
   "outputs": [
    {
     "data": {
      "text/plain": [
       "array([-0.05240657, -0.25129398,  0.23671658,  0.59623346,  0.0271178 ,\n",
       "       -0.08131888, -0.598573  ,  0.17174811,  0.027692  ,  0.22027902,\n",
       "        0.44076069, -0.64245704,  0.35799329, -0.02920932, -0.2150097 ,\n",
       "        0.07598028, -0.40786023,  0.04002691,  0.97323926,  0.26818989,\n",
       "       -0.09555601, -0.33960897,  0.0653454 ,  0.24242221, -0.70219231,\n",
       "        0.27503045,  0.02668108, -0.47102858, -0.03346867, -0.46833279,\n",
       "        0.3882535 , -0.60955833,  0.11227231,  0.0517856 , -0.12263182,\n",
       "       -0.16573071,  0.94971852,  0.22947165,  0.28975619, -0.51384104,\n",
       "       -0.09194028,  0.01897281, -0.39443453, -0.44002703, -0.71736959,\n",
       "       -0.41694435, -0.04772264, -0.13108311,  0.68829458,  0.20035715,\n",
       "       -0.67388991,  0.60812862, -0.19150917,  0.38543674,  0.01364324,\n",
       "       -0.6732126 , -0.4924365 , -0.43402756, -0.3341163 ,  0.54622661,\n",
       "        0.20174717, -0.08529517, -0.53475024,  0.62383158,  0.66500972,\n",
       "       -0.63809997,  0.37241575,  0.03820557, -0.29007388, -0.10241342,\n",
       "       -0.22116283,  0.22327134,  0.28221068,  0.22317025, -0.03855696,\n",
       "       -0.35167261, -0.66657422, -0.13456067, -0.36471348,  0.20456258,\n",
       "        0.36945039,  0.21311159,  0.07996735,  0.25873475, -0.34395592,\n",
       "       -0.23127203, -0.29034346,  0.46980105,  0.29127257,  0.13121022,\n",
       "        0.60027714, -0.41053579,  0.19506667,  0.05665486,  0.21885699,\n",
       "       -0.16943742,  1.04700273, -0.17624428, -0.24508794, -0.43618553,\n",
       "        0.07733829, -0.47540923,  0.35767654, -0.56782418,  1.27344883,\n",
       "        0.14655935, -0.21449076,  0.05997405,  0.33551717, -0.3758336 ,\n",
       "       -0.33204391, -0.36628883, -0.48909035,  0.33531498, -0.29590352,\n",
       "       -0.65087126,  0.44365192, -0.03330018,  0.57286065, -0.39959023,\n",
       "       -0.2834692 , -0.17179623, -0.30512176, -0.01459411,  0.27613168,\n",
       "       -0.29286234, -0.55833939,  0.29171063, -0.23176401, -0.28695688,\n",
       "        0.23254485,  0.25284075, -0.05291203, -0.0089707 , -0.4605824 ,\n",
       "       -0.39214311, -0.56153962, -0.3721333 ,  0.23813187, -0.37364328,\n",
       "       -0.03644583, -0.79068151,  0.25380787, -0.49495369,  0.22937056,\n",
       "        0.00358122,  0.28886321, -0.53370562,  0.45376112, -0.4479796 ,\n",
       "        0.80424712,  0.12271849, -0.48897679,  0.43785598, -0.47284823,\n",
       "       -0.17557033, -0.18840902,  0.10469041, -0.23956157,  0.21825044,\n",
       "       -0.13021372,  0.22606822,  0.27985591,  0.01235971, -0.36505046,\n",
       "        0.24032219,  0.55453301, -0.26560962,  0.37207878,  0.7637847 ,\n",
       "       -0.35109976,  0.10624049, -0.38808259, -0.3575528 , -0.65050362,\n",
       "        0.0159478 , -0.61272588,  0.41763252, -0.43480394, -0.2796951 ,\n",
       "       -0.32550663, -0.36288237, -0.40939615,  0.33457364, -0.02437038,\n",
       "        0.20402005, -0.62430091, -0.2110725 ,  0.21848632,  0.10641572,\n",
       "       -0.30305073, -0.10476381, -0.57677419, -0.15373446, -0.71846812,\n",
       "       -0.20289887, -0.33189868, -0.06819377, -0.76795603,  0.14482394,\n",
       "        0.0492583 , -0.84203625, -0.23031166, -0.24845767,  0.03550237,\n",
       "        0.41639078,  0.48587468,  0.8597254 , -0.46516356,  0.33155773,\n",
       "        0.34625988,  0.03931758, -0.29418496,  0.02587234,  0.52092665,\n",
       "       -0.67533553,  0.78837567,  0.57690366, -0.14828594, -0.6265492 ,\n",
       "       -0.12342371, -0.17563908, -0.06667739, -0.39313719, -0.16724709,\n",
       "        0.72243335, -0.24499493, -0.24481836, -0.41089231,  0.05515533,\n",
       "       -0.43972375, -0.13085397, -0.0165526 ,  0.19772539,  0.38164882,\n",
       "        0.06176877, -0.10625491, -0.3701893 , -0.50324323, -0.06254947,\n",
       "        0.01273038, -0.08269879, -0.10475538,  0.75275759,  0.05475096,\n",
       "       -0.0696596 , -0.50893943, -0.56720078, -0.59579634, -0.48923424,\n",
       "        0.1112405 , -0.23502086,  0.10346046,  0.44981853, -0.26213879,\n",
       "       -0.09014759, -0.10490702, -0.45384294,  0.08671288,  0.08608948,\n",
       "        0.34764821,  0.28173622, -0.32205265, -0.7209752 ,  0.31669451,\n",
       "        0.14259992,  0.57549612,  0.40637525,  0.03173568, -0.22357556,\n",
       "        0.32736241,  0.08052942,  0.22136744, -0.00722484, -0.37810649,\n",
       "        0.42228781, -0.25421992,  0.14696709,  0.07182506,  0.39008259,\n",
       "        0.06046266,  0.05975973, -0.28715738, -0.26513785, -0.05448906,\n",
       "       -0.53865913,  0.016336  , -0.31861957,  0.211174  ,  0.57635877,\n",
       "        0.30064042,  1.18216274,  0.20223072, -0.42600894, -0.12435038,\n",
       "        0.57595912, -0.1165326 , -0.44174559,  0.09107669, -0.28266047,\n",
       "       -0.20568564, -0.05853948, -0.12652386, -0.33573377, -0.26126266,\n",
       "       -0.06770684, -0.23437219,  0.26711157,  0.48926127, -0.42600894,\n",
       "       -0.21775097, -0.16222619,  0.76044058,  0.94308014, -0.17634537,\n",
       "       -0.02679659,  0.54161008, -0.03013263, -0.58141768, -0.1531616 ,\n",
       "        0.57224096, -0.14373983,  0.20190723, -0.29955126, -0.21871977,\n",
       "        1.19756243,  0.52595766,  0.30163315,  0.27526633,  0.23439146,\n",
       "       -0.89190831, -0.07976881, -0.19134069,  0.08213005,  0.43081324,\n",
       "        0.03881212, -0.86806744,  0.16815935,  0.14017371, -0.56169126,\n",
       "       -0.01173388, -0.55378924, -0.07592731, -0.08353617, -0.19456552,\n",
       "        0.02967677,  0.63441254,  0.28817241,  0.36589768, -0.07078847,\n",
       "       -0.08601798, -0.33404891,  0.3161412 ,  0.12932317,  0.75353263,\n",
       "       -0.60504289,  0.33174307, -0.42196526, -0.95987584, -0.94750892,\n",
       "       -0.08462122, -0.28770563,  0.10570133, -0.71575548,  0.21071908,\n",
       "       -0.23892133, -0.26737873, -1.07793142,  0.1852385 ,  0.06160298,\n",
       "        0.00359503,  0.03042148,  0.29193809, -0.31266458,  0.24778177,\n",
       "        0.47279506, -0.16806257,  0.2383354 ,  0.07773254, -0.18193913,\n",
       "       -0.51311655,  0.17424172,  0.03918279, -0.17107005,  0.32203823,\n",
       "       -0.64746783, -0.33462176, -0.21640477, -0.21160963,  0.51360759,\n",
       "       -0.31844704,  0.041609  ,  0.11901178,  0.64206184,  0.12349353,\n",
       "       -0.34267542, -0.42755901, -0.89612048, -0.10440156, -0.20382386,\n",
       "       -0.459403  , -0.127956  , -0.342945  ])"
      ]
     },
     "execution_count": 901,
     "metadata": {},
     "output_type": "execute_result"
    }
   ],
   "source": [
    "Y_valid_predict_BAG"
   ]
  },
  {
   "cell_type": "code",
   "execution_count": 871,
   "id": "fc041a47",
   "metadata": {},
   "outputs": [],
   "source": [
    "Y_valid_predict_BAG_inverse = scaler.inverse_transform(Y_valid_predict_BAG) # Véritable prédiction de la variable SalePrice"
   ]
  },
  {
   "cell_type": "code",
   "execution_count": 902,
   "id": "3cb99481",
   "metadata": {},
   "outputs": [],
   "source": [
    "R2_BAG=r2_score(Y_valid,Y_valid_predict_BAG_inverse ) "
   ]
  },
  {
   "cell_type": "code",
   "execution_count": 903,
   "id": "ca0a997e",
   "metadata": {},
   "outputs": [
    {
     "data": {
      "text/plain": [
       "-0.1020444196424668"
      ]
     },
     "execution_count": 903,
     "metadata": {},
     "output_type": "execute_result"
    }
   ],
   "source": [
    "R2_BAG # Mauvaise prédiction du la variable"
   ]
  },
  {
   "cell_type": "code",
   "execution_count": 904,
   "id": "9599bdb5",
   "metadata": {},
   "outputs": [],
   "source": [
    "RMSE_BAG = mean_squared_error(Y_valid,Y_valid_predict_BAG_inverse )"
   ]
  },
  {
   "cell_type": "code",
   "execution_count": 905,
   "id": "abec8c34",
   "metadata": {},
   "outputs": [
    {
     "data": {
      "text/plain": [
       "3991736755.83435"
      ]
     },
     "execution_count": 905,
     "metadata": {},
     "output_type": "execute_result"
    }
   ],
   "source": [
    "RMSE_BAG# le modèle ne prédit pas du tout notre variable"
   ]
  },
  {
   "cell_type": "markdown",
   "id": "bec2303e",
   "metadata": {},
   "source": [
    "RANDOM FOREST"
   ]
  },
  {
   "cell_type": "code",
   "execution_count": 906,
   "id": "e7d83b1f",
   "metadata": {},
   "outputs": [],
   "source": [
    "clf = RandomForestRegressor()"
   ]
  },
  {
   "cell_type": "code",
   "execution_count": 907,
   "id": "7a5fd70f",
   "metadata": {},
   "outputs": [
    {
     "name": "stderr",
     "output_type": "stream",
     "text": [
      "<ipython-input-907-a63aced472ed>:1: DataConversionWarning: A column-vector y was passed when a 1d array was expected. Please change the shape of y to (n_samples,), for example using ravel().\n",
      "  clf.fit(X_train_scaled, Y_train_scaled)\n"
     ]
    }
   ],
   "source": [
    "clf.fit(X_train_scaled, Y_train_scaled)\n",
    "Y_valid_predict_rand = clf.predict(X_valid_scaled)\n",
    "\n"
   ]
  },
  {
   "cell_type": "code",
   "execution_count": 908,
   "id": "7994a6e4",
   "metadata": {},
   "outputs": [
    {
     "data": {
      "text/plain": [
       "array([ 1.37468655e-01,  9.96944465e-02, -3.82496072e-01,  4.53673677e-01,\n",
       "       -1.85896067e-02, -8.66469376e-02, -2.03948040e-01,  9.25576876e-02,\n",
       "       -1.94591469e-01,  1.93187706e-01,  1.64140939e-01, -3.80848104e-01,\n",
       "        3.07956959e-01, -4.10115420e-01, -1.60207212e-01,  1.95038196e-01,\n",
       "       -1.96711874e-01,  7.17467546e-01, -4.19949620e-03,  8.21453988e-01,\n",
       "        1.43406631e-01,  3.01235997e-02,  1.11371079e-01,  1.57084212e-01,\n",
       "       -1.63782331e-01,  1.51024757e-01,  8.41025204e-02, -1.39068536e-01,\n",
       "       -1.22608061e-01, -1.33654048e-01,  6.48728855e-01,  4.22969310e-02,\n",
       "        8.68586256e-02,  3.13670174e-01, -3.34235112e-02, -3.27004310e-01,\n",
       "        2.77354695e-02,  8.53599366e-02,  1.04399760e+00,  3.95881706e-02,\n",
       "        2.04985312e-01,  5.72494360e-01, -2.27329442e-01,  6.73168663e-02,\n",
       "       -2.81324200e-01, -3.69352258e-01,  1.16618400e-02,  1.77084760e-01,\n",
       "       -4.28404003e-02,  7.72356772e-02, -1.44418157e-01,  4.54510550e-01,\n",
       "       -2.57602118e-01,  1.07138862e-01,  1.08560553e-01, -3.35062017e-01,\n",
       "       -7.10137020e-04, -3.18128768e-01,  3.65900371e-01,  9.08344592e-01,\n",
       "       -9.52704509e-03, -2.74181039e-01, -2.00646711e-01,  9.37288385e-02,\n",
       "        1.90576500e-01, -5.23154174e-02, -7.47332443e-02, -3.14610261e-01,\n",
       "        5.51142183e-02,  1.73593885e-01,  4.87017022e-01,  1.68197256e-01,\n",
       "       -1.95021278e-01, -1.26667916e-01, -3.43651636e-01,  2.50572922e-01,\n",
       "       -1.67171272e-01, -1.12084551e-01, -2.03512164e-01,  3.71667165e-01,\n",
       "        3.83678917e-01,  2.80941776e-02,  2.48731868e-01, -5.69294561e-01,\n",
       "       -3.06054002e-01, -2.00825644e-01, -1.85514249e-01, -1.48864352e-01,\n",
       "       -2.09128500e-01,  2.56784689e-01,  2.69678442e-02,  1.43067131e-01,\n",
       "        2.48511488e-01,  5.97830882e-01,  3.84455978e-01, -1.59993739e-01,\n",
       "        4.18807717e-01, -3.55014041e-01,  5.39241997e-01,  2.84703269e-01,\n",
       "        3.55306771e-01, -2.42900981e-01,  7.23426555e-02, -4.95903278e-01,\n",
       "        4.29045810e-01, -1.41034776e-01, -1.06732403e-01, -3.94595466e-02,\n",
       "        1.66063541e-01,  8.88558667e-02,  4.67972973e-01, -2.83841560e-01,\n",
       "       -2.63183408e-01,  2.65795020e-01,  2.13765490e-01,  2.07512275e-01,\n",
       "        2.53426413e-01,  7.60564389e-02, -2.77947081e-02,  7.79401201e-02,\n",
       "       -1.24149209e-01, -2.77303603e-01, -3.25529405e-02, -6.85866817e-02,\n",
       "       -3.06310944e-01, -2.20212227e-01, -1.25484971e-01, -2.35352946e-01,\n",
       "       -1.66327828e-01, -2.13169821e-01,  1.93514739e-01,  3.16618831e-02,\n",
       "       -8.07133421e-02,  8.95486867e-01, -3.15045799e-01, -3.72828475e-01,\n",
       "        1.59280435e-01,  1.86759939e-01, -4.01218677e-02, -2.62181782e-02,\n",
       "        1.51230619e-02, -1.34760837e-01, -1.05708510e-01,  4.58781154e-02,\n",
       "        9.36983424e-02,  5.49036100e-02,  1.42268335e-01, -2.05005967e-01,\n",
       "        1.11054970e-02, -3.52046317e-01, -1.03288030e-01, -4.67437622e-01,\n",
       "        1.35771966e-02, -4.86407228e-02, -2.49887787e-01, -2.28082409e-01,\n",
       "       -1.86992045e-01,  1.14463147e-01, -3.16634993e-02,  8.46704890e-02,\n",
       "       -2.22561269e-01, -1.65120452e-01,  1.27277738e-01, -4.24719200e-02,\n",
       "       -2.27667763e-01,  3.05262014e-01,  1.90063626e-01, -1.95363643e-01,\n",
       "       -1.18646265e-01,  8.75422631e-01, -2.06323196e-01,  2.56517947e-02,\n",
       "       -9.07769110e-03,  5.93136674e-01,  1.79807673e-01, -6.70098148e-02,\n",
       "       -3.42988473e-01, -3.46063860e-01, -1.65720433e-01, -2.32492716e-01,\n",
       "        1.09145033e-01, -3.33739761e-02,  9.20602335e-01,  3.26526381e-01,\n",
       "       -3.34120176e-01,  4.35808023e-01, -4.45206984e-01,  1.67895665e-01,\n",
       "       -2.61989707e-02,  4.58135709e-01,  5.44102810e-02, -1.99034294e-01,\n",
       "       -1.20710733e-01,  3.79821555e-02, -3.86063441e-01,  9.01321533e-02,\n",
       "       -1.59000173e-01, -2.19077638e-01, -1.24948004e-01,  9.20924959e-02,\n",
       "        1.61585839e-01, -8.43070225e-03,  8.85387748e-02, -5.34232819e-01,\n",
       "        4.77604346e-01, -1.73605243e-03,  2.17831916e-01,  1.89170647e-01,\n",
       "        1.32690541e-01, -2.86999169e-01,  6.90028310e-01,  2.41540857e-01,\n",
       "       -2.10712443e-01,  1.87745923e-01, -9.00080784e-02, -1.82576346e-01,\n",
       "        4.49814293e-02, -1.30614380e-01,  3.29253338e-01, -3.59517016e-01,\n",
       "       -1.67979166e-01, -1.11580439e-01,  4.26316326e-01,  2.43824357e-01,\n",
       "        6.06075581e-02,  3.69666863e-02, -2.25896631e-01, -1.20552692e-01,\n",
       "       -1.46268477e-01,  3.06573655e-02,  1.67853712e-01, -1.98114188e-01,\n",
       "       -1.14571583e-01, -8.75043664e-02,  3.99965177e-01,  2.96824033e-01,\n",
       "        1.14574685e-01,  6.81650282e-02, -2.27282603e-01, -9.13761903e-02,\n",
       "        3.55679801e-01,  1.89701211e-01, -2.90302210e-02,  8.83026098e-01,\n",
       "        2.25354341e-01,  1.37451806e-01,  2.66190767e-02,  5.86598521e-02,\n",
       "       -4.00037585e-02,  5.46402653e-02,  1.10612383e-01, -2.31133057e-02,\n",
       "        4.42447409e-01,  6.15583285e-02, -2.30078471e-01, -5.45623836e-03,\n",
       "        1.59981677e-01, -8.31843678e-02, -4.43992391e-02,  4.90190441e-02,\n",
       "        3.65919747e-01,  5.93707507e-01, -2.19101226e-01, -1.82242069e-01,\n",
       "       -2.89190507e-01, -7.05274798e-02,  2.63731732e-01,  2.95327169e-02,\n",
       "       -4.88066822e-02,  5.31579195e-02, -6.87157425e-02, -3.60697630e-02,\n",
       "       -1.92095001e-01, -4.90604232e-02,  4.65633229e-03,  4.25550247e-03,\n",
       "        6.64383767e-02,  6.53689917e-02, -6.12905344e-02,  4.49862845e-01,\n",
       "        1.07851561e-01, -3.02903328e-02, -1.44565245e-01, -8.68270499e-02,\n",
       "       -2.78469193e-01, -1.07752927e-01, -1.89646385e-01,  2.35008797e-01,\n",
       "       -3.70617593e-01,  6.72772719e-02,  1.66583126e-02,  8.45055265e-01,\n",
       "       -1.30524239e-01, -1.42633040e-01,  1.88326192e-01, -1.94552043e-01,\n",
       "       -5.57255878e-02,  2.04887758e-01,  1.99147923e-01,  2.33575143e-01,\n",
       "        3.35660045e-01,  2.44123758e-01, -3.41560913e-02, -2.88752441e-01,\n",
       "       -3.96131025e-01, -3.36496681e-01,  7.14607962e-02,  2.92107080e-01,\n",
       "        1.23347166e+00,  2.53335430e-01,  2.00949719e-01, -1.48569331e-01,\n",
       "        2.44690210e-01, -8.58688940e-03, -1.49948563e-01,  7.15932267e-02,\n",
       "        3.51221306e-01,  2.20379940e-01, -2.76746923e-01, -1.26287305e-01,\n",
       "        3.08457196e-01,  5.94134115e-01,  5.80765203e-01,  1.04822339e-01,\n",
       "        1.57729010e-01,  8.23572202e-01,  5.50724336e-02,  2.72610306e-01,\n",
       "       -3.57449207e-02, -1.33268887e-01, -1.03761309e-01, -3.29448883e-01,\n",
       "        5.18932584e-02, -5.44637910e-02, -1.01632649e-01, -1.62546313e-01,\n",
       "       -4.16823914e-02,  8.12655417e-02,  5.80743608e-02, -1.89465261e-01,\n",
       "        8.67273745e-02, -4.13317172e-01,  5.96033775e-02, -1.36534524e-02,\n",
       "        4.44137976e-02,  1.00824487e-01,  4.02036047e-01,  3.65914019e-01,\n",
       "        3.35258878e-01, -6.68571659e-02,  2.10783276e-01,  1.06605770e-01,\n",
       "       -3.23288811e-03,  1.85831044e-02,  4.62844238e-01, -2.96575446e-01,\n",
       "        1.50958878e-01, -4.95712720e-01, -4.18945161e-02, -4.90780272e-01,\n",
       "       -1.33828769e-01, -5.85222982e-02,  9.11290890e-02, -2.99175196e-01,\n",
       "        9.26794726e-01, -2.46249317e-01, -9.18366923e-03,  1.70897087e-01,\n",
       "       -1.31562791e-01,  1.48668302e-01,  2.95549572e-02, -3.13636408e-01,\n",
       "       -7.44070541e-02, -1.34639021e-01,  1.53690553e-01,  1.97022463e-01,\n",
       "        1.59305540e-01,  1.55385866e-01, -4.98579015e-01,  2.67111575e-01,\n",
       "        3.73889139e-02,  9.71169372e-02,  2.81509267e-01,  1.05287699e-01,\n",
       "       -4.86131189e-03, -2.72055074e-01, -1.38567457e-01, -4.49574355e-02,\n",
       "        2.01870667e-01,  1.58911281e-01, -2.26755913e-01, -1.59501421e-01,\n",
       "        5.56607919e-01,  1.35441760e-01,  1.94174701e-01,  5.27848900e-02,\n",
       "       -4.05654931e-02, -3.68672919e-01, -3.70566710e-01,  2.70321583e-01,\n",
       "       -7.23963341e-02, -3.06473561e-02,  3.93939054e-02])"
      ]
     },
     "execution_count": 908,
     "metadata": {},
     "output_type": "execute_result"
    }
   ],
   "source": [
    "Y_valid_predict_rand"
   ]
  },
  {
   "cell_type": "code",
   "execution_count": 879,
   "id": "148cec2a",
   "metadata": {},
   "outputs": [],
   "source": [
    "Y_valid_predict_rand_inverse = scaler.inverse_transform(Y_valid_predict_rand) # véritable prédiction de notre modèle "
   ]
  },
  {
   "cell_type": "code",
   "execution_count": 909,
   "id": "01ebe20c",
   "metadata": {},
   "outputs": [],
   "source": [
    "R2_RANDG=r2_score(Y_valid,Y_valid_predict_rand_inverse) "
   ]
  },
  {
   "cell_type": "code",
   "execution_count": 911,
   "id": "704a17dc",
   "metadata": {},
   "outputs": [
    {
     "data": {
      "text/plain": [
       "-0.06716670657557477"
      ]
     },
     "execution_count": 911,
     "metadata": {},
     "output_type": "execute_result"
    }
   ],
   "source": [
    "R2_RANDG # Il semblerait que le modèle prédit mal notre variable SalePrice."
   ]
  },
  {
   "cell_type": "code",
   "execution_count": 912,
   "id": "4637ff63",
   "metadata": {},
   "outputs": [],
   "source": [
    "RMSE_rand = mean_squared_error(Y_valid,Y_valid_predict_rand_inverse)"
   ]
  },
  {
   "cell_type": "code",
   "execution_count": 913,
   "id": "a9fc77eb",
   "metadata": {},
   "outputs": [
    {
     "data": {
      "text/plain": [
       "3865405505.725825"
      ]
     },
     "execution_count": 913,
     "metadata": {},
     "output_type": "execute_result"
    }
   ],
   "source": [
    "RMSE_rand # Mauvaise qualité de prévision"
   ]
  },
  {
   "cell_type": "markdown",
   "id": "b12c99c0",
   "metadata": {},
   "source": [
    "BOOSTING"
   ]
  },
  {
   "cell_type": "code",
   "execution_count": 914,
   "id": "0de9b137",
   "metadata": {},
   "outputs": [],
   "source": [
    "from sklearn.ensemble import AdaBoostRegressor\n"
   ]
  },
  {
   "cell_type": "code",
   "execution_count": 915,
   "id": "b3df08fd",
   "metadata": {},
   "outputs": [],
   "source": [
    "from sklearn.neighbors import KNeighborsRegressor\n"
   ]
  },
  {
   "cell_type": "code",
   "execution_count": 916,
   "id": "067994e5",
   "metadata": {},
   "outputs": [],
   "source": [
    "\n",
    "boosting = AdaBoostRegressor(\n",
    "KNeighborsRegressor(),\n",
    "n_estimators= 10)\n"
   ]
  },
  {
   "cell_type": "code",
   "execution_count": 917,
   "id": "23c7eb45",
   "metadata": {},
   "outputs": [
    {
     "name": "stderr",
     "output_type": "stream",
     "text": [
      "/Users/keitasita/opt/anaconda3/lib/python3.8/site-packages/sklearn/utils/validation.py:63: DataConversionWarning: A column-vector y was passed when a 1d array was expected. Please change the shape of y to (n_samples, ), for example using ravel().\n",
      "  return f(*args, **kwargs)\n"
     ]
    }
   ],
   "source": [
    "clf=boosting.fit(X_train_scaled, Y_train_scaled)\n",
    "Y_valid_precd_boo=clf.predict(X_valid_scaled)\n"
   ]
  },
  {
   "cell_type": "code",
   "execution_count": 918,
   "id": "b48776b1",
   "metadata": {},
   "outputs": [
    {
     "data": {
      "text/plain": [
       "array([-3.38092587e-01, -6.73266513e-01,  6.53956997e-01,  1.66356539e-01,\n",
       "       -1.44669876e-01, -2.45761885e-01, -5.03546508e-01, -2.16745979e-02,\n",
       "       -4.19303167e-01,  1.80848166e+00,  6.09442815e-01, -5.09157115e-01,\n",
       "        7.84702662e-01, -5.41792985e-01, -5.72626048e-01,  2.86656030e-01,\n",
       "       -6.23030524e-01,  1.99042955e-01,  1.36328593e+00,  2.39479759e-01,\n",
       "       -1.14342273e-01, -5.64201714e-01,  4.06654744e-02,  9.67342225e-01,\n",
       "       -8.75902075e-01,  1.12234997e+00,  5.25907118e-01, -3.55278228e-01,\n",
       "       -1.76309175e-02, -8.99490211e-01,  1.84684270e+00, -4.41543409e-01,\n",
       "        3.64159904e-01,  5.41070920e-01, -5.87416679e-02, -5.40613578e-01,\n",
       "        9.80821160e-01,  2.36110025e-01, -1.05544769e-02, -3.88133131e-01,\n",
       "       -2.12401522e-01,  3.79323705e-01, -2.51153459e-01,  2.51273827e-01,\n",
       "       -7.26285902e-01, -3.53593361e-01, -4.91752440e-01,  5.77430346e-01,\n",
       "        1.32453399e+00,  1.46475111e-01, -5.77680648e-01,  1.14728600e+00,\n",
       "       -4.18929997e-02,  1.63117975e+00, -1.36110752e-01, -8.37150138e-01,\n",
       "       -3.53593361e-01, -5.49280533e-01, -3.81225177e-01,  1.13114748e-01,\n",
       "        1.21539082e-01, -2.86198689e-01, -5.69593288e-01,  4.18412615e-01,\n",
       "        4.75361114e-01, -1.04573665e+00,  7.92116076e-01, -2.85524742e-01,\n",
       "       -4.31097235e-01, -2.96644863e-01, -5.96214183e-01,  3.13276926e-01,\n",
       "        1.74356287e-01,  2.16228597e-01,  5.71771693e-02, -5.10622949e-01,\n",
       "       -8.44900526e-01, -8.19566332e-03, -5.11970842e-01,  4.06584850e-01,\n",
       "        7.98518570e-01,  8.71304816e-01,  5.39386053e-01,  1.12234997e+00,\n",
       "       -2.17793096e-01,  6.79965137e-03, -5.08227939e-02,  1.29589125e+00,\n",
       "        1.56715481e+00,  7.77325445e-02,  3.62744616e-01,  3.69942367e-01,\n",
       "        6.83947626e-01,  7.06561038e-02,  3.50343996e-01,  9.03317286e-01,\n",
       "        1.28746692e+00, -6.36987960e-01, -1.48619204e-01, -1.95215880e-01,\n",
       "        6.99448401e-01, -6.91240672e-01,  5.77801016e-01, -5.55777380e-01,\n",
       "        1.71576007e+00,  4.41663777e-01,  5.04003850e-01,  1.49507871e-01,\n",
       "       -2.07009948e-01, -2.79459221e-01,  1.68715353e-01, -2.19140989e-01,\n",
       "       -4.04139366e-01,  5.47810387e-01, -4.00769632e-01, -6.74392004e-01,\n",
       "        1.63660752e-01,  1.33333149e-01,  4.14705908e-01, -7.98398202e-01,\n",
       "       -2.78111328e-01,  2.79916563e-01,  4.11787719e-01,  4.07487939e-01,\n",
       "       -1.40397053e-01, -1.68931958e-01, -8.03648247e-01,  6.96813805e-03,\n",
       "       -7.34373262e-01, -3.04732224e-01,  5.34331452e-01,  2.77894723e-01,\n",
       "       -9.24390043e-02,  1.04353440e-01, -5.06916242e-01, -2.36964381e-02,\n",
       "       -4.81643240e-01, -7.65374812e-01,  5.84877457e-01, -1.48039609e-01,\n",
       "       -5.69256314e-01, -8.99153237e-01,  3.35854141e-01, -4.28569935e-01,\n",
       "        1.49507871e-01,  7.22870549e-02,  3.13445412e-01, -7.74810066e-01,\n",
       "        1.17458084e+00,  3.67529637e-01,  1.16278678e+00,  3.24565533e-01,\n",
       "       -2.24195590e-01,  5.57919588e-01,  1.09408041e-01, -2.98666703e-01,\n",
       "       -1.89318846e-01, -5.52407646e-01, -3.46685407e-01,  1.95130445e+00,\n",
       "       -3.24276679e-01,  1.63155292e-01,  4.93894649e-01,  1.14799614e-01,\n",
       "       -8.38835005e-01,  5.29613825e-01,  7.24215943e-01, -4.38342162e-01,\n",
       "        5.07373583e-01,  2.96401300e-01,  6.59384767e-02,  3.40234795e-01,\n",
       "       -5.33500941e-02, -7.13781690e-02, -7.45746113e-01, -8.17502092e-02,\n",
       "       -7.81549533e-01,  8.33482926e-01, -7.39764836e-01, -5.76332755e-01,\n",
       "       -2.98498216e-01, -8.33407235e-02, -3.87627671e-01,  3.07885352e-01,\n",
       "       -2.89568422e-01, -9.81675515e-02, -3.01867950e-01, -5.01885230e-01,\n",
       "        1.00339837e+00,  5.74635966e-02, -2.96341587e-01,  1.90149358e-02,\n",
       "       -1.47942137e+00,  2.00053876e-01, -1.02080062e+00,  5.15797917e-01,\n",
       "        4.73400465e-03, -1.45981572e-02, -9.09599412e-01,  2.26000825e-01,\n",
       "        2.81601430e-01, -1.69710616e+00, -2.47446752e-01, -3.77855443e-01,\n",
       "        2.00727822e-01,  3.75953971e-01, -2.02629294e-01,  1.00737129e+00,\n",
       "        7.89363003e-01,  1.21670251e+00,  9.66385221e-01,  4.21445376e-01,\n",
       "       -3.96052005e-01, -3.18211158e-01,  4.73676247e-01, -7.96207875e-01,\n",
       "        1.63454949e+00,  3.59105303e-01, -2.72719754e-01, -9.95527619e-01,\n",
       "        2.44534360e-01, -2.88220529e-01,  5.86562324e-01, -4.40195516e-01,\n",
       "        6.93082104e-02,  1.25545445e+00,  9.12114790e-02, -4.02081329e-02,\n",
       "       -6.24856919e-01,  5.15797917e-01, -4.81643240e-01, -2.32282950e-01,\n",
       "       -5.26761474e-02, -5.70604208e-01,  2.81601430e-01, -7.85532023e-03,\n",
       "       -4.32782102e-01, -2.81986521e-01, -8.47933286e-01, -1.11309513e-01,\n",
       "       -1.41300142e-01,  6.34486676e-01,  6.01840901e-05,  2.05913592e+00,\n",
       "       -8.82304569e-01,  9.67412119e-02, -9.06229678e-01, -7.57961398e-01,\n",
       "       -5.66998593e-01, -7.64249321e-01,  8.75047720e-02, -2.34810251e-01,\n",
       "        2.67111575e-01,  2.75235132e-02, -4.82592969e-03,  6.42536099e-02,\n",
       "       -1.77019319e-01, -4.02454499e-01, -9.31129510e-02,  2.55654481e-01,\n",
       "        1.08528290e+00,  3.92802640e-01, -2.61933237e-01, -7.85593214e-01,\n",
       "        2.86319057e-01, -1.99897311e-02,  1.75585990e+00,  3.89685636e-01,\n",
       "       -2.07009948e-01, -7.89937671e-02,  1.21097397e+00,  8.54456148e-01,\n",
       "        9.11741620e-01,  1.02456280e-01, -3.32027066e-01,  3.23723100e-01,\n",
       "       -2.22510723e-01, -1.30180021e-01,  3.40571768e-01,  6.38119249e-01,\n",
       "        6.75860265e-01,  3.45626369e-01, -2.43521012e-01,  2.37794892e-01,\n",
       "       -6.54811352e-02, -3.67072296e-01,  7.57107043e-02,  4.60197312e-01,\n",
       "       -2.22173749e-01,  1.04484610e+00,  1.51866685e-01,  1.32453399e+00,\n",
       "        7.44639028e-02, -4.76588639e-01, -3.92682271e-01, -1.64888278e-01,\n",
       "        2.39479759e-01, -5.12307816e-01,  3.37202035e-01, -3.63702562e-01,\n",
       "        1.04488230e-01,  1.14799614e-01, -1.68594985e-01,  2.46219226e-01,\n",
       "       -3.53593361e-01, -8.06449366e-02, -1.54779077e-01,  7.64147287e-01,\n",
       "        1.22158863e+00,  4.17064722e-01, -2.91253289e-01,  1.88259808e-01,\n",
       "        8.19073945e-01,  1.52166341e+00, -1.95215880e-01,  4.44359564e-01,\n",
       "        1.85564021e-01, -3.56289148e-01,  6.91060263e-02, -3.75833603e-01,\n",
       "        1.51997854e+00, -5.08938082e-01,  2.19261357e-01, -7.14154861e-01,\n",
       "       -2.19477962e-01,  2.44665529e+00,  1.57595232e-01,  2.40827653e-01,\n",
       "        1.40170089e+00,  3.23386127e-01, -1.02012668e+00, -3.89312538e-01,\n",
       "        1.91353759e-03, -1.05580965e-01,  7.70886754e-01,  1.90618621e-01,\n",
       "       -1.28027011e+00,  1.03847980e-01,  1.31311309e-01, -5.77343675e-01,\n",
       "        7.77325445e-02, -1.48376583e-01, -2.16745979e-02, -3.30005226e-01,\n",
       "        4.21506567e-03,  4.65251913e-01, -2.35652684e-01,  6.48902396e-01,\n",
       "       -1.68396170e-01, -1.56463943e-01,  1.03005547e-01, -2.32282950e-01,\n",
       "        3.92802640e-01,  1.76061372e-01,  1.23692092e+00, -7.34373262e-01,\n",
       "        4.52446925e-01, -1.00496287e+00, -7.19209461e-01, -1.00934353e+00,\n",
       "       -1.58148810e-01, -3.80551230e-01,  6.19585714e-01, -8.25356071e-01,\n",
       "        3.43941502e-01,  7.06561038e-02,  1.20227385e-02, -1.20952929e+00,\n",
       "        3.62744616e-01,  3.30462567e-01,  8.65300487e-03, -1.21081740e-01,\n",
       "        3.58636040e-02, -4.11970627e-01,  7.26406270e-01,  3.00134965e-01,\n",
       "       -1.34425885e-01, -3.00432443e-01,  4.83785448e-01, -3.18716618e-01,\n",
       "       -6.35640067e-01,  1.93988355e-01,  7.21014696e-01,  3.78517468e-02,\n",
       "        6.37108328e-01, -6.78772657e-01, -1.18048980e-01, -2.73056727e-01,\n",
       "        3.48996102e-01,  2.21283197e-01, -3.78866364e-01,  3.72957408e-02,\n",
       "        5.36016319e-01,  8.60858642e-01, -1.68594985e-01, -8.08844376e-01,\n",
       "       -2.32282950e-01, -9.90473019e-01, -6.93936459e-01,  2.38805812e-01,\n",
       "       -5.12307816e-01,  1.70063246e-01, -2.67291983e-02])"
      ]
     },
     "execution_count": 918,
     "metadata": {},
     "output_type": "execute_result"
    }
   ],
   "source": [
    "Y_valid_precd_boo"
   ]
  },
  {
   "cell_type": "code",
   "execution_count": 919,
   "id": "4280b6d5",
   "metadata": {},
   "outputs": [],
   "source": [
    "Y_valid_precd_boo_inverse = scaler.inverse_transform(Y_valid_precd_boo) # prédiction de notre variable "
   ]
  },
  {
   "cell_type": "code",
   "execution_count": 890,
   "id": "b1c42211",
   "metadata": {},
   "outputs": [],
   "source": [
    "R2_BOO=r2_score(Y_valid,Y_valid_precd_boo_inverse) "
   ]
  },
  {
   "cell_type": "code",
   "execution_count": 891,
   "id": "549676d6",
   "metadata": {},
   "outputs": [
    {
     "data": {
      "text/plain": [
       "-0.2684198001428104"
      ]
     },
     "execution_count": 891,
     "metadata": {},
     "output_type": "execute_result"
    }
   ],
   "source": [
    "R2_BOO # Mauvaise qualité du modèle"
   ]
  },
  {
   "cell_type": "code",
   "execution_count": 892,
   "id": "3a95c42a",
   "metadata": {},
   "outputs": [],
   "source": [
    "RMSE_Boo = mean_squared_error(Y_valid,Y_valid_precd_boo_inverse)"
   ]
  },
  {
   "cell_type": "code",
   "execution_count": 920,
   "id": "66df1ae0",
   "metadata": {},
   "outputs": [
    {
     "data": {
      "text/plain": [
       "4594368292.070074"
      ]
     },
     "execution_count": 920,
     "metadata": {},
     "output_type": "execute_result"
    }
   ],
   "source": [
    "RMSE_Boo # Mauvaise qualité de prédiction de notre variable SalePrice"
   ]
  },
  {
   "cell_type": "markdown",
   "id": "cb292fb9",
   "metadata": {},
   "source": [
    "OPTIMASATION DU MEILLEUR MODÈLE"
   ]
  },
  {
   "cell_type": "markdown",
   "id": "a08f549c",
   "metadata": {},
   "source": [
    "En général , tous nos modèles ne prédisent pas bien la vaiable SalePrice. Cependant , s'il faut faire un choix entre ces modèles , on choisira le modèle ayant le RMSE le plus petit. "
   ]
  },
  {
   "cell_type": "code",
   "execution_count": 922,
   "id": "a1635d15",
   "metadata": {},
   "outputs": [
    {
     "data": {
      "text/plain": [
       "4594368292.070074"
      ]
     },
     "execution_count": 922,
     "metadata": {},
     "output_type": "execute_result"
    }
   ],
   "source": [
    "RMSE_Boo# rsme du Boosting\n"
   ]
  },
  {
   "cell_type": "code",
   "execution_count": 923,
   "id": "4afd9b95",
   "metadata": {},
   "outputs": [
    {
     "data": {
      "text/plain": [
       "3865405505.725825"
      ]
     },
     "execution_count": 923,
     "metadata": {},
     "output_type": "execute_result"
    }
   ],
   "source": [
    "RMSE_rand # rmse du random_forest"
   ]
  },
  {
   "cell_type": "code",
   "execution_count": 924,
   "id": "e5c325d8",
   "metadata": {},
   "outputs": [
    {
     "data": {
      "text/plain": [
       "3991736755.83435"
      ]
     },
     "execution_count": 924,
     "metadata": {},
     "output_type": "execute_result"
    }
   ],
   "source": [
    "RMSE_BAG # rmse du Bagging"
   ]
  },
  {
   "cell_type": "code",
   "execution_count": 925,
   "id": "45212c22",
   "metadata": {},
   "outputs": [
    {
     "data": {
      "text/plain": [
       "7342216204.59057"
      ]
     },
     "execution_count": 925,
     "metadata": {},
     "output_type": "execute_result"
    }
   ],
   "source": [
    "RMSE_CART # rmse de l'arbre de décision"
   ]
  },
  {
   "cell_type": "markdown",
   "id": "0508e642",
   "metadata": {},
   "source": [
    "S'il faudrait choisir un modèle , on choisira le random_forest. "
   ]
  },
  {
   "cell_type": "markdown",
   "id": "12913767",
   "metadata": {},
   "source": [
    "Importation du la prédiction de SalePrice par random forest"
   ]
  },
  {
   "cell_type": "code",
   "execution_count": 930,
   "id": "bcd6904c",
   "metadata": {},
   "outputs": [],
   "source": [
    "submission=pd.DataFrame(Y_valid_predict_rand_inverse)\n",
    "submission.to_csv('submission.csv', index=False)"
   ]
  }
 ],
 "metadata": {
  "kernelspec": {
   "display_name": "Python 3",
   "language": "python",
   "name": "python3"
  },
  "language_info": {
   "codemirror_mode": {
    "name": "ipython",
    "version": 3
   },
   "file_extension": ".py",
   "mimetype": "text/x-python",
   "name": "python",
   "nbconvert_exporter": "python",
   "pygments_lexer": "ipython3",
   "version": "3.8.8"
  }
 },
 "nbformat": 4,
 "nbformat_minor": 5
}
